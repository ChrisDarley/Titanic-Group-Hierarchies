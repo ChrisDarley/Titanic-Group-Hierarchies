{
 "cells": [
  {
   "cell_type": "code",
   "execution_count": 1,
   "id": "d91ab9df",
   "metadata": {},
   "outputs": [],
   "source": [
    "# A main concept in my model is classifying passengers based on\n",
    "# information about their groups, whether its their family group\n",
    "# or their ticket group.  This is inspired by the following kaggle\n",
    "# notebook: \n",
    "# https://www.kaggle.com/cdeotte/titanic-using-name-only-0-81818\n",
    "# The above notebook achieves strong results by classifying women to survive\n",
    "# and men to die, except it predicts boys live when they are part of group\n",
    "# in which all women and other children live, and it predicts women die when\n",
    "# all other women and children in the group die.\n",
    "\n",
    "# The goal of my notebook is to create a similar rule based model to the \n",
    "# example above, but to improve in certain areas, and to come to my own rule\n",
    "# conclusions. Specifically, I want to be a bit more detail oriented in \n",
    "# breaking the passengers into distinct groups, and I want to  \n",
    "# focus on classifications for passengers traveling alone where grouping by\n",
    "# family is not applicable.  I explore whether families tend to have \n",
    "# survival heirarchies. For example, does a boy surviving imply that a girl\n",
    "# will likely survive?  Will a man surviving imply that his wife is more \n",
    "# likely to survive?\n",
    "\n",
    "# I use sklearn pipeline functionality in the beginning, but eventually just\n",
    "# start using straight pandas for easy column name handling without having\n",
    "# to write a large number of custom transformers."
   ]
  },
  {
   "cell_type": "code",
   "execution_count": 2,
   "id": "aee7b088",
   "metadata": {},
   "outputs": [],
   "source": [
    "import pandas as pd\n",
    "import numpy as np\n",
    "from pathlib import Path\n",
    "import seaborn as sns\n",
    "import matplotlib.pyplot as plt\n",
    "from sklearn.compose import ColumnTransformer\n",
    "from sklearn.pipeline import Pipeline, FeatureUnion\n",
    "from sklearn.base import BaseEstimator, TransformerMixin\n",
    "from sklearn.preprocessing import OrdinalEncoder, OneHotEncoder\n",
    "from pandas.api.types import CategoricalDtype\n",
    "from sklearn.model_selection import GridSearchCV\n",
    "from sklearn.feature_selection import SequentialFeatureSelector\n",
    "import collections\n",
    "\n",
    "# train_file is going to be split into train and test, and then the \n",
    "# resulting that model will be used to predict the test_file on kaggle\n",
    "\n",
    "def load_data():\n",
    "    \"\"\"Loads the three files provided by Kaggle\"\"\"\n",
    "    data_folder = Path(\n",
    "#         'C:/Users/chris/OneDrive/Desktop/Machine Learning/Kaggle/titanic/')\n",
    "        'C:/Users/chris/Machine Learning/Kaggle/titanic')\n",
    "\n",
    "    gender_file = data_folder / 'gender_submission.csv'\n",
    "    test_file = data_folder / 'test.csv'\n",
    "    train_file = data_folder / 'train.csv'\n",
    "                   \n",
    "    sample_gender_submission = pd.read_csv(gender_file)\n",
    "    test = pd.read_csv(test_file)\n",
    "    train = pd.read_csv(train_file)\n",
    "    \n",
    "    return sample_gender_submission, test, train"
   ]
  },
  {
   "cell_type": "code",
   "execution_count": 3,
   "id": "dedfa43f",
   "metadata": {},
   "outputs": [],
   "source": [
    "def create_initial_datasets():\n",
    "    _, test, train = load_data()\n",
    "    x_train = train.drop(columns=\"Survived\").copy()\n",
    "    y_train = train[\"Survived\"].copy()\n",
    "    x_test = test\n",
    "    \n",
    "    return x_train, y_train, x_test"
   ]
  },
  {
   "cell_type": "code",
   "execution_count": 4,
   "id": "2523e01f",
   "metadata": {},
   "outputs": [],
   "source": [
    "class DropColumns(BaseEstimator, TransformerMixin):\n",
    "    \"\"\"Drops specified list of columns from train or test dataframe\"\"\"\n",
    "    \n",
    "    def __init__(self, cols_to_drop):\n",
    "        self.cols_to_drop = cols_to_drop\n",
    "        \n",
    "    def fit(self, X, y=None):\n",
    "        return self\n",
    "    \n",
    "    def transform(self, X):\n",
    "        X = X.copy()\n",
    "        X = X.drop(columns=self.cols_to_drop)\n",
    "        \n",
    "        return X"
   ]
  },
  {
   "cell_type": "code",
   "execution_count": 5,
   "id": "99d9ceea",
   "metadata": {},
   "outputs": [],
   "source": [
    "class TitleExtractor(BaseEstimator, TransformerMixin):\n",
    "    \"\"\"Extracts title from name variable\"\"\"\n",
    "    \n",
    "    def __init__(self, copy=True):\n",
    "        self.copy = copy\n",
    "        \n",
    "    def fit(self, X, y=None):\n",
    "        self.n_features_in = 1\n",
    "        \n",
    "        return self\n",
    "\n",
    "    def get_title(name):\n",
    "        title = next(filter(lambda x: \".\" in x, str(name).split()))\n",
    "        return title\n",
    "    \n",
    "    def transform(self, X):\n",
    "        name_raw = X.copy()\n",
    "        title =  name_raw.apply(TitleExtractor.get_title)\n",
    "        title = pd.DataFrame(title)\n",
    "        \n",
    "        return title "
   ]
  },
  {
   "cell_type": "code",
   "execution_count": 6,
   "id": "dd69e70b",
   "metadata": {},
   "outputs": [],
   "source": [
    "class CabinExtractor(BaseEstimator, TransformerMixin):\n",
    "    \"\"\"Extracts first letter appearing in cabin series.\"\"\"\n",
    "    \n",
    "    def __init__(self, copy=True):\n",
    "        self.copy = copy\n",
    "    \n",
    "    def fit(self, X, y=None):\n",
    "        return self\n",
    "    \n",
    "    def first_letter(cabin):\n",
    "        if type(cabin) == str:\n",
    "            letter = next(filter(lambda x: x.isalpha(), cabin))\n",
    "            return letter\n",
    "\n",
    "    def transform(self, X):\n",
    "        cabin_raw = X.copy()\n",
    "        cabin_letters = cabin_raw.apply(CabinExtractor.first_letter)\n",
    "        cabin_letters = pd.DataFrame(cabin_letters)\n",
    "        \n",
    "        return cabin_letters"
   ]
  },
  {
   "cell_type": "code",
   "execution_count": 7,
   "id": "330a945a",
   "metadata": {},
   "outputs": [],
   "source": [
    "# Here I am creating the pipelines that will be part of the column \n",
    "# transformer.  I have to specify the categories because in both title and\n",
    "# cabin, train and test each have values unseen in the other set.  \n",
    "# Without presetting labels, the transformed train and test sets would have \n",
    "# a different number of columns and predicting would be impossible.\n",
    "\n",
    "def get_title_values(x_train, x_test):\n",
    "    te = TitleExtractor()\n",
    "    train_titles = np.unique(te.transform(x_train.Name))\n",
    "    test_titles = np.unique(te.transform(x_test.Name))\n",
    "    title_values = np.unique(np.concatenate([train_titles, test_titles]))\n",
    "    \n",
    "    return title_values\n",
    "\n",
    "x_train, y_train, x_test = create_initial_datasets()\n",
    "\n",
    "title_values = get_title_values(x_train, x_test)\n",
    "title_pipe = Pipeline([(\"title extractor\", TitleExtractor()),\n",
    "                       (\"title dummy encoder\", OneHotEncoder(\n",
    "                           categories = [title_values],\n",
    "                           handle_unknown='ignore'))])\n",
    "\n",
    "cab_categories = np.array([\"T\", \"A\", \"B\", \"C\", \"D\", \"E\", \"F\", \"G\"])\n",
    "cabin_pipe = Pipeline([(\"cabin extractor\", CabinExtractor()),\n",
    "                       (\"ordinal encoder\", OrdinalEncoder(\n",
    "                           categories=[cab_categories], handle_unknown=\n",
    "                           'use_encoded_value', unknown_value=np.nan))])\n",
    "\n",
    "sex_values = np.array([\"male\", \"female\"])\n",
    "\n",
    "embarked_values = np.array([\"S\", \"C\", \"Q\"])"
   ]
  },
  {
   "cell_type": "code",
   "execution_count": 8,
   "id": "172914e1",
   "metadata": {},
   "outputs": [],
   "source": [
    "# creating the column transformer that will implement sklearn encoders and\n",
    "# custom transformers\n",
    "\n",
    "ct = ColumnTransformer(\n",
    "    [(\"title pipe\", title_pipe, \"Name\"),\n",
    "     (\"cabin pipe\", cabin_pipe, \"Cabin\"),\n",
    "     (\"sex encoder\", OrdinalEncoder(\n",
    "         categories=[sex_values]), [\"Sex\"]),\n",
    "     (\"embarked encoder\", OneHotEncoder(\n",
    "         categories=[embarked_values], handle_unknown='ignore'),\n",
    "      [\"Embarked\"])],\n",
    "    remainder='passthrough')"
   ]
  },
  {
   "cell_type": "code",
   "execution_count": 9,
   "id": "4c128536",
   "metadata": {},
   "outputs": [],
   "source": [
    "# preprocessor drops unused columns and then uses the column transsformer\n",
    "\n",
    "preprocessor = Pipeline(\n",
    "    [(\"drop columns\", DropColumns([\"PassengerId\"])),\n",
    "     (\"column transformer\", ct)])"
   ]
  },
  {
   "cell_type": "code",
   "execution_count": 10,
   "id": "c307f197",
   "metadata": {},
   "outputs": [],
   "source": [
    "# transforming the train and test sets, output is arrays\n",
    "\n",
    "x_train_transformed = preprocessor.fit_transform(x_train)\n",
    "x_test_transformed = preprocessor.fit_transform(x_test)"
   ]
  },
  {
   "cell_type": "code",
   "execution_count": 11,
   "id": "bace8080",
   "metadata": {},
   "outputs": [],
   "source": [
    "# Now, I want to specify the columns of the transformed train and test\n",
    "# arrays and create dataframes.  Because I did not implement \n",
    "# get_feature_names_out and related methods in my custom transformers,\n",
    "# this must be done manually.\n",
    "\n",
    "# the order of the original_columns list is based on the order I processed\n",
    "# variables in the column_transformer.  Name, Cabin, Sex and Embarked are\n",
    "# first, and then the passthrough columns in the order they appeared in the \n",
    "# original dataset\n",
    "original_columns = [\"Name\", \"Cabin\", \"Sex\", \"Embarked\", \"Pclass\", \"Age\", \n",
    "                    \"SibSp\", \"Parch\", \"Ticket\",\"Fare\"]\n",
    "\n",
    "#The different title categories contained in test and train\n",
    "name_columns = list(preprocessor.steps[1][1].transformers[0][1].\\\n",
    "             steps[1][1].categories[0])\n",
    "\n",
    "# The different embarked categories in test and train.  This is set for the \n",
    "# purpose of handling nan values, seen in train but not test\n",
    "embarked_columns = list(preprocessor.steps[1][1].transformers[3][1].\\\n",
    "                        categories[0])"
   ]
  },
  {
   "cell_type": "code",
   "execution_count": 12,
   "id": "529c21d7",
   "metadata": {},
   "outputs": [],
   "source": [
    "# The following three functions create the labels of the transformed train\n",
    "# and test dataframes\n",
    "def get_nested_column_names(original_columns, name_columns, \n",
    "                                 embarked_columns):\n",
    "    transformed_names = original_columns.copy()\n",
    "    name_columns = name_columns.copy()\n",
    "    embarked_columns = embarked_columns.copy()\n",
    "    name_index = transformed_names.index(\"Name\")\n",
    "    embarked_index = transformed_names.index(\"Embarked\")\n",
    "    transformed_names.remove(\"Name\")\n",
    "    transformed_names.insert(name_index, name_columns)\n",
    "    transformed_names.remove(\"Embarked\")\n",
    "    transformed_names.insert(embarked_index, embarked_columns)\n",
    "    \n",
    "    return transformed_names"
   ]
  },
  {
   "cell_type": "code",
   "execution_count": 13,
   "id": "591cb0ed",
   "metadata": {},
   "outputs": [],
   "source": [
    "def flatten_transformed_names(transformed_names):\n",
    "    flat_columns = list()\n",
    "    for item in transformed_names:\n",
    "        if type(item) == str:\n",
    "            flat_columns.append(item)\n",
    "        elif type(item) == list:\n",
    "            for element in item:\n",
    "                flat_columns.append(element)\n",
    "        else:\n",
    "            pass\n",
    "   \n",
    "    return flat_columns"
   ]
  },
  {
   "cell_type": "code",
   "execution_count": 14,
   "id": "d19b0ed2",
   "metadata": {},
   "outputs": [],
   "source": [
    "def get_transformed_column_names(original_columns, name_columns, \n",
    "                                 embarked_columns):\n",
    "    transformed_names = get_nested_column_names(\n",
    "        original_columns, name_columns, embarked_columns)\n",
    "    \n",
    "    flat_transformed_names = flatten_transformed_names(transformed_names)\n",
    "    \n",
    "    return flat_transformed_names"
   ]
  },
  {
   "cell_type": "code",
   "execution_count": 15,
   "id": "a342bf93",
   "metadata": {},
   "outputs": [],
   "source": [
    "# creating the train and test transformed dataframes\n",
    "transformed_column_names = get_transformed_column_names(\n",
    "    original_columns, name_columns, embarked_columns)\n",
    "\n",
    "\n",
    "x_train_transformed_df = pd.DataFrame(x_train_transformed, \n",
    "                          columns=transformed_column_names)\n",
    "x_test_transformed_df = pd.DataFrame(x_test_transformed,\n",
    "                          columns=transformed_column_names)\n",
    "\n",
    "# casting all column types to str\n",
    "x_train_transformed_df.columns = x_train_transformed_df.columns.astype(str)\n",
    "x_test_transformed_df.columns = x_test_transformed_df.columns.astype(str)"
   ]
  },
  {
   "cell_type": "code",
   "execution_count": null,
   "id": "f09c8e24",
   "metadata": {},
   "outputs": [],
   "source": []
  },
  {
   "cell_type": "code",
   "execution_count": 16,
   "id": "3ff4d8bb",
   "metadata": {},
   "outputs": [],
   "source": [
    "# From this point on, I will be doing transformations in pandas.  Ideally, \n",
    "# everything would be wrapped up in custom transformers in a big pipeline, \n",
    "# but I do not yet know how to fully support get_feature_names_out, \n",
    "# so for simplicity I am relying on pandas."
   ]
  },
  {
   "cell_type": "code",
   "execution_count": null,
   "id": "5505f174",
   "metadata": {},
   "outputs": [],
   "source": []
  },
  {
   "cell_type": "code",
   "execution_count": 17,
   "id": "433a380d",
   "metadata": {},
   "outputs": [],
   "source": [
    "train_transformed = pd.concat([x_train_transformed_df, y_train], axis=1)"
   ]
  },
  {
   "cell_type": "code",
   "execution_count": 18,
   "id": "d291b9d0",
   "metadata": {},
   "outputs": [],
   "source": [
    "# Adding the family_members feature (# of family members not including the \n",
    "# passenger themselves)\n",
    "train_transformed[\"family_members\"] = train_transformed[\"SibSp\"] + \\\n",
    "    train_transformed[\"Parch\"]\n",
    "x_test_transformed_df[\"family_members\"] = x_test_transformed_df[\"SibSp\"] +\\\n",
    "    x_test_transformed_df[\"Parch\"]"
   ]
  },
  {
   "cell_type": "code",
   "execution_count": 19,
   "id": "34ddbf29",
   "metadata": {},
   "outputs": [],
   "source": [
    "# Adding the family_size variable, which counts the current passenger.  \n",
    "# This is based on the family_members variable, which excludes the current \n",
    "# passenger.  Both variables will be convenient to have for different \n",
    "# calculations\n",
    "train_transformed[\"family_size\"] = train_transformed[\"family_members\"] + 1\n",
    "x_test_transformed_df[\"family_size\"] = x_test_transformed_df[\n",
    "    \"family_members\"] + 1"
   ]
  },
  {
   "cell_type": "code",
   "execution_count": 20,
   "id": "1660b708",
   "metadata": {},
   "outputs": [],
   "source": [
    "# Adding the Lname variable\n",
    "train_transformed[\"lname\"] = x_train[\"Name\"].copy().apply(lambda x: str(x).split()[0].replace(',', ''))\n",
    "x_test_transformed_df[\"lname\"] = x_test[\"Name\"].copy().apply(lambda x: str(x).split()[0].replace(',', ''))"
   ]
  },
  {
   "cell_type": "code",
   "execution_count": 21,
   "id": "0850ac8a",
   "metadata": {},
   "outputs": [],
   "source": [
    "# Adding the true_family_size variable.  This is the total number of \n",
    "# passengers with the same last name observed in train and test combined.\n",
    "# This is different than family_members and family_size, which are both \n",
    "# based on Parch and SibSp\n",
    "\n",
    "# First step is to counts the occurences of each last name in a dictionary\n",
    "lname_train_test = train_transformed[\"lname\"].append(\n",
    "    x_test_transformed_df[\"lname\"])\n",
    "lname_counts = lname_train_test.value_counts().to_dict()\n",
    "\n",
    "# Adding the lname counts to each passenger\n",
    "train_transformed[\"true_family_size\"] = train_transformed[\n",
    "    \"lname\"].copy().apply(lambda x: lname_counts.get(x))\n",
    "\n",
    "x_test_transformed_df[\"true_family_size\"] = x_test_transformed_df[\n",
    "    \"lname\"].copy().apply(lambda x: lname_counts.get(x))"
   ]
  },
  {
   "cell_type": "code",
   "execution_count": 22,
   "id": "c489591d",
   "metadata": {},
   "outputs": [],
   "source": [
    "# Adding the ticket_totals variable (necessary for calculating fare)\n",
    "\n",
    "# appending the train and test ticket columns\n",
    "train_test_ticket = train_transformed[\"Ticket\"].append(\n",
    "    x_test_transformed_df[\"Ticket\"])\n",
    "\n",
    "# putting the number of occurences for each ticket in a dictionary\n",
    "ticket_totals =  train_test_ticket.value_counts().to_dict()\n",
    "\n",
    "# Creating the ticket_totals variable for each passenger (total people \n",
    "# including the passenger who shared their ticket number)\n",
    "train_transformed[\"ticket_totals\"] = train_transformed[\"Ticket\"].copy\\\n",
    "    ().apply(lambda x: ticket_totals.get(x))\n",
    "x_test_transformed_df[\"ticket_totals\"] = x_test_transformed_df[\n",
    "    \"Ticket\"].copy().apply(lambda x: ticket_totals.get(x))"
   ]
  },
  {
   "cell_type": "code",
   "execution_count": 23,
   "id": "0dc7df3a",
   "metadata": {
    "scrolled": true
   },
   "outputs": [],
   "source": [
    "# Recalculating fare: divide fare by number of passengers sharing the ticket\n",
    "# across train and test datasets\n",
    "\n",
    "\n",
    "# According to encyclopedia titanica, there were 1317 passengers aboard the \n",
    "# titanic, and train and test combined have a 1309 passengers.  Therefore, \n",
    "# calculated rates fares should be accurate with a few exceptions.\n",
    "\n",
    "# My fare calculations assume each all passengers sharing a common ticket \n",
    "# number have the same fare, which may be wrong in some cases.  This could\n",
    "# be done in more depth, but I am going to let it be.\n",
    "\n",
    "train_transformed[\"fare_calculated\"] = train_transformed[\"Fare\"] / \\\n",
    "    train_transformed[\"ticket_totals\"]\n",
    "x_test_transformed_df[\"fare_calculated\"] = x_test_transformed_df[\"Fare\"] / \\\n",
    "    x_test_transformed_df[\"ticket_totals\"]"
   ]
  },
  {
   "cell_type": "code",
   "execution_count": 24,
   "id": "fd949b0b",
   "metadata": {},
   "outputs": [],
   "source": [
    "# Splitting the fare into seperate columns based on port of embarktion\n",
    "# Creating the feature combinations of fare and embarktion port\n",
    "train_transformed[\"c_fare\"] = \\\n",
    "    train_transformed[\"C\"]*train_transformed[\"fare_calculated\"]\n",
    "train_transformed[\"q_fare\"] = \\\n",
    "    train_transformed[\"Q\"]*train_transformed[\"fare_calculated\"]\n",
    "train_transformed[\"s_fare\"] = \\\n",
    "    train_transformed[\"S\"]*train_transformed[\"fare_calculated\"]\n",
    "\n",
    "train_transformed[[\"c_fare\", \"q_fare\", \"s_fare\"]] = train_transformed[\n",
    "    [\"c_fare\", \"q_fare\", \"s_fare\"]].replace(0, np.nan)\n",
    "\n",
    "\n",
    "x_test_transformed_df[\"c_fare\"] = \\\n",
    "    x_test_transformed_df[\"C\"]*x_test_transformed_df[\"fare_calculated\"]\n",
    "x_test_transformed_df[\"q_fare\"] = \\\n",
    "    x_test_transformed_df[\"Q\"]*x_test_transformed_df[\"fare_calculated\"]\n",
    "x_test_transformed_df[\"s_fare\"] = \\\n",
    "    x_test_transformed_df[\"S\"]*x_test_transformed_df[\"fare_calculated\"]\n",
    "\n",
    "x_test_transformed_df[[\"c_fare\", \"q_fare\", \"s_fare\"]] = \\\n",
    "    x_test_transformed_df[[\"c_fare\", \"q_fare\", \"s_fare\"]].replace(0, np.nan)"
   ]
  },
  {
   "cell_type": "code",
   "execution_count": 25,
   "id": "e61bfe73",
   "metadata": {},
   "outputs": [],
   "source": [
    "c_fare_df = train_transformed[[\"c_fare\", \"Survived\"]].copy()\n",
    "q_fare_df = train_transformed[[\"q_fare\", \"Survived\"]].copy()\n",
    "s_fare_df = train_transformed[[\"s_fare\", \"Survived\"]].copy()"
   ]
  },
  {
   "cell_type": "code",
   "execution_count": 26,
   "id": "9b7e00bc",
   "metadata": {},
   "outputs": [
    {
     "data": {
      "text/plain": [
       "<seaborn.axisgrid.FacetGrid at 0x180261a6df0>"
      ]
     },
     "execution_count": 26,
     "metadata": {},
     "output_type": "execute_result"
    },
    {
     "data": {
      "image/png": "[encoded data removed]",
      "text/plain": [
       "<Figure size 411.875x360 with 1 Axes>"
      ]
     },
     "metadata": {
      "needs_background": "light"
     },
     "output_type": "display_data"
    }
   ],
   "source": [
    "# Fare distributions of surviving and dying passengers from c port\n",
    "sns.displot(c_fare_df, x=\"c_fare\", hue=\"Survived\", kind=\"kde\")"
   ]
  },
  {
   "cell_type": "code",
   "execution_count": 27,
   "id": "4a2d1c3f",
   "metadata": {},
   "outputs": [
    {
     "data": {
      "text/plain": [
       "<seaborn.axisgrid.FacetGrid at 0x18026494700>"
      ]
     },
     "execution_count": 27,
     "metadata": {},
     "output_type": "execute_result"
    },
    {
     "data": {
      "image/png": "[encoded data removed]",
      "text/plain": [
       "<Figure size 411.875x360 with 1 Axes>"
      ]
     },
     "metadata": {
      "needs_background": "light"
     },
     "output_type": "display_data"
    }
   ],
   "source": [
    "# Fare distributions of surviving and dying passengers from q port\n",
    "sns.displot(q_fare_df, x=\"q_fare\", hue=\"Survived\", kind=\"kde\")"
   ]
  },
  {
   "cell_type": "code",
   "execution_count": 28,
   "id": "9af17d7d",
   "metadata": {},
   "outputs": [
    {
     "data": {
      "text/plain": [
       "<seaborn.axisgrid.FacetGrid at 0x18020d33430>"
      ]
     },
     "execution_count": 28,
     "metadata": {},
     "output_type": "execute_result"
    },
    {
     "data": {
      "image/png": "[encoded data removed]",
      "text/plain": [
       "<Figure size 411.875x360 with 1 Axes>"
      ]
     },
     "metadata": {
      "needs_background": "light"
     },
     "output_type": "display_data"
    }
   ],
   "source": [
    "# Fare distributions of surviving and dying passengers from s port\n",
    "sns.displot(s_fare_df, x=\"s_fare\", hue=\"Survived\", kind=\"kde\")"
   ]
  },
  {
   "cell_type": "code",
   "execution_count": 29,
   "id": "f8ca75d0",
   "metadata": {},
   "outputs": [
    {
     "data": {
      "text/html": [
       "<div>\n",
       "<style scoped>\n",
       "    .dataframe tbody tr th:only-of-type {\n",
       "        vertical-align: middle;\n",
       "    }\n",
       "\n",
       "    .dataframe tbody tr th {\n",
       "        vertical-align: top;\n",
       "    }\n",
       "\n",
       "    .dataframe thead th {\n",
       "        text-align: right;\n",
       "    }\n",
       "</style>\n",
       "<table border=\"1\" class=\"dataframe\">\n",
       "  <thead>\n",
       "    <tr style=\"text-align: right;\">\n",
       "      <th></th>\n",
       "      <th>c_fare</th>\n",
       "    </tr>\n",
       "    <tr>\n",
       "      <th>Survived</th>\n",
       "      <th></th>\n",
       "    </tr>\n",
       "  </thead>\n",
       "  <tbody>\n",
       "    <tr>\n",
       "      <th>0</th>\n",
       "      <td>18.001647</td>\n",
       "    </tr>\n",
       "    <tr>\n",
       "      <th>1</th>\n",
       "      <td>28.531056</td>\n",
       "    </tr>\n",
       "  </tbody>\n",
       "</table>\n",
       "</div>"
      ],
      "text/plain": [
       "             c_fare\n",
       "Survived           \n",
       "0         18.001647\n",
       "1         28.531056"
      ]
     },
     "execution_count": 29,
     "metadata": {},
     "output_type": "execute_result"
    }
   ],
   "source": [
    "c_fare_df.groupby(\"Survived\").mean()"
   ]
  },
  {
   "cell_type": "code",
   "execution_count": 30,
   "id": "5b40b520",
   "metadata": {},
   "outputs": [
    {
     "data": {
      "text/html": [
       "<div>\n",
       "<style scoped>\n",
       "    .dataframe tbody tr th:only-of-type {\n",
       "        vertical-align: middle;\n",
       "    }\n",
       "\n",
       "    .dataframe tbody tr th {\n",
       "        vertical-align: top;\n",
       "    }\n",
       "\n",
       "    .dataframe thead th {\n",
       "        text-align: right;\n",
       "    }\n",
       "</style>\n",
       "<table border=\"1\" class=\"dataframe\">\n",
       "  <thead>\n",
       "    <tr style=\"text-align: right;\">\n",
       "      <th></th>\n",
       "      <th>q_fare</th>\n",
       "    </tr>\n",
       "    <tr>\n",
       "      <th>Survived</th>\n",
       "      <th></th>\n",
       "    </tr>\n",
       "  </thead>\n",
       "  <tbody>\n",
       "    <tr>\n",
       "      <th>0</th>\n",
       "      <td>7.967730</td>\n",
       "    </tr>\n",
       "    <tr>\n",
       "      <th>1</th>\n",
       "      <td>8.837227</td>\n",
       "    </tr>\n",
       "  </tbody>\n",
       "</table>\n",
       "</div>"
      ],
      "text/plain": [
       "            q_fare\n",
       "Survived          \n",
       "0         7.967730\n",
       "1         8.837227"
      ]
     },
     "execution_count": 30,
     "metadata": {},
     "output_type": "execute_result"
    }
   ],
   "source": [
    "q_fare_df.groupby(\"Survived\").mean()"
   ]
  },
  {
   "cell_type": "code",
   "execution_count": 31,
   "id": "cb756b8e",
   "metadata": {
    "scrolled": true
   },
   "outputs": [
    {
     "data": {
      "text/html": [
       "<div>\n",
       "<style scoped>\n",
       "    .dataframe tbody tr th:only-of-type {\n",
       "        vertical-align: middle;\n",
       "    }\n",
       "\n",
       "    .dataframe tbody tr th {\n",
       "        vertical-align: top;\n",
       "    }\n",
       "\n",
       "    .dataframe thead th {\n",
       "        text-align: right;\n",
       "    }\n",
       "</style>\n",
       "<table border=\"1\" class=\"dataframe\">\n",
       "  <thead>\n",
       "    <tr style=\"text-align: right;\">\n",
       "      <th></th>\n",
       "      <th>s_fare</th>\n",
       "    </tr>\n",
       "    <tr>\n",
       "      <th>Survived</th>\n",
       "      <th></th>\n",
       "    </tr>\n",
       "  </thead>\n",
       "  <tbody>\n",
       "    <tr>\n",
       "      <th>0</th>\n",
       "      <td>11.062544</td>\n",
       "    </tr>\n",
       "    <tr>\n",
       "      <th>1</th>\n",
       "      <td>17.004991</td>\n",
       "    </tr>\n",
       "  </tbody>\n",
       "</table>\n",
       "</div>"
      ],
      "text/plain": [
       "             s_fare\n",
       "Survived           \n",
       "0         11.062544\n",
       "1         17.004991"
      ]
     },
     "execution_count": 31,
     "metadata": {},
     "output_type": "execute_result"
    }
   ],
   "source": [
    "s_fare_df.groupby(\"Survived\").mean()"
   ]
  },
  {
   "cell_type": "code",
   "execution_count": 32,
   "id": "5d29107f",
   "metadata": {},
   "outputs": [],
   "source": [
    "# These plots and survival means are evidence in favor of splitting the fare\n",
    "# variable into three variables based on port of embarktion.  \n",
    "# The three ports each have distinct distributions of fare for passengers\n",
    "# who survived and for those who died\n",
    "\n",
    "# Specifically, the q port had similar fare distributions for those who \n",
    "# lived and those who died.\n",
    "\n",
    "# The average survivor in groups c and s has a fair ~1.55 times that of the\n",
    "# average dead passenger, and the mean survivor and dead passenger from \n",
    "# port c have fares ~1.64 higher than survivors and dead passengers from s"
   ]
  },
  {
   "cell_type": "code",
   "execution_count": 33,
   "id": "4c32d7c5",
   "metadata": {},
   "outputs": [],
   "source": [
    "# It is also possible that Pclass is the more important variable to combine\n",
    "# to combine with Fare.  Lets look at the similar relationships between \n",
    "# different passenger classes, fare, and survival"
   ]
  },
  {
   "cell_type": "code",
   "execution_count": 34,
   "id": "8b343ec7",
   "metadata": {},
   "outputs": [],
   "source": [
    "Pclass_fare_calculated_df = train_transformed[\n",
    "    [\"fare_calculated\", \"Pclass\", \"Survived\"]].copy()"
   ]
  },
  {
   "cell_type": "code",
   "execution_count": 35,
   "id": "7b4af507",
   "metadata": {},
   "outputs": [
    {
     "data": {
      "text/html": [
       "<div>\n",
       "<style scoped>\n",
       "    .dataframe tbody tr th:only-of-type {\n",
       "        vertical-align: middle;\n",
       "    }\n",
       "\n",
       "    .dataframe tbody tr th {\n",
       "        vertical-align: top;\n",
       "    }\n",
       "\n",
       "    .dataframe thead th {\n",
       "        text-align: right;\n",
       "    }\n",
       "</style>\n",
       "<table border=\"1\" class=\"dataframe\">\n",
       "  <thead>\n",
       "    <tr style=\"text-align: right;\">\n",
       "      <th></th>\n",
       "      <th></th>\n",
       "      <th>fare_calculated</th>\n",
       "    </tr>\n",
       "    <tr>\n",
       "      <th>Pclass</th>\n",
       "      <th>Survived</th>\n",
       "      <th></th>\n",
       "    </tr>\n",
       "  </thead>\n",
       "  <tbody>\n",
       "    <tr>\n",
       "      <th rowspan=\"2\" valign=\"top\">1</th>\n",
       "      <th>0</th>\n",
       "      <td>29.700</td>\n",
       "    </tr>\n",
       "    <tr>\n",
       "      <th>1</th>\n",
       "      <td>30.000</td>\n",
       "    </tr>\n",
       "    <tr>\n",
       "      <th rowspan=\"2\" valign=\"top\">2</th>\n",
       "      <th>0</th>\n",
       "      <td>12.875</td>\n",
       "    </tr>\n",
       "    <tr>\n",
       "      <th>1</th>\n",
       "      <td>12.000</td>\n",
       "    </tr>\n",
       "    <tr>\n",
       "      <th rowspan=\"2\" valign=\"top\">3</th>\n",
       "      <th>0</th>\n",
       "      <td>7.750</td>\n",
       "    </tr>\n",
       "    <tr>\n",
       "      <th>1</th>\n",
       "      <td>7.750</td>\n",
       "    </tr>\n",
       "  </tbody>\n",
       "</table>\n",
       "</div>"
      ],
      "text/plain": [
       "                 fare_calculated\n",
       "Pclass Survived                 \n",
       "1      0                  29.700\n",
       "       1                  30.000\n",
       "2      0                  12.875\n",
       "       1                  12.000\n",
       "3      0                   7.750\n",
       "       1                   7.750"
      ]
     },
     "execution_count": 35,
     "metadata": {},
     "output_type": "execute_result"
    }
   ],
   "source": [
    "# median fares of all pclasses by survival\n",
    "Pclass_fare_calculated_df.groupby([\"Pclass\", \"Survived\"]).median()"
   ]
  },
  {
   "cell_type": "code",
   "execution_count": 36,
   "id": "06ce29a4",
   "metadata": {},
   "outputs": [
    {
     "data": {
      "text/html": [
       "<div>\n",
       "<style scoped>\n",
       "    .dataframe tbody tr th:only-of-type {\n",
       "        vertical-align: middle;\n",
       "    }\n",
       "\n",
       "    .dataframe tbody tr th {\n",
       "        vertical-align: top;\n",
       "    }\n",
       "\n",
       "    .dataframe thead th {\n",
       "        text-align: right;\n",
       "    }\n",
       "</style>\n",
       "<table border=\"1\" class=\"dataframe\">\n",
       "  <thead>\n",
       "    <tr style=\"text-align: right;\">\n",
       "      <th></th>\n",
       "      <th>Survived</th>\n",
       "    </tr>\n",
       "    <tr>\n",
       "      <th>Pclass</th>\n",
       "      <th></th>\n",
       "    </tr>\n",
       "  </thead>\n",
       "  <tbody>\n",
       "    <tr>\n",
       "      <th>1</th>\n",
       "      <td>0.629630</td>\n",
       "    </tr>\n",
       "    <tr>\n",
       "      <th>2</th>\n",
       "      <td>0.472826</td>\n",
       "    </tr>\n",
       "    <tr>\n",
       "      <th>3</th>\n",
       "      <td>0.242363</td>\n",
       "    </tr>\n",
       "  </tbody>\n",
       "</table>\n",
       "</div>"
      ],
      "text/plain": [
       "        Survived\n",
       "Pclass          \n",
       "1       0.629630\n",
       "2       0.472826\n",
       "3       0.242363"
      ]
     },
     "execution_count": 36,
     "metadata": {},
     "output_type": "execute_result"
    }
   ],
   "source": [
    "# Survival percentages by Pclass\n",
    "Pclass_fare_calculated_df.groupby([\"Pclass\"]).mean()"
   ]
  },
  {
   "cell_type": "code",
   "execution_count": 37,
   "id": "a203ddf9",
   "metadata": {},
   "outputs": [
    {
     "data": {
      "text/plain": [
       "<seaborn.axisgrid.FacetGrid at 0x18020d3ed60>"
      ]
     },
     "execution_count": 37,
     "metadata": {},
     "output_type": "execute_result"
    },
    {
     "data": {
      "image/png": "[encoded data removed]",
      "text/plain": [
       "<Figure size 411.875x1080 with 3 Axes>"
      ]
     },
     "metadata": {
      "needs_background": "light"
     },
     "output_type": "display_data"
    }
   ],
   "source": [
    "# Death and Survival fare distributions by Pclass\n",
    "sns.displot(Pclass_fare_calculated_df, x=\"fare_calculated\", row=\"Pclass\",\n",
    "            hue=\"Survived\", kind=\"kde\", legend=True, facet_kws=\n",
    "            {'sharex':False, 'sharey':False})"
   ]
  },
  {
   "cell_type": "code",
   "execution_count": 38,
   "id": "8531b1a5",
   "metadata": {},
   "outputs": [],
   "source": [
    "# There does not seem to be meaningful seperation in fares between those \n",
    "# that died and those that lived within each seperate Pclass.  This \n",
    "# reinforces that combining fare with port is more meaningful than combining\n",
    "# fare with Pclass, although Pclass is an important variable on its own."
   ]
  },
  {
   "cell_type": "code",
   "execution_count": null,
   "id": "de060f0c",
   "metadata": {},
   "outputs": [],
   "source": []
  },
  {
   "cell_type": "code",
   "execution_count": 39,
   "id": "917ae85d",
   "metadata": {},
   "outputs": [],
   "source": [
    "# Adding a variables for family max age and family min age\n",
    "\n",
    "# Creating a df of last names and ages for the combined train and test set\n",
    "lname_age_df = pd.concat(\n",
    "    [train_transformed[[\"lname\", \"Age\"]].copy(), \n",
    "     x_test_transformed_df[[\"lname\", \"Age\"]].copy()]).reset_index().drop(\n",
    "     columns=\"index\")"
   ]
  },
  {
   "cell_type": "code",
   "execution_count": 40,
   "id": "5ccbd080",
   "metadata": {},
   "outputs": [],
   "source": [
    "# creating dictionaries of the min and max age for each last name\n",
    "lname_age_min = lname_age_df.groupby(\"lname\").min().squeeze()\n",
    "lname_age_max = lname_age_df.groupby(\"lname\").max().squeeze()\n",
    "min_ages = dict()\n",
    "max_ages = dict()\n",
    "for index, value in lname_age_min.iteritems():\n",
    "    min_ages[index] = value\n",
    "for index, value in lname_age_max.iteritems():\n",
    "    max_ages[index] = value"
   ]
  },
  {
   "cell_type": "code",
   "execution_count": 41,
   "id": "4882f1e4",
   "metadata": {},
   "outputs": [],
   "source": [
    "# Creating the lname_min_age and lname_max_age variables\n",
    "\n",
    "# Adding the lname_min_age for train and test \n",
    "train_transformed[\"lname_min_age\"] = train_transformed[\"lname\"].apply(\n",
    "    lambda x: min_ages.get(x))\n",
    "x_test_transformed_df[\"lname_min_age\"] = x_test_transformed_df[\n",
    "    \"lname\"].apply(lambda x: min_ages.get(x))\n",
    "\n",
    "# Adding the lname_max_age for train and test\n",
    "train_transformed[\"lname_max_age\"] = train_transformed[\"lname\"].apply(\n",
    "    lambda x: max_ages.get(x))\n",
    "x_test_transformed_df[\"lname_max_age\"] = x_test_transformed_df[\n",
    "    \"lname\"].apply(lambda x: max_ages.get(x))"
   ]
  },
  {
   "cell_type": "code",
   "execution_count": null,
   "id": "2f475c53",
   "metadata": {},
   "outputs": [],
   "source": []
  },
  {
   "cell_type": "code",
   "execution_count": 42,
   "id": "ce45ed5b",
   "metadata": {},
   "outputs": [],
   "source": [
    "# combining train and test to look at lname and family_members\n",
    "train_test_super = pd.concat(\n",
    "    [train_transformed[[\"lname\", \"family_members\"]], \n",
    "     x_test_transformed_df[[\"lname\", \"family_members\"]]\n",
    "    ]).reset_index().drop(columns = \"index\")"
   ]
  },
  {
   "cell_type": "code",
   "execution_count": null,
   "id": "e2d17146",
   "metadata": {},
   "outputs": [],
   "source": []
  },
  {
   "cell_type": "code",
   "execution_count": 43,
   "id": "d270759f",
   "metadata": {},
   "outputs": [
    {
     "data": {
      "text/plain": [
       "family_members\n",
       "1                 814\n",
       "2                  48\n",
       "3                   3\n",
       "4                   1\n",
       "dtype: int64"
      ]
     },
     "execution_count": 43,
     "metadata": {},
     "output_type": "execute_result"
    }
   ],
   "source": [
    "# For 814 of 866 lnames, each passenger has the same amount of \n",
    "# family_members as every other passenger sharing that lname, which\n",
    "# is calculated using SibSp and Parch.  This means the family probably does\n",
    "# not have relatives traveling with them. For passengers in these families,\n",
    "# we can make further adulthood classifications using sibsp and parch along\n",
    "# with the calculated family_members variable, because we know the \n",
    "# family_members variable is the same for each family member.  This\n",
    "# information will be used to create the \"simple_family\" variable.  \n",
    "# Simple_family == 1 will mean all passengers sharing the current passengers\n",
    "# lname share each have the same amount of family members. \n",
    "\n",
    "# We have to keep in mind that passengers with no family members are \n",
    "# automatically counted as simple_family == 1, so this will skew the data.\n",
    "# The ratio of passengers who have at least one family member that have\n",
    "# simple_family == 1 will be lower than 814/866 due to the skew from the \n",
    "# single passengers.\n",
    "\n",
    "train_test_super.groupby(\"lname\").nunique().value_counts()"
   ]
  },
  {
   "cell_type": "code",
   "execution_count": 44,
   "id": "5356ebbc",
   "metadata": {},
   "outputs": [],
   "source": [
    "# putting number of unique family_members values per last name into a dict\n",
    "lname_uniques = train_test_super.groupby(\n",
    "    \"lname\").nunique().squeeze().to_dict()"
   ]
  },
  {
   "cell_type": "code",
   "execution_count": 45,
   "id": "b8e08843",
   "metadata": {},
   "outputs": [],
   "source": [
    "# Setting train and test to the value of the dictionary for each last \n",
    "# name key\n",
    "train_transformed[\"simple_family\"] = train_transformed[\"lname\"].apply(\n",
    "    lambda x: lname_uniques.get(x))\n",
    "x_test_transformed_df[\"simple_family\"] = x_test_transformed_df[\n",
    "    \"lname\"].apply(lambda x: lname_uniques.get(x))"
   ]
  },
  {
   "cell_type": "code",
   "execution_count": 46,
   "id": "d70af715",
   "metadata": {},
   "outputs": [],
   "source": [
    "# updating the values of simple_family.  If the value is not 1, we set it to\n",
    "# 0.  This now becomes a binary variable where 1 means each passenger of \n",
    "# an lname has the same number of family_members, and 0 means there are at \n",
    "# least two different family_members values for passengers within the given\n",
    "# last name.\n",
    "train_transformed.loc[\n",
    "    (train_transformed[\"simple_family\"] != 1), \"simple_family\"] = 0\n",
    "x_test_transformed_df.loc[\n",
    "    (x_test_transformed_df[\"simple_family\"] != 1), \"simple_family\"] = 0"
   ]
  },
  {
   "cell_type": "code",
   "execution_count": 47,
   "id": "c61033c0",
   "metadata": {},
   "outputs": [
    {
     "data": {
      "text/plain": [
       "1    748\n",
       "0    143\n",
       "Name: simple_family, dtype: int64"
      ]
     },
     "execution_count": 47,
     "metadata": {},
     "output_type": "execute_result"
    }
   ],
   "source": [
    "# train simple_family breakdown\n",
    "train_transformed[\"simple_family\"].value_counts()"
   ]
  },
  {
   "cell_type": "code",
   "execution_count": 48,
   "id": "20ee5aee",
   "metadata": {},
   "outputs": [
    {
     "data": {
      "text/plain": [
       "1    360\n",
       "0     58\n",
       "Name: simple_family, dtype: int64"
      ]
     },
     "execution_count": 48,
     "metadata": {},
     "output_type": "execute_result"
    }
   ],
   "source": [
    "# test simple_family breakdown\n",
    "x_test_transformed_df[\"simple_family\"].value_counts()"
   ]
  },
  {
   "cell_type": "code",
   "execution_count": null,
   "id": "828981f2",
   "metadata": {},
   "outputs": [],
   "source": []
  },
  {
   "cell_type": "code",
   "execution_count": null,
   "id": "edceda05",
   "metadata": {},
   "outputs": [],
   "source": []
  },
  {
   "cell_type": "code",
   "execution_count": 49,
   "id": "36a25266",
   "metadata": {},
   "outputs": [],
   "source": [
    "# adult classification rules\n",
    "\n",
    "\n",
    "# global rules:\n",
    "\n",
    "# 1) By default, classify all passengers as adult\n",
    "# 2) if parch >= 1, classify all miss as child\n",
    "# 3) classify all master as child\n",
    "# 4) if age < 18, classify as child\n",
    "\n",
    "\n",
    "# additional rules for when simple_family = 1:\n",
    "\n",
    "# family_members = 0 -> no additional rules\n",
    "# family_members = 1 -> if parch = 1 and age = lname_min_age, classify \n",
    "#    child.\n",
    "# family_members = 2 -> no additional rules.  \n",
    "# family_members = 3 -> No additional rules.\n",
    "# family_members = 4 or greater -> if parch = 1 or 2, classify as child.  \n",
    "#    When parch >= 1, we know it is a family unit, and adults will have \n",
    "#    parch at least 3.\n",
    "\n",
    "\n",
    "# These additional rules are meant to fill in the gaps of the global rules.\n",
    "#    Specifically, they will catch some Mr. titled passengers who are above\n",
    "#    18 or whose age is nan, but are the children in their family groups.\n",
    "#    This is not many passengers, but I may as well be thorough."
   ]
  },
  {
   "cell_type": "code",
   "execution_count": 50,
   "id": "1b3d38ef",
   "metadata": {},
   "outputs": [],
   "source": [
    "# First, assigning based on the global rules"
   ]
  },
  {
   "cell_type": "code",
   "execution_count": 51,
   "id": "8feded49",
   "metadata": {},
   "outputs": [],
   "source": [
    "# Setting adult to 1 by default.  Adult = 0 will signify children.\n",
    "train_transformed[\"adult\"] = 1\n",
    "x_test_transformed_df[\"adult\"] = 1"
   ]
  },
  {
   "cell_type": "code",
   "execution_count": 52,
   "id": "4f080f1e",
   "metadata": {},
   "outputs": [],
   "source": [
    "# Setting miss passengers to child if parch >= 1\n",
    "train_transformed.loc[\n",
    "    (train_transformed[\"Miss.\"] == 1) &\n",
    "    (train_transformed[\"Parch\"] >= 1), [\"adult\"]] = 0\n",
    "x_test_transformed_df.loc[\n",
    "    (x_test_transformed_df[\"Miss.\"] == 1) &\n",
    "    (x_test_transformed_df[\"Parch\"] == 1), [\"adult\"]] = 0"
   ]
  },
  {
   "cell_type": "code",
   "execution_count": 53,
   "id": "057e9668",
   "metadata": {},
   "outputs": [],
   "source": [
    "# Setting all master passengers to child\n",
    "train_transformed.loc[train_transformed[\"Master.\"] == 1, [\"adult\"]] = 0\n",
    "x_test_transformed_df.loc[x_test_transformed_df[\"Master.\"] == 1, \n",
    "                          [\"adult\"]] = 0"
   ]
  },
  {
   "cell_type": "code",
   "execution_count": 54,
   "id": "24a1983e",
   "metadata": {},
   "outputs": [],
   "source": [
    "# Setting all passengers whose age is under 18 to child\n",
    "train_transformed.loc[train_transformed[\"Age\"] < 18, [\"adult\"]] = 0\n",
    "x_test_transformed_df.loc[x_test_transformed_df[\"Age\"] < 18, [\"adult\"]] = 0"
   ]
  },
  {
   "cell_type": "code",
   "execution_count": 55,
   "id": "71ef9d1a",
   "metadata": {},
   "outputs": [],
   "source": [
    "# Now for the additional rules"
   ]
  },
  {
   "cell_type": "code",
   "execution_count": 56,
   "id": "a607b535",
   "metadata": {},
   "outputs": [],
   "source": [
    "# Assigning simple_family = 1, family_members = 1, parch = 1, and \n",
    "# age == lname_min_age to child\n",
    "train_transformed.loc[\n",
    "    (train_transformed[\"simple_family\"] == 1) &\n",
    "    (train_transformed[\"family_members\"] == 1) &\n",
    "    (train_transformed[\"Parch\"] == 1) &\n",
    "    (train_transformed[\"Age\"] == train_transformed[\"lname_min_age\"]), \n",
    "    [\"adult\"]] = 0\n",
    "x_test_transformed_df.loc[\n",
    "    (x_test_transformed_df[\"simple_family\"] == 1) &\n",
    "    (x_test_transformed_df[\"family_members\"] == 1) &\n",
    "    (x_test_transformed_df[\"Parch\"] == 1) & \n",
    "    (x_test_transformed_df[\"Age\"] == x_test_transformed_df[\n",
    "        \"lname_min_age\"]), [\"adult\"]] = 0"
   ]
  },
  {
   "cell_type": "code",
   "execution_count": 57,
   "id": "53c44346",
   "metadata": {},
   "outputs": [],
   "source": [
    "# Assigning simple_family = 1, family_members >= 4, parch == 1 or 2 to \n",
    "# child\n",
    "train_transformed.loc[\n",
    "    (train_transformed[\"simple_family\"] == 1) &\n",
    "    (train_transformed[\"family_members\"] >= 4) & \n",
    "    (train_transformed[\"Parch\"].isin([1,2])), [\"adult\"]] = 0\n",
    "x_test_transformed_df.loc[\n",
    "    (x_test_transformed_df[\"simple_family\"] == 1) & \n",
    "    (x_test_transformed_df[\"family_members\"] >= 4) & \n",
    "    (x_test_transformed_df[\"Parch\"].isin([1,2])), [\"adult\"]] = 0 "
   ]
  },
  {
   "cell_type": "code",
   "execution_count": 58,
   "id": "e9a0f53e",
   "metadata": {},
   "outputs": [],
   "source": [
    "# Now, to count the survivals and deaths per family for adult and child \n",
    "# males and females\n",
    "\n",
    "# This information will enable me to examine the effect of family \n",
    "# heirarchies on passenger survival"
   ]
  },
  {
   "cell_type": "code",
   "execution_count": 59,
   "id": "c5357359",
   "metadata": {},
   "outputs": [],
   "source": [
    "group_survival_df = train_transformed[\n",
    "    [\"adult\", \"lname\", \"Sex\", \"Survived\"]].copy()"
   ]
  },
  {
   "cell_type": "code",
   "execution_count": 60,
   "id": "b289b446",
   "metadata": {},
   "outputs": [],
   "source": [
    "# Creating columns for women (adult females) who survived and died\n",
    "\n",
    "# creating a dictionary for the number of women in train who survived per \n",
    "# last name\n",
    "women_survived_dict = group_survival_df[\n",
    "    (group_survival_df[\"Sex\"] == 1) & \n",
    "    (group_survival_df[\"adult\"] == 1)][\n",
    "    [\"lname\", \"Survived\"]].groupby(\"lname\").sum().squeeze().to_dict()\n",
    "\n",
    "# creating a dictionary for the total number of women present in train \n",
    "# per last name\n",
    "women_total_dict = group_survival_df[\n",
    "    (group_survival_df[\"Sex\"] == 1) & \n",
    "    (group_survival_df[\"adult\"] == 1)][\n",
    "    [\"lname\", \"Survived\"]].groupby(\"lname\").count().squeeze().to_dict()\n",
    "\n",
    "# Creating the women_survived column in train and test\n",
    "train_transformed[\"women_survived\"] = train_transformed[\"lname\"].apply(\n",
    "    lambda x: women_survived_dict.get(x)).fillna(0)\n",
    "\n",
    "x_test_transformed_df[\"women_survived\"] = x_test_transformed_df[\n",
    "    \"lname\"].apply(lambda x: women_survived_dict.get(x)).fillna(0)\n",
    "\n",
    "# creating the women_total column in train and test\n",
    "train_transformed[\"women_total\"] = train_transformed[\"lname\"].apply(\n",
    "    lambda x: women_total_dict.get(x)).fillna(0)\n",
    "\n",
    "x_test_transformed_df[\"women_total\"] = x_test_transformed_df[\n",
    "    \"lname\"].apply(lambda x: women_total_dict.get(x)).fillna(0)\n",
    "\n",
    "# creating the women_died column in train and test\n",
    "train_transformed[\"women_died\"] = train_transformed[\"women_total\"] - \\\n",
    "    train_transformed[\"women_survived\"]\n",
    "x_test_transformed_df[\"women_died\"] = x_test_transformed_df[\"women_total\"] \\\n",
    "    - x_test_transformed_df[\"women_survived\"]"
   ]
  },
  {
   "cell_type": "code",
   "execution_count": 61,
   "id": "af9b627a",
   "metadata": {},
   "outputs": [],
   "source": [
    "# Creating columns for men (adult males) who survived and died\n",
    "\n",
    "# creating a dictionary for the number of men in train who survived per \n",
    "# last name\n",
    "men_survived_dict = group_survival_df[\n",
    "    (group_survival_df[\"Sex\"] == 0) & \n",
    "    (group_survival_df[\"adult\"] == 1)][\n",
    "    [\"lname\", \"Survived\"]].groupby(\"lname\").sum().squeeze().to_dict()\n",
    "\n",
    "# creating a dictionary for the total number of men present in train \n",
    "# per last name\n",
    "men_total_dict = group_survival_df[\n",
    "    (group_survival_df[\"Sex\"] == 0) & \n",
    "    (group_survival_df[\"adult\"] == 1)][\n",
    "    [\"lname\", \"Survived\"]].groupby(\"lname\").count().squeeze().to_dict()\n",
    "\n",
    "# Creating the men_survived column in train and test\n",
    "train_transformed[\"men_survived\"] = train_transformed[\"lname\"].apply(\n",
    "    lambda x: men_survived_dict.get(x)).fillna(0)\n",
    "\n",
    "x_test_transformed_df[\"men_survived\"] = x_test_transformed_df[\n",
    "    \"lname\"].apply(lambda x: men_survived_dict.get(x)).fillna(0)\n",
    "\n",
    "# creating the men_total column in train and test\n",
    "train_transformed[\"men_total\"] = train_transformed[\"lname\"].apply(\n",
    "    lambda x: men_total_dict.get(x)).fillna(0)\n",
    "\n",
    "x_test_transformed_df[\"men_total\"] = x_test_transformed_df[\n",
    "    \"lname\"].apply(lambda x: men_total_dict.get(x)).fillna(0)\n",
    "\n",
    "# creating the men_died column in train and test\n",
    "train_transformed[\"men_died\"] = train_transformed[\"men_total\"] - \\\n",
    "    train_transformed[\"men_survived\"]\n",
    "x_test_transformed_df[\"men_died\"] = x_test_transformed_df[\"men_total\"] \\\n",
    "    - x_test_transformed_df[\"men_survived\"]"
   ]
  },
  {
   "cell_type": "code",
   "execution_count": 62,
   "id": "f1bee2f9",
   "metadata": {},
   "outputs": [],
   "source": [
    "# Creating columns for girls (female children) who survived and died\n",
    "\n",
    "# creating a dictionary for the number of girls in train who survived per \n",
    "# last name\n",
    "girls_survived_dict = group_survival_df[\n",
    "    (group_survival_df[\"Sex\"] == 1) & \n",
    "    (group_survival_df[\"adult\"] == 0)][\n",
    "    [\"lname\", \"Survived\"]].groupby(\"lname\").sum().squeeze().to_dict()\n",
    "\n",
    "# creating a dictionary for the total number of girls present in train \n",
    "# per last name\n",
    "girls_total_dict = group_survival_df[\n",
    "    (group_survival_df[\"Sex\"] == 1) & \n",
    "    (group_survival_df[\"adult\"] == 0)][\n",
    "    [\"lname\", \"Survived\"]].groupby(\"lname\").count().squeeze().to_dict()\n",
    "\n",
    "# Creating the girls_survived column in train and test\n",
    "train_transformed[\"girls_survived\"] = train_transformed[\"lname\"].apply(\n",
    "    lambda x: girls_survived_dict.get(x)).fillna(0)\n",
    "\n",
    "x_test_transformed_df[\"girls_survived\"] = x_test_transformed_df[\n",
    "    \"lname\"].apply(lambda x: girls_survived_dict.get(x)).fillna(0)\n",
    "\n",
    "# creating the girls_total column in train and test\n",
    "train_transformed[\"girls_total\"] = train_transformed[\"lname\"].apply(\n",
    "    lambda x: girls_total_dict.get(x)).fillna(0)\n",
    "\n",
    "x_test_transformed_df[\"girls_total\"] = x_test_transformed_df[\n",
    "    \"lname\"].apply(lambda x: girls_total_dict.get(x)).fillna(0)\n",
    "\n",
    "# creating the girls_died column in train and test\n",
    "train_transformed[\"girls_died\"] = train_transformed[\"girls_total\"] - \\\n",
    "    train_transformed[\"girls_survived\"]\n",
    "x_test_transformed_df[\"girls_died\"] = x_test_transformed_df[\"girls_total\"] \\\n",
    "    - x_test_transformed_df[\"girls_survived\"]"
   ]
  },
  {
   "cell_type": "code",
   "execution_count": 63,
   "id": "adafc923",
   "metadata": {},
   "outputs": [],
   "source": [
    "# Creating columns for boys (male children) who survived and died\n",
    "\n",
    "# creating a dictionary for the number of boys in train who survived per \n",
    "# last name\n",
    "boys_survived_dict = group_survival_df[\n",
    "    (group_survival_df[\"Sex\"] == 0) & \n",
    "    (group_survival_df[\"adult\"] == 0)][\n",
    "    [\"lname\", \"Survived\"]].groupby(\"lname\").sum().squeeze().to_dict()\n",
    "\n",
    "# creating a dictionary for the total number of boys present in train \n",
    "# per last name\n",
    "boys_total_dict = group_survival_df[\n",
    "    (group_survival_df[\"Sex\"] == 0) & \n",
    "    (group_survival_df[\"adult\"] == 0)][\n",
    "    [\"lname\", \"Survived\"]].groupby(\"lname\").count().squeeze().to_dict()\n",
    "\n",
    "# Creating the boys_survived column in train and test\n",
    "train_transformed[\"boys_survived\"] = train_transformed[\"lname\"].apply(\n",
    "    lambda x: boys_survived_dict.get(x)).fillna(0)\n",
    "\n",
    "x_test_transformed_df[\"boys_survived\"] = x_test_transformed_df[\n",
    "    \"lname\"].apply(lambda x: boys_survived_dict.get(x)).fillna(0)\n",
    "\n",
    "# creating the boys_total column in train and test\n",
    "train_transformed[\"boys_total\"] = train_transformed[\"lname\"].apply(\n",
    "    lambda x: boys_total_dict.get(x)).fillna(0)\n",
    "\n",
    "x_test_transformed_df[\"boys_total\"] = x_test_transformed_df[\n",
    "    \"lname\"].apply(lambda x: boys_total_dict.get(x)).fillna(0)\n",
    "\n",
    "# creating the boys_died column in train and test\n",
    "train_transformed[\"boys_died\"] = train_transformed[\"boys_total\"] - \\\n",
    "    train_transformed[\"boys_survived\"]\n",
    "x_test_transformed_df[\"boys_died\"] = x_test_transformed_df[\"boys_total\"] \\\n",
    "    - x_test_transformed_df[\"boys_survived\"]"
   ]
  },
  {
   "cell_type": "code",
   "execution_count": 64,
   "id": "028e8bb4",
   "metadata": {},
   "outputs": [],
   "source": [
    "# At this point, we have included the current passenger in the train test in\n",
    "# the count of survived or died passengers of each age & gender group.  We \n",
    "# do not want to know this information when making a prediction, and the \n",
    "# passengers in test do not benefit from this information, so we have to \n",
    "# adjust the counts to subtract the current passenger from the appropriate\n",
    "# survival or death column."
   ]
  },
  {
   "cell_type": "code",
   "execution_count": 65,
   "id": "3911b344",
   "metadata": {},
   "outputs": [],
   "source": [
    "# Adjusting group survival count for surviving male adults.\n",
    "train_transformed.loc[\n",
    "    (train_transformed[\"Sex\"] == 0) & \n",
    "    (train_transformed[\"adult\"] == 1) &\n",
    "    (train_transformed[\"Survived\"] == 1), \n",
    "    [\"men_survived\", \"men_total\"]] -= 1\n",
    "\n",
    "# Adjusting group survival count for dying male adults.\n",
    "train_transformed.loc[\n",
    "    (train_transformed[\"Sex\"] == 0) & \n",
    "    (train_transformed[\"adult\"] == 1) &\n",
    "    (train_transformed[\"Survived\"] == 0), \n",
    "    [\"men_died\", \"men_total\"]] -= 1"
   ]
  },
  {
   "cell_type": "code",
   "execution_count": 66,
   "id": "8e1e803e",
   "metadata": {},
   "outputs": [],
   "source": [
    "# Adjusting group survival count for surviving male children\n",
    "train_transformed.loc[\n",
    "    (train_transformed[\"Sex\"] == 0) &\n",
    "    (train_transformed[\"adult\"] == 0) &\n",
    "    (train_transformed[\"Survived\"] == 1),\n",
    "    [\"boys_survived\", \"boys_total\"]] -= 1\n",
    "\n",
    "# Adjusting group survival count for dying male children\n",
    "train_transformed.loc[\n",
    "    (train_transformed[\"Sex\"] == 0) &\n",
    "    (train_transformed[\"adult\"] == 0) &\n",
    "    (train_transformed[\"Survived\"] == 0),\n",
    "    [\"boys_died\", \"boys_total\"]] -= 1"
   ]
  },
  {
   "cell_type": "code",
   "execution_count": 67,
   "id": "cc2a6176",
   "metadata": {},
   "outputs": [],
   "source": [
    "# Adjusting group survival count for surviving female adults\n",
    "train_transformed.loc[\n",
    "    (train_transformed[\"Sex\"] == 1) &\n",
    "    (train_transformed[\"adult\"] == 1) &\n",
    "    (train_transformed[\"Survived\"] == 1),\n",
    "    [\"women_survived\", \"women_total\"]] -= 1\n",
    "\n",
    "# Adjusting group survival count for dying female adults\n",
    "train_transformed.loc[\n",
    "    (train_transformed[\"Sex\"] == 1) &\n",
    "    (train_transformed[\"adult\"] == 1) &\n",
    "    (train_transformed[\"Survived\"] == 0),\n",
    "    [\"women_died\", \"women_total\"]] -= 1"
   ]
  },
  {
   "cell_type": "code",
   "execution_count": 68,
   "id": "323f1baa",
   "metadata": {},
   "outputs": [],
   "source": [
    "# Adjusting group survival count for surviving female children\n",
    "train_transformed.loc[\n",
    "    (train_transformed[\"Sex\"] == 1) &\n",
    "    (train_transformed[\"adult\"] == 0) &\n",
    "    (train_transformed[\"Survived\"] == 1),\n",
    "    [\"girls_survived\", \"girls_total\"]] -= 1\n",
    "\n",
    "# Adjusting group survival count for dying female children\n",
    "train_transformed.loc[\n",
    "    (train_transformed[\"Sex\"] == 1) &\n",
    "    (train_transformed[\"adult\"] == 0) &\n",
    "    (train_transformed[\"Survived\"] == 0),\n",
    "    [\"girls_died\", \"girls_total\"]] -= 1"
   ]
  },
  {
   "cell_type": "code",
   "execution_count": null,
   "id": "e4348e8d",
   "metadata": {},
   "outputs": [],
   "source": []
  },
  {
   "cell_type": "code",
   "execution_count": 69,
   "id": "309ecbbb",
   "metadata": {},
   "outputs": [
    {
     "data": {
      "text/plain": [
       "0.6026936026936027"
      ]
     },
     "execution_count": 69,
     "metadata": {},
     "output_type": "execute_result"
    }
   ],
   "source": [
    "# For the passengers traveling alone, which make up 60% of the train set, \n",
    "# predicting survival based on family member survival is not possible.\n",
    "len(train_transformed[train_transformed[\"family_members\"] == 0]) / \\\n",
    "len(train_transformed)"
   ]
  },
  {
   "cell_type": "code",
   "execution_count": 70,
   "id": "4d1bf9c7",
   "metadata": {},
   "outputs": [],
   "source": [
    "# Therefore, we can go for the next best thing, which is predicting their \n",
    "# survival based off of the survival outcomes of the other passengers in \n",
    "# their ticket group from passengers in the train set."
   ]
  },
  {
   "cell_type": "code",
   "execution_count": 71,
   "id": "f1bfb334",
   "metadata": {},
   "outputs": [],
   "source": [
    "# Creating a subset df to extract features from\n",
    "train_ticket_df = train_transformed[\n",
    "    [\"Ticket\", \"adult\", \"Sex\", \"Survived\"]].copy()"
   ]
  },
  {
   "cell_type": "code",
   "execution_count": 72,
   "id": "143d4fa2",
   "metadata": {},
   "outputs": [],
   "source": [
    "# creating a dict for men who survived per ticket number\n",
    "ticket_men_survived_dict = train_ticket_df[\n",
    "    (train_ticket_df[\"adult\"] == 1) &\n",
    "    (train_ticket_df[\"Sex\"] == 0) &\n",
    "    (train_ticket_df[\"Survived\"] == 1)][\"Ticket\"].value_counts().to_dict()\n",
    "\n",
    "# creating a dict for men who died per ticket number\n",
    "ticket_men_died_dict = train_ticket_df[\n",
    "    (train_ticket_df[\"adult\"] == 1) &\n",
    "    (train_ticket_df[\"Sex\"] == 0) &\n",
    "    (train_ticket_df[\"Survived\"] == 0)][\"Ticket\"].value_counts().to_dict()\n",
    "\n",
    "# Creating the ticket_men_survived column in train and test\n",
    "train_transformed[\"ticket_men_survived\"] = \\\n",
    "    train_transformed[\"Ticket\"].apply(\n",
    "    lambda x: ticket_men_survived_dict.get(x)).fillna(0)\n",
    "\n",
    "x_test_transformed_df[\"ticket_men_survived\"] = \\\n",
    "    x_test_transformed_df[\"Ticket\"].apply(\n",
    "    lambda x: ticket_men_survived_dict.get(x)).fillna(0)\n",
    "\n",
    "# Creating the ticket_men_died column in train and test\n",
    "train_transformed[\"ticket_men_died\"] = \\\n",
    "    train_transformed[\"Ticket\"].apply(\n",
    "    lambda x: ticket_men_died_dict.get(x)).fillna(0)\n",
    "x_test_transformed_df[\"ticket_men_died\"] = \\\n",
    "    x_test_transformed_df[\"Ticket\"].apply(\n",
    "    lambda x: ticket_men_died_dict.get(x)).fillna(0)\n",
    "\n",
    "# Creating the ticket_men_total column in train and test\n",
    "train_transformed[\"ticket_men_total\"] = \\\n",
    "    train_transformed[\"ticket_men_survived\"] + \\\n",
    "    train_transformed[\"ticket_men_died\"]\n",
    "\n",
    "x_test_transformed_df[\"ticket_men_total\"] = \\\n",
    "    x_test_transformed_df[\"ticket_men_survived\"] + \\\n",
    "    x_test_transformed_df[\"ticket_men_died\"]"
   ]
  },
  {
   "cell_type": "code",
   "execution_count": 73,
   "id": "2a924a3d",
   "metadata": {},
   "outputs": [],
   "source": [
    "# creating a dict for women who survived per ticket number\n",
    "ticket_women_survived_dict = train_ticket_df[\n",
    "    (train_ticket_df[\"adult\"] == 1) &\n",
    "    (train_ticket_df[\"Sex\"] == 1) &\n",
    "    (train_ticket_df[\"Survived\"] == 1)][\"Ticket\"].value_counts().to_dict()\n",
    "\n",
    "# creating a dict for women who died per ticket number\n",
    "ticket_women_died_dict = train_ticket_df[\n",
    "    (train_ticket_df[\"adult\"] == 1) &\n",
    "    (train_ticket_df[\"Sex\"] == 1) &\n",
    "    (train_ticket_df[\"Survived\"] == 0)][\"Ticket\"].value_counts().to_dict()\n",
    "\n",
    "# Creating the ticket_women_survived column in train and test\n",
    "train_transformed[\"ticket_women_survived\"] = \\\n",
    "    train_transformed[\"Ticket\"].apply(\n",
    "    lambda x: ticket_women_survived_dict.get(x)).fillna(0)\n",
    "\n",
    "x_test_transformed_df[\"ticket_women_survived\"] = \\\n",
    "    x_test_transformed_df[\"Ticket\"].apply(\n",
    "    lambda x: ticket_women_survived_dict.get(x)).fillna(0)\n",
    "\n",
    "# Creating the ticket_women_died column in train and test\n",
    "train_transformed[\"ticket_women_died\"] = \\\n",
    "    train_transformed[\"Ticket\"].apply(\n",
    "    lambda x: ticket_women_died_dict.get(x)).fillna(0)\n",
    "x_test_transformed_df[\"ticket_women_died\"] = \\\n",
    "    x_test_transformed_df[\"Ticket\"].apply(\n",
    "    lambda x: ticket_women_died_dict.get(x)).fillna(0)\n",
    "\n",
    "# Creating the ticket_women_total column in train and test\n",
    "train_transformed[\"ticket_women_total\"] = \\\n",
    "    train_transformed[\"ticket_women_survived\"] + \\\n",
    "    train_transformed[\"ticket_women_died\"]\n",
    "\n",
    "x_test_transformed_df[\"ticket_women_total\"] = \\\n",
    "    x_test_transformed_df[\"ticket_women_survived\"] + \\\n",
    "    x_test_transformed_df[\"ticket_women_died\"]"
   ]
  },
  {
   "cell_type": "code",
   "execution_count": 74,
   "id": "9ec37287",
   "metadata": {},
   "outputs": [],
   "source": [
    "# creating a dict for boys who survived per ticket number\n",
    "ticket_boys_survived_dict = train_ticket_df[\n",
    "    (train_ticket_df[\"adult\"] == 0) &\n",
    "    (train_ticket_df[\"Sex\"] == 0) &\n",
    "    (train_ticket_df[\"Survived\"] == 1)][\"Ticket\"].value_counts().to_dict()\n",
    "\n",
    "# creating a dict for boys who died per ticket number\n",
    "ticket_boys_died_dict = train_ticket_df[\n",
    "    (train_ticket_df[\"adult\"] == 0) &\n",
    "    (train_ticket_df[\"Sex\"] == 0) &\n",
    "    (train_ticket_df[\"Survived\"] == 0)][\"Ticket\"].value_counts().to_dict()\n",
    "\n",
    "# Creating the ticket_boys_survived column in train and test\n",
    "train_transformed[\"ticket_boys_survived\"] = \\\n",
    "    train_transformed[\"Ticket\"].apply(\n",
    "    lambda x: ticket_boys_survived_dict.get(x)).fillna(0)\n",
    "\n",
    "x_test_transformed_df[\"ticket_boys_survived\"] = \\\n",
    "    x_test_transformed_df[\"Ticket\"].apply(\n",
    "    lambda x: ticket_boys_survived_dict.get(x)).fillna(0)\n",
    "\n",
    "# Creating the ticket_boys_died column in train and test\n",
    "train_transformed[\"ticket_boys_died\"] = \\\n",
    "    train_transformed[\"Ticket\"].apply(\n",
    "    lambda x: ticket_boys_died_dict.get(x)).fillna(0)\n",
    "x_test_transformed_df[\"ticket_boys_died\"] = \\\n",
    "    x_test_transformed_df[\"Ticket\"].apply(\n",
    "    lambda x: ticket_boys_died_dict.get(x)).fillna(0)\n",
    "\n",
    "# Creating the ticket_boys_total column in train and test\n",
    "train_transformed[\"ticket_boys_total\"] = \\\n",
    "    train_transformed[\"ticket_boys_survived\"] + \\\n",
    "    train_transformed[\"ticket_boys_died\"]\n",
    "\n",
    "x_test_transformed_df[\"ticket_boys_total\"] = \\\n",
    "    x_test_transformed_df[\"ticket_boys_survived\"] + \\\n",
    "    x_test_transformed_df[\"ticket_boys_died\"]"
   ]
  },
  {
   "cell_type": "code",
   "execution_count": 75,
   "id": "1453ad32",
   "metadata": {},
   "outputs": [],
   "source": [
    "# creating a dict for girls who survived per ticket number\n",
    "ticket_girls_survived_dict = train_ticket_df[\n",
    "    (train_ticket_df[\"adult\"] == 0) &\n",
    "    (train_ticket_df[\"Sex\"] == 1) &\n",
    "    (train_ticket_df[\"Survived\"] == 1)][\"Ticket\"].value_counts().to_dict()\n",
    "\n",
    "# creating a dict for girls who died per ticket number\n",
    "ticket_girls_died_dict = train_ticket_df[\n",
    "    (train_ticket_df[\"adult\"] == 0) &\n",
    "    (train_ticket_df[\"Sex\"] == 1) &\n",
    "    (train_ticket_df[\"Survived\"] == 0)][\"Ticket\"].value_counts().to_dict()\n",
    "\n",
    "# Creating the ticket_girls_survived column in train and test\n",
    "train_transformed[\"ticket_girls_survived\"] = \\\n",
    "    train_transformed[\"Ticket\"].apply(\n",
    "    lambda x: ticket_girls_survived_dict.get(x)).fillna(0)\n",
    "\n",
    "x_test_transformed_df[\"ticket_girls_survived\"] = \\\n",
    "    x_test_transformed_df[\"Ticket\"].apply(\n",
    "    lambda x: ticket_girls_survived_dict.get(x)).fillna(0)\n",
    "\n",
    "# Creating the ticket_girls_died column in train and test\n",
    "train_transformed[\"ticket_girls_died\"] = \\\n",
    "    train_transformed[\"Ticket\"].apply(\n",
    "    lambda x: ticket_girls_died_dict.get(x)).fillna(0)\n",
    "x_test_transformed_df[\"ticket_girls_died\"] = \\\n",
    "    x_test_transformed_df[\"Ticket\"].apply(\n",
    "    lambda x: ticket_girls_died_dict.get(x)).fillna(0)\n",
    "\n",
    "# Creating the ticket_girls_total column in train and test\n",
    "train_transformed[\"ticket_girls_total\"] = \\\n",
    "    train_transformed[\"ticket_girls_survived\"] + \\\n",
    "    train_transformed[\"ticket_girls_died\"]\n",
    "\n",
    "x_test_transformed_df[\"ticket_girls_total\"] = \\\n",
    "    x_test_transformed_df[\"ticket_girls_survived\"] + \\\n",
    "    x_test_transformed_df[\"ticket_girls_died\"]"
   ]
  },
  {
   "cell_type": "code",
   "execution_count": 76,
   "id": "543fe122",
   "metadata": {},
   "outputs": [],
   "source": [
    "# Now that we have added the ticket survival columns, we have to subtract \n",
    "# the survival outcome of each passenger from their own group's survival \n",
    "# outcomes, the same way we did for the family survival groups."
   ]
  },
  {
   "cell_type": "code",
   "execution_count": 77,
   "id": "afceb734",
   "metadata": {},
   "outputs": [],
   "source": [
    "# Adjusting ticket group survival count for surviving male adults.\n",
    "train_transformed.loc[\n",
    "    (train_transformed[\"Sex\"] == 0) & \n",
    "    (train_transformed[\"adult\"] == 1) &\n",
    "    (train_transformed[\"Survived\"] == 1), \n",
    "    [\"ticket_men_survived\", \"ticket_men_total\"]] -= 1\n",
    "\n",
    "# Adjusting ticket group survival count for dying male adults.\n",
    "train_transformed.loc[\n",
    "    (train_transformed[\"Sex\"] == 0) & \n",
    "    (train_transformed[\"adult\"] == 1) &\n",
    "    (train_transformed[\"Survived\"] == 0), \n",
    "    [\"ticket_men_died\", \"ticket_men_total\"]] -= 1"
   ]
  },
  {
   "cell_type": "code",
   "execution_count": 78,
   "id": "0d687015",
   "metadata": {},
   "outputs": [],
   "source": [
    "# Adjusting ticket group survival count for surviving male children\n",
    "train_transformed.loc[\n",
    "    (train_transformed[\"Sex\"] == 0) &\n",
    "    (train_transformed[\"adult\"] == 0) &\n",
    "    (train_transformed[\"Survived\"] == 1),\n",
    "    [\"ticket_boys_survived\", \"ticket_boys_total\"]] -= 1\n",
    "\n",
    "# Adjusting ticket group survival count for dying male children\n",
    "train_transformed.loc[\n",
    "    (train_transformed[\"Sex\"] == 0) &\n",
    "    (train_transformed[\"adult\"] == 0) &\n",
    "    (train_transformed[\"Survived\"] == 0),\n",
    "    [\"ticket_boys_died\", \"ticket_boys_total\"]] -= 1"
   ]
  },
  {
   "cell_type": "code",
   "execution_count": 79,
   "id": "5fcd804e",
   "metadata": {},
   "outputs": [],
   "source": [
    "# Adjusting ticket group survival count for surviving female adults\n",
    "train_transformed.loc[\n",
    "    (train_transformed[\"Sex\"] == 1) &\n",
    "    (train_transformed[\"adult\"] == 1) &\n",
    "    (train_transformed[\"Survived\"] == 1),\n",
    "    [\"ticket_women_survived\", \"ticket_women_total\"]] -= 1\n",
    "\n",
    "# Adjusting ticket group survival count for dying female adults\n",
    "train_transformed.loc[\n",
    "    (train_transformed[\"Sex\"] == 1) &\n",
    "    (train_transformed[\"adult\"] == 1) &\n",
    "    (train_transformed[\"Survived\"] == 0),\n",
    "    [\"ticket_women_died\", \"ticket_women_total\"]] -= 1"
   ]
  },
  {
   "cell_type": "code",
   "execution_count": 80,
   "id": "a46c98ae",
   "metadata": {},
   "outputs": [],
   "source": [
    "# Adjusting ticket group survival count for surviving female children\n",
    "train_transformed.loc[\n",
    "    (train_transformed[\"Sex\"] == 1) &\n",
    "    (train_transformed[\"adult\"] == 0) &\n",
    "    (train_transformed[\"Survived\"] == 1),\n",
    "    [\"ticket_girls_survived\", \"ticket_girls_total\"]] -= 1\n",
    "\n",
    "# Adjusting ticket group survival count for dying female children\n",
    "train_transformed.loc[\n",
    "    (train_transformed[\"Sex\"] == 1) &\n",
    "    (train_transformed[\"adult\"] == 0) &\n",
    "    (train_transformed[\"Survived\"] == 0),\n",
    "    [\"ticket_girls_died\", \"ticket_girls_total\"]] -= 1"
   ]
  },
  {
   "cell_type": "code",
   "execution_count": null,
   "id": "18784317",
   "metadata": {},
   "outputs": [],
   "source": []
  },
  {
   "cell_type": "code",
   "execution_count": 81,
   "id": "e423ee2d",
   "metadata": {},
   "outputs": [],
   "source": [
    "# The following cells are checks that adjustments made to the training \n",
    "# set in the family survival columns and ticket survival columns were done \n",
    "# without any errors.  For each row, survived and died must add up to total."
   ]
  },
  {
   "cell_type": "code",
   "execution_count": 82,
   "id": "fbaa93a8",
   "metadata": {},
   "outputs": [
    {
     "data": {
      "text/plain": [
       "ticket_men_survived  ticket_men_died  ticket_men_total\n",
       "0.0                  0.0              0.0                 750\n",
       "                     1.0              1.0                 100\n",
       "                     2.0              2.0                   4\n",
       "                     3.0              3.0                   1\n",
       "                     4.0              4.0                   5\n",
       "1.0                  0.0              1.0                  20\n",
       "                     2.0              3.0                   3\n",
       "2.0                  0.0              2.0                   1\n",
       "4.0                  2.0              6.0                   5\n",
       "5.0                  1.0              6.0                   2\n",
       "dtype: int64"
      ]
     },
     "execution_count": 82,
     "metadata": {},
     "output_type": "execute_result"
    }
   ],
   "source": [
    "train_transformed[\n",
    "    [\"ticket_men_survived\", \"ticket_men_died\", \"ticket_men_total\"]\n",
    "].value_counts().sort_index()"
   ]
  },
  {
   "cell_type": "code",
   "execution_count": 83,
   "id": "0a3ddd3b",
   "metadata": {},
   "outputs": [
    {
     "data": {
      "text/plain": [
       "ticket_women_survived  ticket_women_died  ticket_women_total\n",
       "0.0                    0.0                0.0                   723\n",
       "                       1.0                1.0                    47\n",
       "1.0                    0.0                1.0                   106\n",
       "                       1.0                2.0                     2\n",
       "2.0                    0.0                2.0                    12\n",
       "3.0                    0.0                3.0                     1\n",
       "dtype: int64"
      ]
     },
     "execution_count": 83,
     "metadata": {},
     "output_type": "execute_result"
    }
   ],
   "source": [
    "train_transformed[\n",
    "    [\"ticket_women_survived\", \"ticket_women_died\", \"ticket_women_total\"]\n",
    "].value_counts().sort_index()"
   ]
  },
  {
   "cell_type": "code",
   "execution_count": 84,
   "id": "d89d5bc0",
   "metadata": {},
   "outputs": [
    {
     "data": {
      "text/plain": [
       "ticket_boys_survived  ticket_boys_died  ticket_boys_total\n",
       "0.0                   0.0               0.0                  799\n",
       "                      1.0               1.0                   28\n",
       "                      2.0               2.0                    4\n",
       "                      3.0               3.0                   12\n",
       "                      4.0               4.0                   11\n",
       "                      5.0               5.0                    1\n",
       "1.0                   0.0               1.0                   32\n",
       "                      1.0               2.0                    2\n",
       "2.0                   0.0               2.0                    2\n",
       "dtype: int64"
      ]
     },
     "execution_count": 84,
     "metadata": {},
     "output_type": "execute_result"
    }
   ],
   "source": [
    "train_transformed[\n",
    "    [\"ticket_boys_survived\", \"ticket_boys_died\", \"ticket_boys_total\"]\n",
    "].value_counts().sort_index()"
   ]
  },
  {
   "cell_type": "code",
   "execution_count": 85,
   "id": "fca91660",
   "metadata": {},
   "outputs": [
    {
     "data": {
      "text/plain": [
       "ticket_girls_survived  ticket_girls_died  ticket_girls_total\n",
       "0.0                    0.0                0.0                   787\n",
       "                       1.0                1.0                    22\n",
       "                       2.0                2.0                    14\n",
       "                       3.0                3.0                     9\n",
       "                       4.0                4.0                     3\n",
       "1.0                    0.0                1.0                    49\n",
       "2.0                    0.0                2.0                     6\n",
       "3.0                    0.0                3.0                     1\n",
       "dtype: int64"
      ]
     },
     "execution_count": 85,
     "metadata": {},
     "output_type": "execute_result"
    }
   ],
   "source": [
    "train_transformed[\n",
    "    [\"ticket_girls_survived\", \"ticket_girls_died\", \"ticket_girls_total\"]\n",
    "].value_counts().sort_index()"
   ]
  },
  {
   "cell_type": "code",
   "execution_count": 86,
   "id": "e6c8151b",
   "metadata": {},
   "outputs": [],
   "source": [
    "# The ticket variables look good, now to check the family group variables"
   ]
  },
  {
   "cell_type": "code",
   "execution_count": 87,
   "id": "f9d76e5f",
   "metadata": {},
   "outputs": [
    {
     "data": {
      "text/plain": [
       "men_survived  men_died  men_total\n",
       "0.0           0.0       0.0          687\n",
       "              1.0       1.0          122\n",
       "              2.0       2.0           29\n",
       "              3.0       3.0            9\n",
       "1.0           0.0       1.0           22\n",
       "              1.0       2.0           18\n",
       "              2.0       3.0            4\n",
       "dtype: int64"
      ]
     },
     "execution_count": 87,
     "metadata": {},
     "output_type": "execute_result"
    }
   ],
   "source": [
    "train_transformed[\n",
    "    [\"men_survived\", \"men_died\", \"men_total\"]\n",
    "    ].value_counts().sort_index()"
   ]
  },
  {
   "cell_type": "code",
   "execution_count": 88,
   "id": "99e8dc66",
   "metadata": {},
   "outputs": [
    {
     "data": {
      "text/plain": [
       "boys_survived  boys_died  boys_total\n",
       "0.0            0.0        0.0           788\n",
       "               1.0        1.0            36\n",
       "               2.0        2.0             5\n",
       "               3.0        3.0            12\n",
       "               4.0        4.0            11\n",
       "               5.0        5.0             1\n",
       "1.0            0.0        1.0            34\n",
       "               1.0        2.0             2\n",
       "2.0            0.0        2.0             2\n",
       "dtype: int64"
      ]
     },
     "execution_count": 88,
     "metadata": {},
     "output_type": "execute_result"
    }
   ],
   "source": [
    "train_transformed[\n",
    "    [\"boys_survived\", \"boys_died\", \"boys_total\"]\n",
    "    ].value_counts().sort_index()"
   ]
  },
  {
   "cell_type": "code",
   "execution_count": 89,
   "id": "a1c9931d",
   "metadata": {},
   "outputs": [
    {
     "data": {
      "text/plain": [
       "women_survived  women_died  women_total\n",
       "0.0             0.0         0.0            720\n",
       "                1.0         1.0             58\n",
       "                2.0         2.0              3\n",
       "1.0             0.0         1.0             96\n",
       "                1.0         2.0              4\n",
       "2.0             0.0         2.0              8\n",
       "3.0             0.0         3.0              2\n",
       "dtype: int64"
      ]
     },
     "execution_count": 89,
     "metadata": {},
     "output_type": "execute_result"
    }
   ],
   "source": [
    "train_transformed[\n",
    "    [\"women_survived\", \"women_died\", \"women_total\"]\n",
    "    ].value_counts().sort_index()"
   ]
  },
  {
   "cell_type": "code",
   "execution_count": 90,
   "id": "6a3141d2",
   "metadata": {},
   "outputs": [
    {
     "data": {
      "text/plain": [
       "girls_survived  girls_died  girls_total\n",
       "0.0             0.0         0.0            785\n",
       "                1.0         1.0             25\n",
       "                2.0         2.0             14\n",
       "                3.0         3.0              5\n",
       "                4.0         4.0              1\n",
       "1.0             0.0         1.0             47\n",
       "                3.0         4.0              4\n",
       "                4.0         5.0              4\n",
       "2.0             0.0         2.0              5\n",
       "3.0             0.0         3.0              1\n",
       "dtype: int64"
      ]
     },
     "execution_count": 90,
     "metadata": {},
     "output_type": "execute_result"
    }
   ],
   "source": [
    "train_transformed[\n",
    "    [\"girls_survived\", \"girls_died\", \"girls_total\"]\n",
    "    ].value_counts().sort_index()"
   ]
  },
  {
   "cell_type": "code",
   "execution_count": 91,
   "id": "d77a65f6",
   "metadata": {},
   "outputs": [],
   "source": [
    "# It seems that the variable adjustments were done correctly.  Finally, \n",
    "# we are at the point where we can try to investigate the relationships."
   ]
  },
  {
   "cell_type": "code",
   "execution_count": 92,
   "id": "4522c43d",
   "metadata": {},
   "outputs": [],
   "source": [
    "# Before examining how family different relationships in a family affect\n",
    "# survival, lets look at the individual survival rates for each gender + age\n",
    "# group"
   ]
  },
  {
   "cell_type": "code",
   "execution_count": 93,
   "id": "53380568",
   "metadata": {},
   "outputs": [
    {
     "data": {
      "text/plain": [
       "Survived\n",
       "0           425\n",
       "1            82\n",
       "dtype: int64"
      ]
     },
     "execution_count": 93,
     "metadata": {},
     "output_type": "execute_result"
    }
   ],
   "source": [
    "# Men's survival rate: 82/(82+425) = 16.2%\n",
    "train_transformed[\n",
    "    (train_transformed[\"adult\"] == 1) &\n",
    "    (train_transformed[\"Sex\"] == 0)][\n",
    "    [\"Survived\"]].value_counts()"
   ]
  },
  {
   "cell_type": "code",
   "execution_count": 94,
   "id": "3166943e",
   "metadata": {},
   "outputs": [
    {
     "data": {
      "text/plain": [
       "Survived\n",
       "1           175\n",
       "0            54\n",
       "dtype: int64"
      ]
     },
     "execution_count": 94,
     "metadata": {},
     "output_type": "execute_result"
    }
   ],
   "source": [
    "# Women's survival rate: 175/(175+54) = 76.4%\n",
    "train_transformed[\n",
    "    (train_transformed[\"adult\"] == 1) &\n",
    "    (train_transformed[\"Sex\"] == 1)][\n",
    "    [\"Survived\"]].value_counts()"
   ]
  },
  {
   "cell_type": "code",
   "execution_count": 95,
   "id": "3a124d9a",
   "metadata": {},
   "outputs": [
    {
     "data": {
      "text/plain": [
       "Survived\n",
       "0           43\n",
       "1           27\n",
       "dtype: int64"
      ]
     },
     "execution_count": 95,
     "metadata": {},
     "output_type": "execute_result"
    }
   ],
   "source": [
    "# boys' survival rate: 27/(27+43) = 38.6%\n",
    "train_transformed[\n",
    "    (train_transformed[\"adult\"] == 0) &\n",
    "    (train_transformed[\"Sex\"] == 0)][\n",
    "    [\"Survived\"]].value_counts()"
   ]
  },
  {
   "cell_type": "code",
   "execution_count": 96,
   "id": "009a038a",
   "metadata": {},
   "outputs": [
    {
     "data": {
      "text/plain": [
       "Survived\n",
       "1           58\n",
       "0           27\n",
       "dtype: int64"
      ]
     },
     "execution_count": 96,
     "metadata": {},
     "output_type": "execute_result"
    }
   ],
   "source": [
    "# girls' survival rate: 58/(58+27) = 68.2%\n",
    "train_transformed[\n",
    "    (train_transformed[\"adult\"] == 0) &\n",
    "    (train_transformed[\"Sex\"] == 1)][\n",
    "    [\"Survived\"]].value_counts()"
   ]
  },
  {
   "cell_type": "code",
   "execution_count": 97,
   "id": "05b3e00b",
   "metadata": {},
   "outputs": [],
   "source": [
    "# Due to the above percentages, we see why the gender model of prediction is\n",
    "# relatively successful.  The model which we are attempting to improve upon\n",
    "# classifies all girls and women to die except for those in families where \n",
    "# every other boy, girl and woman in the training set dies.  It classifies\n",
    "# every man and boy to die except boys in families where every other boy, \n",
    "# girl and woman in the family lives.  With no additional model, these rules \n",
    "# achieve 82% accuracy on the test set.  If the females not predicted to \n",
    "# die by these rules and the males not predicted to live by these rules are\n",
    "# then fed into an xgboost model, the accuracy can be raised to 85%, which\n",
    "# is a very competitive score for this dataset.\n",
    "\n",
    "\n",
    "# My attempt to improve on the model will be focused on a couple areas:\n",
    "#\n",
    "# 1) I will use the survival of passengers with the same ticket number \n",
    "#    in situations where a passenger has no family members in the training\n",
    "#    set.\n",
    "# \n",
    "# 2) I will explore family and ticket group relationships myself and see if\n",
    "#    the additional variables I have created will enable me to come up with \n",
    "#    more precise survival rules.\n",
    "#\n",
    "# 3) If I end up feeding a portion of the passengers to a machine \n",
    "#    learning algorithm, I will additionally create rules to see which \n",
    "#    female passengers I am very confident will survive and which male \n",
    "#    passengers I am very confident will die.  These passengers can be left\n",
    "#    out of the pool along with the females we have predicted to die and the\n",
    "#    males we have predicted to live.\n",
    "#\n",
    "# 4) The model I mentioned earlier mainly relies on titles to choose who is\n",
    "#    a boy, a man, or a female.  My model relies on many engineered \n",
    "#    variables to more accurately describe family relationships and \n",
    "#    I differentiate between girls and women."
   ]
  },
  {
   "cell_type": "code",
   "execution_count": 98,
   "id": "95e28cc2",
   "metadata": {},
   "outputs": [],
   "source": [
    "# Before starting to create these rules, I will create two additional \n",
    "# variables, ticket_total_train and family_total_train.  These are the \n",
    "# total number of passengers with the same ticket number as the given \n",
    "# passenger in the train set, and the total number of passengers with the \n",
    "# same last name as the given passenger in the train set, respectively.\n",
    "# These will help isolate which classification rules may apply to different\n",
    "# passengers.  I will create this variable in the train and test sets"
   ]
  },
  {
   "cell_type": "code",
   "execution_count": 99,
   "id": "9eb1de26",
   "metadata": {},
   "outputs": [],
   "source": [
    "# creating ticket_total_train in the train set.\n",
    "train_transformed[\"ticket_total_train\"] = \\\n",
    "    train_transformed[\"ticket_men_total\"] + \\\n",
    "    train_transformed[\"ticket_women_total\"] + \\\n",
    "    train_transformed[\"ticket_boys_total\"] + \\\n",
    "    train_transformed[\"ticket_girls_total\"]"
   ]
  },
  {
   "cell_type": "code",
   "execution_count": 100,
   "id": "57fe80fd",
   "metadata": {},
   "outputs": [],
   "source": [
    "# creating ticket_total_train in the test set.\n",
    "x_test_transformed_df[\"ticket_total_train\"] = \\\n",
    "    x_test_transformed_df[\"ticket_men_total\"] + \\\n",
    "    x_test_transformed_df[\"ticket_women_total\"] + \\\n",
    "    x_test_transformed_df[\"ticket_boys_total\"] + \\\n",
    "    x_test_transformed_df[\"ticket_girls_total\"]"
   ]
  },
  {
   "cell_type": "code",
   "execution_count": 101,
   "id": "9e8e537e",
   "metadata": {},
   "outputs": [],
   "source": [
    "# creating family_total_train in the train set\n",
    "train_transformed[\"family_total_train\"] = \\\n",
    "    train_transformed[\"men_total\"] + \\\n",
    "    train_transformed[\"women_total\"] + \\\n",
    "    train_transformed[\"boys_total\"] + \\\n",
    "    train_transformed[\"girls_total\"]"
   ]
  },
  {
   "cell_type": "code",
   "execution_count": 102,
   "id": "9c035179",
   "metadata": {},
   "outputs": [],
   "source": [
    "# creating family_total_train in the test set\n",
    "x_test_transformed_df[\"family_total_train\"] = \\\n",
    "    x_test_transformed_df[\"men_total\"] + \\\n",
    "    x_test_transformed_df[\"women_total\"] + \\\n",
    "    x_test_transformed_df[\"boys_total\"] + \\\n",
    "    x_test_transformed_df[\"girls_total\"]"
   ]
  },
  {
   "cell_type": "code",
   "execution_count": 103,
   "id": "b23dde91",
   "metadata": {},
   "outputs": [
    {
     "data": {
      "text/plain": [
       "Survived  Pclass\n",
       "0         1          2\n",
       "          2          6\n",
       "          3         46\n",
       "1         1         71\n",
       "          2         52\n",
       "          3         52\n",
       "dtype: int64"
      ]
     },
     "execution_count": 103,
     "metadata": {},
     "output_type": "execute_result"
    }
   ],
   "source": [
    "# Additionally, before digging in to the different family relationships, \n",
    "# I want to establish the importance of pclass.  Women in pclass 1 almost \n",
    "# never die, and women in pclass 2 die only a bit more frequently.\n",
    "train_transformed[\n",
    "    (train_transformed[\"adult\"] == 1) &\n",
    "    (train_transformed[\"Sex\"] == 1)][\n",
    "    [\"Survived\", \"Pclass\"]].value_counts().sort_index()"
   ]
  },
  {
   "cell_type": "code",
   "execution_count": 104,
   "id": "bc88acc6",
   "metadata": {},
   "outputs": [
    {
     "data": {
      "text/plain": [
       "Survived  Pclass\n",
       "0         1          1\n",
       "          3         26\n",
       "1         1         20\n",
       "          2         18\n",
       "          3         20\n",
       "dtype: int64"
      ]
     },
     "execution_count": 104,
     "metadata": {},
     "output_type": "execute_result"
    }
   ],
   "source": [
    "# For girls, no passengers in train died who were pclass 2 and only one \n",
    "# passenger died who was pclass 1.\n",
    "train_transformed[\n",
    "    (train_transformed[\"adult\"] == 0) &\n",
    "    (train_transformed[\"Sex\"] == 1)][\n",
    "    [\"Survived\", \"Pclass\"]].value_counts().sort_index()"
   ]
  },
  {
   "cell_type": "code",
   "execution_count": 105,
   "id": "752e9806",
   "metadata": {},
   "outputs": [],
   "source": [
    "# In general, I may restrict females predicted to die to females in pclass \n",
    "# 3 (apart from some women for whom we know survival results of their \n",
    "# children)."
   ]
  },
  {
   "cell_type": "code",
   "execution_count": 106,
   "id": "f2810624",
   "metadata": {},
   "outputs": [
    {
     "data": {
      "text/plain": [
       "Survived  Pclass\n",
       "0         1          74\n",
       "          2          89\n",
       "          3         262\n",
       "1         1          39\n",
       "          2           8\n",
       "          3          35\n",
       "dtype: int64"
      ]
     },
     "execution_count": 106,
     "metadata": {},
     "output_type": "execute_result"
    }
   ],
   "source": [
    "# For men, our goal is to predict men who live.\n",
    "# 39/(39+74) or 34.5% men live from pclass 1\n",
    "# 8/(8+89) or 8.2% of men live from pclass 2\n",
    "# 35/(35+262) or 11.8% of men live from pclass 3\n",
    "train_transformed[\n",
    "    (train_transformed[\"adult\"] == 1) &\n",
    "    (train_transformed[\"Sex\"] == 0)][\n",
    "    [\"Survived\", \"Pclass\"]].value_counts().sort_index()"
   ]
  },
  {
   "cell_type": "code",
   "execution_count": 107,
   "id": "3538223a",
   "metadata": {},
   "outputs": [
    {
     "data": {
      "text/plain": [
       "Survived  Pclass\n",
       "0         1          3\n",
       "          2          2\n",
       "          3         38\n",
       "1         1          6\n",
       "          2          9\n",
       "          3         12\n",
       "dtype: int64"
      ]
     },
     "execution_count": 107,
     "metadata": {},
     "output_type": "execute_result"
    }
   ],
   "source": [
    "# For boys, our goal is also to predict who lives.\n",
    "# 6/9 or 66.6% of boys live in pclass 1\n",
    "# 9/11 or 81.8% of boys live in pclass 2\n",
    "# 12/50 or 24% of boys live in pclass 3.  \n",
    "train_transformed[\n",
    "    (train_transformed[\"adult\"] == 0) &\n",
    "    (train_transformed[\"Sex\"] == 0)][\n",
    "    [\"Survived\", \"Pclass\"]].value_counts().sort_index()"
   ]
  },
  {
   "cell_type": "code",
   "execution_count": 108,
   "id": "baa42470",
   "metadata": {},
   "outputs": [],
   "source": [
    "# It may make sense to restrict predicting men's survival to men with \n",
    "# pclass 1.  For boys, we will predict mostly based on family and then\n",
    "# for boys who we have no group information, we will predict survival for\n",
    "# only boys in pclasses 1 or 2."
   ]
  },
  {
   "cell_type": "code",
   "execution_count": 109,
   "id": "0f07fb80",
   "metadata": {},
   "outputs": [
    {
     "data": {
      "text/html": [
       "<div>\n",
       "<style scoped>\n",
       "    .dataframe tbody tr th:only-of-type {\n",
       "        vertical-align: middle;\n",
       "    }\n",
       "\n",
       "    .dataframe tbody tr th {\n",
       "        vertical-align: top;\n",
       "    }\n",
       "\n",
       "    .dataframe thead th {\n",
       "        text-align: right;\n",
       "    }\n",
       "</style>\n",
       "<table border=\"1\" class=\"dataframe\">\n",
       "  <thead>\n",
       "    <tr style=\"text-align: right;\">\n",
       "      <th></th>\n",
       "      <th>c_fare</th>\n",
       "      <th>q_fare</th>\n",
       "      <th>s_fare</th>\n",
       "    </tr>\n",
       "    <tr>\n",
       "      <th>Survived</th>\n",
       "      <th></th>\n",
       "      <th></th>\n",
       "      <th></th>\n",
       "    </tr>\n",
       "  </thead>\n",
       "  <tbody>\n",
       "    <tr>\n",
       "      <th>0</th>\n",
       "      <td>36.451497</td>\n",
       "      <td>30.0</td>\n",
       "      <td>30.832485</td>\n",
       "    </tr>\n",
       "    <tr>\n",
       "      <th>1</th>\n",
       "      <td>40.381272</td>\n",
       "      <td>30.0</td>\n",
       "      <td>31.850616</td>\n",
       "    </tr>\n",
       "  </tbody>\n",
       "</table>\n",
       "</div>"
      ],
      "text/plain": [
       "             c_fare  q_fare     s_fare\n",
       "Survived                              \n",
       "0         36.451497    30.0  30.832485\n",
       "1         40.381272    30.0  31.850616"
      ]
     },
     "execution_count": 109,
     "metadata": {},
     "output_type": "execute_result"
    }
   ],
   "source": [
    "# We also want to examine the possible use of using the port fare variables\n",
    "# to aid our survival predictions within pclass subsets.  Here are \n",
    "# the port fare averages for surviving and dying passengers in Pclass 1.\n",
    "train_transformed[(train_transformed[\"Pclass\"] == 1)][\n",
    "    [\"Survived\", \"c_fare\", \"q_fare\", \"s_fare\"]].groupby(\"Survived\").mean()"
   ]
  },
  {
   "cell_type": "code",
   "execution_count": 110,
   "id": "98b47d64",
   "metadata": {},
   "outputs": [
    {
     "data": {
      "text/html": [
       "<div>\n",
       "<style scoped>\n",
       "    .dataframe tbody tr th:only-of-type {\n",
       "        vertical-align: middle;\n",
       "    }\n",
       "\n",
       "    .dataframe tbody tr th {\n",
       "        vertical-align: top;\n",
       "    }\n",
       "\n",
       "    .dataframe thead th {\n",
       "        text-align: right;\n",
       "    }\n",
       "</style>\n",
       "<table border=\"1\" class=\"dataframe\">\n",
       "  <thead>\n",
       "    <tr style=\"text-align: right;\">\n",
       "      <th></th>\n",
       "      <th>c_fare</th>\n",
       "      <th>q_fare</th>\n",
       "      <th>s_fare</th>\n",
       "    </tr>\n",
       "    <tr>\n",
       "      <th>Survived</th>\n",
       "      <th></th>\n",
       "      <th></th>\n",
       "      <th></th>\n",
       "    </tr>\n",
       "  </thead>\n",
       "  <tbody>\n",
       "    <tr>\n",
       "      <th>0</th>\n",
       "      <td>13.324517</td>\n",
       "      <td>12.35</td>\n",
       "      <td>11.653557</td>\n",
       "    </tr>\n",
       "    <tr>\n",
       "      <th>1</th>\n",
       "      <td>12.630248</td>\n",
       "      <td>12.35</td>\n",
       "      <td>11.096546</td>\n",
       "    </tr>\n",
       "  </tbody>\n",
       "</table>\n",
       "</div>"
      ],
      "text/plain": [
       "             c_fare  q_fare     s_fare\n",
       "Survived                              \n",
       "0         13.324517   12.35  11.653557\n",
       "1         12.630248   12.35  11.096546"
      ]
     },
     "execution_count": 110,
     "metadata": {},
     "output_type": "execute_result"
    }
   ],
   "source": [
    "# In Pclass 2\n",
    "train_transformed[(train_transformed[\"Pclass\"] == 2)][\n",
    "    [\"Survived\", \"c_fare\", \"q_fare\", \"s_fare\"]].groupby(\"Survived\").mean()"
   ]
  },
  {
   "cell_type": "code",
   "execution_count": 111,
   "id": "b22074f8",
   "metadata": {},
   "outputs": [
    {
     "data": {
      "text/html": [
       "<div>\n",
       "<style scoped>\n",
       "    .dataframe tbody tr th:only-of-type {\n",
       "        vertical-align: middle;\n",
       "    }\n",
       "\n",
       "    .dataframe tbody tr th {\n",
       "        vertical-align: top;\n",
       "    }\n",
       "\n",
       "    .dataframe thead th {\n",
       "        text-align: right;\n",
       "    }\n",
       "</style>\n",
       "<table border=\"1\" class=\"dataframe\">\n",
       "  <thead>\n",
       "    <tr style=\"text-align: right;\">\n",
       "      <th></th>\n",
       "      <th>c_fare</th>\n",
       "      <th>q_fare</th>\n",
       "      <th>s_fare</th>\n",
       "    </tr>\n",
       "    <tr>\n",
       "      <th>Survived</th>\n",
       "      <th></th>\n",
       "      <th></th>\n",
       "      <th></th>\n",
       "    </tr>\n",
       "  </thead>\n",
       "  <tbody>\n",
       "    <tr>\n",
       "      <th>0</th>\n",
       "      <td>7.214353</td>\n",
       "      <td>7.380741</td>\n",
       "      <td>7.538091</td>\n",
       "    </tr>\n",
       "    <tr>\n",
       "      <th>1</th>\n",
       "      <td>6.288838</td>\n",
       "      <td>7.793215</td>\n",
       "      <td>7.163561</td>\n",
       "    </tr>\n",
       "  </tbody>\n",
       "</table>\n",
       "</div>"
      ],
      "text/plain": [
       "            c_fare    q_fare    s_fare\n",
       "Survived                              \n",
       "0         7.214353  7.380741  7.538091\n",
       "1         6.288838  7.793215  7.163561"
      ]
     },
     "execution_count": 111,
     "metadata": {},
     "output_type": "execute_result"
    }
   ],
   "source": [
    "# And in Pclass 3\n",
    "train_transformed[(train_transformed[\"Pclass\"] == 3)][\n",
    "    [\"Survived\", \"c_fare\", \"q_fare\", \"s_fare\"]].groupby(\"Survived\").mean()"
   ]
  },
  {
   "cell_type": "code",
   "execution_count": 112,
   "id": "3b7a6296",
   "metadata": {},
   "outputs": [],
   "source": [
    "# Clearly, from the above three cells, this strategy would be totally\n",
    "# useless within pclasses two and three, and mostly useless for pclass one.\n",
    "# However, it may be useful within genders.  We will possibly explore\n",
    "# this later if necessary.  A possible question: for men in pclass one,\n",
    "# is there a difference in port fare distributions for survivors and \n",
    "# passengers who died?"
   ]
  },
  {
   "cell_type": "code",
   "execution_count": 113,
   "id": "95e8b6f6",
   "metadata": {},
   "outputs": [],
   "source": [
    "# Now that we have explored pclass and the port fare variables, we can\n",
    "# move on to making rules for subsets of the data.\n",
    "\n",
    "# There are three main subsets of the data that need to be investigated:\n",
    "# 1) Passengers with at least one parent-child relationship that is \n",
    "#    present in the training set.  (For girls and boys, we \n",
    "#    exclude men from being counted as a parch relationship.)\n",
    "# 2) Passengers with a family member in the train set, but no parent-child\n",
    "#    relationships in the train set.\n",
    "# 3) Passengers with no family members present in the training set.\n",
    "\n",
    "#####QUESTION: Which of these subsets will children traveling with \n",
    "#############  their fathers only belongs to?  I would say subset 3, if \n",
    "# the goal is to truly not care about mens survival as a predictor of \n",
    "# childrens survival."
   ]
  },
  {
   "cell_type": "code",
   "execution_count": 114,
   "id": "360e80b7",
   "metadata": {},
   "outputs": [
    {
     "data": {
      "text/plain": [
       "213"
      ]
     },
     "execution_count": 114,
     "metadata": {},
     "output_type": "execute_result"
    }
   ],
   "source": [
    "# We will begin with passengers who have Parch >= 1.  This is 213 of 891 \n",
    "# members of the test set.\n",
    "len(train_transformed[\n",
    "    (train_transformed[\"Parch\"] >= 1)\n",
    "])"
   ]
  },
  {
   "cell_type": "code",
   "execution_count": 115,
   "id": "2765ddf1",
   "metadata": {},
   "outputs": [
    {
     "data": {
      "text/plain": [
       "180"
      ]
     },
     "execution_count": 115,
     "metadata": {},
     "output_type": "execute_result"
    }
   ],
   "source": [
    "# Of these passengers, 180 have at least one family member also contained\n",
    "# in the train set.  This is the subset for whom we can make rules about \n",
    "# family survival.  Theoretically, these are the only passengers\n",
    "# which the special rules of the last model would have applied to.\n",
    "len(train_transformed[\n",
    "    (train_transformed[\"Parch\"] >= 1) &\n",
    "    (train_transformed[\"family_total_train\"] >= 1)\n",
    "])"
   ]
  },
  {
   "cell_type": "code",
   "execution_count": 116,
   "id": "7cb5e72b",
   "metadata": {},
   "outputs": [],
   "source": [
    "# The first part of this group we will look at is passengers who had at \n",
    "# least one parent-child relationship present in train."
   ]
  },
  {
   "cell_type": "code",
   "execution_count": 117,
   "id": "d7adc3d5",
   "metadata": {},
   "outputs": [
    {
     "data": {
      "text/plain": [
       "0    18\n",
       "1     2\n",
       "Name: Survived, dtype: int64"
      ]
     },
     "execution_count": 117,
     "metadata": {},
     "output_type": "execute_result"
    }
   ],
   "source": [
    "# First, we will look at the men from this group.  Only 2/20 of these\n",
    "# men survived.  \n",
    "train_transformed[\n",
    "    (train_transformed[\"Parch\"] >= 1) &\n",
    "    (train_transformed[\"family_total_train\"] >= 1) &\n",
    "    (train_transformed[\"Sex\"] == 0) &\n",
    "    ((train_transformed[\"boys_total\"] >= 1) |\n",
    "     (train_transformed[\"girls_total\"] >= 1)) &\n",
    "    (train_transformed[\"adult\"] == 1)][\"Survived\"].value_counts()"
   ]
  },
  {
   "cell_type": "code",
   "execution_count": 118,
   "id": "8513a196",
   "metadata": {},
   "outputs": [
    {
     "data": {
      "text/plain": [
       "0    12\n",
       "1     1\n",
       "Name: Survived, dtype: int64"
      ]
     },
     "execution_count": 118,
     "metadata": {},
     "output_type": "execute_result"
    }
   ],
   "source": [
    "# Requiring that no women or children died narrows the search down to \n",
    "# 12 men who died and 1 who lived.\n",
    "train_transformed[\n",
    "    (train_transformed[\"Parch\"] >= 1) &\n",
    "    (train_transformed[\"family_total_train\"] >= 1) &\n",
    "    (train_transformed[\"Sex\"] == 0) &\n",
    "    ((train_transformed[\"boys_total\"] >= 1) |\n",
    "     (train_transformed[\"girls_total\"] >= 1)) &\n",
    "    (train_transformed[\"adult\"] == 1) &\n",
    "    (train_transformed[\"women_died\"] == 0) &\n",
    "    (train_transformed[\"boys_died\"] == 0) &\n",
    "    (train_transformed[\"girls_died\"] == 0)][\"Survived\"].value_counts()"
   ]
  },
  {
   "cell_type": "code",
   "execution_count": 119,
   "id": "fb8e258c",
   "metadata": {},
   "outputs": [
    {
     "data": {
      "text/plain": [
       "0    3\n",
       "Name: Survived, dtype: int64"
      ]
     },
     "execution_count": 119,
     "metadata": {},
     "output_type": "execute_result"
    }
   ],
   "source": [
    "# Using pclass to further narrow does not allow us to select a living man.\n",
    "# Overall, we will not predict any of the men who have at least one parch\n",
    "# relationship in train to survive.  We will predict all men who have a \n",
    "# parch relationship in train to die.\n",
    "train_transformed[\n",
    "    (train_transformed[\"Parch\"] >= 1) &\n",
    "    (train_transformed[\"family_total_train\"] >= 1) &\n",
    "    (train_transformed[\"Sex\"] == 0) &\n",
    "    ((train_transformed[\"boys_total\"] >= 1) |\n",
    "     (train_transformed[\"girls_total\"] >= 1)) &\n",
    "    (train_transformed[\"adult\"] == 1) &\n",
    "    (train_transformed[\"women_died\"] == 0) &\n",
    "    (train_transformed[\"boys_died\"] == 0) &\n",
    "    (train_transformed[\"girls_died\"] == 0) &\n",
    "    (train_transformed[\"Pclass\"] == 1)][\"Survived\"].value_counts()"
   ]
  },
  {
   "cell_type": "code",
   "execution_count": 120,
   "id": "06613d34",
   "metadata": {},
   "outputs": [
    {
     "data": {
      "text/plain": [
       "1    25\n",
       "0    13\n",
       "Name: Survived, dtype: int64"
      ]
     },
     "execution_count": 120,
     "metadata": {},
     "output_type": "execute_result"
    }
   ],
   "source": [
    "# Moving on to women with parch >= 1 and at least one boy or girl in\n",
    "# train.  25/38 of these women survive.  These are women from the following\n",
    "# categories:\n",
    "# 1) women with only girls included in the train set\n",
    "# 2) women with only boys included in the train set \n",
    "# 3) women with girls and boys included in the train set\n",
    "# \n",
    "# We are attempting to predict which of these women will die.\n",
    "train_transformed[\n",
    "    (train_transformed[\"Parch\"] >= 1) &\n",
    "    (train_transformed[\"family_total_train\"] >= 1) &\n",
    "    ((train_transformed[\"boys_total\"] >= 1) |\n",
    "     (train_transformed[\"girls_total\"] >= 1)) &\n",
    "    (train_transformed[\"Sex\"] == 1) &\n",
    "    (train_transformed[\"adult\"] == 1)][\"Survived\"].value_counts()"
   ]
  },
  {
   "cell_type": "code",
   "execution_count": 121,
   "id": "53e422d6",
   "metadata": {},
   "outputs": [
    {
     "data": {
      "text/plain": [
       "1    14\n",
       "0     5\n",
       "Name: Survived, dtype: int64"
      ]
     },
     "execution_count": 121,
     "metadata": {},
     "output_type": "execute_result"
    }
   ],
   "source": [
    "# There are 19 women in this subset who only have girls in the train set, \n",
    "# and 14/19 of these women survive..\n",
    "train_transformed[\n",
    "    (train_transformed[\"Parch\"] >= 1) &\n",
    "    (train_transformed[\"family_total_train\"] >= 1) &\n",
    "    (train_transformed[\"Sex\"] == 1) &\n",
    "    (train_transformed[\"adult\"] == 1) &\n",
    "    (train_transformed[\"girls_total\"] >= 1) &\n",
    "    (train_transformed[\"boys_total\"] == 0)][\"Survived\"].value_counts()"
   ]
  },
  {
   "cell_type": "code",
   "execution_count": 122,
   "id": "d9838d6e",
   "metadata": {},
   "outputs": [
    {
     "data": {
      "text/plain": [
       "Survived  Pclass\n",
       "0         3         5\n",
       "dtype: int64"
      ]
     },
     "execution_count": 122,
     "metadata": {},
     "output_type": "execute_result"
    }
   ],
   "source": [
    "# If we require that at least one girl dies, we perfectly select the 5 women\n",
    "# who die and do not select any of the 14 women who live.  I choose not to \n",
    "# include pclass in this rule, because in my mind a girl dying would \n",
    "# overrule a woman being in pclass 1, although only women in pclass 3 \n",
    "# die in this subset in train.\n",
    "train_transformed[\n",
    "    (train_transformed[\"Parch\"] >= 1) &\n",
    "    (train_transformed[\"family_total_train\"] >= 1) &\n",
    "    (train_transformed[\"Sex\"] == 1) &\n",
    "    (train_transformed[\"adult\"] == 1) &\n",
    "    (train_transformed[\"girls_total\"] >= 1) &\n",
    "    (train_transformed[\"boys_total\"] == 0) &\n",
    "    (train_transformed[\"girls_died\"] >= 1)][\n",
    "    [\"Survived\", \"Pclass\"]].value_counts()"
   ]
  },
  {
   "cell_type": "code",
   "execution_count": 123,
   "id": "c9624831",
   "metadata": {},
   "outputs": [
    {
     "data": {
      "text/plain": [
       "1    8\n",
       "0    2\n",
       "Name: Survived, dtype: int64"
      ]
     },
     "execution_count": 123,
     "metadata": {},
     "output_type": "execute_result"
    }
   ],
   "source": [
    "# There are 10 women with only boys in the training set, 8 of whom survive.\n",
    "train_transformed[\n",
    "    (train_transformed[\"Parch\"] >= 1) &\n",
    "    (train_transformed[\"family_total_train\"] >= 1) &\n",
    "    (train_transformed[\"Sex\"] == 1) &\n",
    "    (train_transformed[\"adult\"] == 1) &\n",
    "    (train_transformed[\"girls_total\"] == 0) &\n",
    "    (train_transformed[\"boys_total\"] >= 1)][\"Survived\"].value_counts()"
   ]
  },
  {
   "cell_type": "code",
   "execution_count": 124,
   "id": "4b5cd237",
   "metadata": {},
   "outputs": [
    {
     "data": {
      "text/plain": [
       "1    2\n",
       "0    2\n",
       "Name: Survived, dtype: int64"
      ]
     },
     "execution_count": 124,
     "metadata": {},
     "output_type": "execute_result"
    }
   ],
   "source": [
    "# If we require that at least one boys dies, we cut the subset down to \n",
    "# two surviving women and two dying women.\n",
    "train_transformed[\n",
    "    (train_transformed[\"Parch\"] >= 1) &\n",
    "    (train_transformed[\"family_total_train\"] >= 1) &\n",
    "    (train_transformed[\"Sex\"] == 1) &\n",
    "    (train_transformed[\"adult\"] == 1) &\n",
    "    (train_transformed[\"girls_total\"] == 0) &\n",
    "    (train_transformed[\"boys_total\"] >= 1) &\n",
    "    (train_transformed[\"boys_died\"] >= 1)][\"Survived\"].value_counts()"
   ]
  },
  {
   "cell_type": "code",
   "execution_count": 125,
   "id": "c516ef61",
   "metadata": {},
   "outputs": [
    {
     "data": {
      "text/plain": [
       "Survived  Pclass\n",
       "0         3         2\n",
       "1         1         1\n",
       "          3         1\n",
       "dtype: int64"
      ]
     },
     "execution_count": 125,
     "metadata": {},
     "output_type": "execute_result"
    }
   ],
   "source": [
    "# For this subset of 4 women, if we predicted all women in pclass 3 died and\n",
    "# all other women survived, we would correctly identify 2/2 dying women and\n",
    "# incorrectly predict that one surviving woman dies.  Our total accuracy \n",
    "# would be 3/4 or 75%, so we include this rule.  This is the first example \n",
    "# of using pclass to aid in our family prediction models.\n",
    "train_transformed[\n",
    "    (train_transformed[\"Parch\"] >= 1) &\n",
    "    (train_transformed[\"family_total_train\"] >= 1) &\n",
    "    (train_transformed[\"Sex\"] == 1) &\n",
    "    (train_transformed[\"adult\"] == 1) &\n",
    "    (train_transformed[\"girls_total\"] == 0) &\n",
    "    (train_transformed[\"boys_total\"] >= 1) &\n",
    "    (train_transformed[\"boys_died\"] >= 1)][\n",
    "    [\"Survived\", \"Pclass\"]].value_counts()"
   ]
  },
  {
   "cell_type": "code",
   "execution_count": 126,
   "id": "97adc61c",
   "metadata": {
    "scrolled": true
   },
   "outputs": [
    {
     "data": {
      "text/plain": [
       "0    6\n",
       "1    3\n",
       "Name: Survived, dtype: int64"
      ]
     },
     "execution_count": 126,
     "metadata": {},
     "output_type": "execute_result"
    }
   ],
   "source": [
    "# There are 9 total women who have both boys and girls in the train set, \n",
    "# six of whom die.\n",
    "train_transformed[\n",
    "    (train_transformed[\"Parch\"] >= 1) &\n",
    "    (train_transformed[\"family_total_train\"] >= 1) &\n",
    "    (train_transformed[\"Sex\"] == 1) &\n",
    "    (train_transformed[\"adult\"] == 1) &\n",
    "    (train_transformed[\"girls_total\"] >= 1) &\n",
    "    (train_transformed[\"boys_total\"] >= 1)][\"Survived\"].value_counts()"
   ]
  },
  {
   "cell_type": "code",
   "execution_count": 127,
   "id": "b292e8b7",
   "metadata": {},
   "outputs": [
    {
     "data": {
      "text/plain": [
       "Survived  Pclass\n",
       "0         3         5\n",
       "          1         1\n",
       "dtype: int64"
      ]
     },
     "execution_count": 127,
     "metadata": {},
     "output_type": "execute_result"
    }
   ],
   "source": [
    "# If we require that at least one girl dies, we correctly select all 6 \n",
    "# of the dying women, and this includes one woman in pclass 1.\n",
    "train_transformed[\n",
    "    (train_transformed[\"Parch\"] >= 1) &\n",
    "    (train_transformed[\"family_total_train\"] >= 1) &\n",
    "    (train_transformed[\"Sex\"] == 1) &\n",
    "    (train_transformed[\"adult\"] == 1) &\n",
    "    (train_transformed[\"girls_total\"] >= 1) &\n",
    "    (train_transformed[\"boys_total\"] >= 1) &\n",
    "    (train_transformed[\"girls_died\"] >= 1)][\n",
    "    [\"Survived\", \"Pclass\"]].value_counts()"
   ]
  },
  {
   "cell_type": "code",
   "execution_count": 128,
   "id": "e6086246",
   "metadata": {},
   "outputs": [],
   "source": [
    "# With the rules created for these three subsets of women who have at \n",
    "# least one child in the train set, we correctly select 13/13 women who \n",
    "# will die while only incorrectly selecting one woman who lives.\n",
    "\n",
    "# To sum up the logic, if any girls are present, we predict the woman will\n",
    "# die if any girls die, regardless of the womans pclass.  If boys but no \n",
    "# girls are present, and at least one boy dies, we predict the woman will\n",
    "# die as long as she is in pclass 3."
   ]
  },
  {
   "cell_type": "code",
   "execution_count": null,
   "id": "c5a18aec",
   "metadata": {},
   "outputs": [],
   "source": []
  },
  {
   "cell_type": "code",
   "execution_count": 129,
   "id": "ee3fdda1",
   "metadata": {},
   "outputs": [
    {
     "data": {
      "text/plain": [
       "1    21\n",
       "0    17\n",
       "Name: Survived, dtype: int64"
      ]
     },
     "execution_count": 129,
     "metadata": {},
     "output_type": "execute_result"
    }
   ],
   "source": [
    "# Now, we focus on girls with parch >= 1.  We will require that these girls\n",
    "# have at least one mother in the training set.  There are 38 of these\n",
    "# girls, 21 of whom survive.  We will discount mens survival for this\n",
    "# group, and focus on four subsets:\n",
    "# 1) Girls who only have women in train\n",
    "# 2) Girls who have women and only sisters in train\n",
    "# 3) Girls who have women and only brothers in train\n",
    "# 4) Girls who have women, brothers and sisters in train.\n",
    "train_transformed[\n",
    "    (train_transformed[\"Parch\"] >= 1) &\n",
    "    (train_transformed[\"Sex\"] == 1) &\n",
    "    (train_transformed[\"adult\"] == 0) &\n",
    "    (train_transformed[\"women_total\"] >= 1)][\"Survived\"].value_counts()"
   ]
  },
  {
   "cell_type": "code",
   "execution_count": 130,
   "id": "35712d20",
   "metadata": {},
   "outputs": [
    {
     "data": {
      "text/plain": [
       "1    14\n",
       "0     5\n",
       "Name: Survived, dtype: int64"
      ]
     },
     "execution_count": 130,
     "metadata": {},
     "output_type": "execute_result"
    }
   ],
   "source": [
    "# Girls who have only women in the train set. 5/19 of these girls die.\n",
    "train_transformed[\n",
    "    (train_transformed[\"Parch\"] >= 1) &\n",
    "    (train_transformed[\"Sex\"] == 1) &\n",
    "    (train_transformed[\"adult\"] == 0) &\n",
    "    (train_transformed[\"women_total\"] >= 1) &\n",
    "    (train_transformed[\"boys_total\"] == 0) &\n",
    "    (train_transformed[\"girls_total\"] == 0)][\"Survived\"].value_counts()"
   ]
  },
  {
   "cell_type": "code",
   "execution_count": 131,
   "id": "7bc19bff",
   "metadata": {},
   "outputs": [
    {
     "data": {
      "text/plain": [
       "0    5\n",
       "Name: Survived, dtype: int64"
      ]
     },
     "execution_count": 131,
     "metadata": {},
     "output_type": "execute_result"
    }
   ],
   "source": [
    "# If we predict the girls will die for whom all women died, we correctly \n",
    "# predict the 5/5 dying girls, while not predicting any of the 14 living \n",
    "# girls will die.\n",
    "train_transformed[\n",
    "    (train_transformed[\"Parch\"] >= 1) &\n",
    "    (train_transformed[\"Sex\"] == 1) &\n",
    "    (train_transformed[\"adult\"] == 0) &\n",
    "    (train_transformed[\"women_total\"] >= 1) &\n",
    "    (train_transformed[\"boys_total\"] == 0) &\n",
    "    (train_transformed[\"girls_total\"] == 0) &\n",
    "    (train_transformed[\"women_survived\"] == 0)][\"Survived\"].value_counts()"
   ]
  },
  {
   "cell_type": "code",
   "execution_count": 132,
   "id": "e510699f",
   "metadata": {},
   "outputs": [
    {
     "data": {
      "text/plain": [
       "1    3\n",
       "Name: Survived, dtype: int64"
      ]
     },
     "execution_count": 132,
     "metadata": {},
     "output_type": "execute_result"
    }
   ],
   "source": [
    "# For girls who have women and only sisters in train, 3 girls survive and \n",
    "# no girls die.\n",
    "train_transformed[\n",
    "    (train_transformed[\"Parch\"] >= 1) &\n",
    "    (train_transformed[\"Sex\"] == 1) &\n",
    "    (train_transformed[\"adult\"] == 0) &\n",
    "    (train_transformed[\"women_total\"] >= 1) &\n",
    "    (train_transformed[\"girls_total\"] >= 1) &\n",
    "    (train_transformed[\"boys_total\"] == 0)][\"Survived\"].value_counts()"
   ]
  },
  {
   "cell_type": "code",
   "execution_count": 133,
   "id": "b81b2e12",
   "metadata": {},
   "outputs": [
    {
     "data": {
      "text/plain": [
       "Series([], Name: Survived, dtype: int64)"
      ]
     },
     "execution_count": 133,
     "metadata": {},
     "output_type": "execute_result"
    }
   ],
   "source": [
    "# There is no information to go off for this subset, so we will predict\n",
    "# girls in this subset die when all of the women and girls in train also\n",
    "# die.  There are no girls for whom this is true in the train set.\n",
    "train_transformed[\n",
    "    (train_transformed[\"Parch\"] >= 1) &\n",
    "    (train_transformed[\"Sex\"] == 1) &\n",
    "    (train_transformed[\"adult\"] == 0) &\n",
    "    (train_transformed[\"women_total\"] >= 1) &\n",
    "    (train_transformed[\"girls_total\"] >= 1) &\n",
    "    (train_transformed[\"boys_total\"] == 0) &\n",
    "    (train_transformed[\"girls_died\"] == \\\n",
    "     train_transformed[\"girls_total\"]) &\n",
    "    (train_transformed[\"women_died\"] == \\\n",
    "     train_transformed[\"women_total\"])][\"Survived\"].value_counts()"
   ]
  },
  {
   "cell_type": "code",
   "execution_count": 134,
   "id": "13da2da2",
   "metadata": {},
   "outputs": [
    {
     "data": {
      "text/plain": [
       "Survived  Pclass\n",
       "0         1         1\n",
       "          3         1\n",
       "1         1         1\n",
       "          3         2\n",
       "dtype: int64"
      ]
     },
     "execution_count": 134,
     "metadata": {},
     "output_type": "execute_result"
    }
   ],
   "source": [
    "# For girls who have women and only brothers in train, 2/5 girls die.\n",
    "train_transformed[\n",
    "    (train_transformed[\"Parch\"] >= 1) &\n",
    "    (train_transformed[\"Sex\"] == 1) &\n",
    "    (train_transformed[\"adult\"] == 0) &\n",
    "    (train_transformed[\"women_total\"] >= 1) &\n",
    "    (train_transformed[\"girls_total\"] == 0) &\n",
    "    (train_transformed[\"boys_total\"] >= 1)][\n",
    "    [\"Survived\", \"Pclass\"]].value_counts().sort_index()"
   ]
  },
  {
   "cell_type": "code",
   "execution_count": 135,
   "id": "a856165c",
   "metadata": {},
   "outputs": [
    {
     "data": {
      "text/plain": [
       "0    1\n",
       "Name: Survived, dtype: int64"
      ]
     },
     "execution_count": 135,
     "metadata": {},
     "output_type": "execute_result"
    }
   ],
   "source": [
    "#  From this subset, if we require that all women and all boys die, we\n",
    "# correctly select 1/2 dying girls, without selecting any surviving girls.\n",
    "# If we only require all women to die, we correctly select the \n",
    "# both dying girls, but I think on the test set it is a better bet to \n",
    "# require that all boys die as well.\n",
    "train_transformed[\n",
    "    (train_transformed[\"Parch\"] >= 1) &\n",
    "    (train_transformed[\"Sex\"] == 1) &\n",
    "    (train_transformed[\"adult\"] == 0) &\n",
    "    (train_transformed[\"women_total\"] >= 1) &\n",
    "    (train_transformed[\"girls_total\"] == 0) &\n",
    "    (train_transformed[\"boys_total\"] >= 1) &\n",
    "    (train_transformed[\"women_survived\"] == 0) &\n",
    "    (train_transformed[\"boys_survived\"] == 0)][\"Survived\"].value_counts()"
   ]
  },
  {
   "cell_type": "code",
   "execution_count": 136,
   "id": "6611a4f7",
   "metadata": {},
   "outputs": [
    {
     "data": {
      "text/plain": [
       "0    10\n",
       "1     1\n",
       "Name: Survived, dtype: int64"
      ]
     },
     "execution_count": 136,
     "metadata": {},
     "output_type": "execute_result"
    }
   ],
   "source": [
    "# Finally, the subset of girls who have women, brothers and sisters in \n",
    "# train.  10/11 of these girls end up dying.\n",
    "train_transformed[\n",
    "    (train_transformed[\"Parch\"] >= 1) &\n",
    "    (train_transformed[\"Sex\"] == 1) &\n",
    "    (train_transformed[\"adult\"] == 0) &\n",
    "    (train_transformed[\"women_total\"] >= 1) &\n",
    "    (train_transformed[\"girls_total\"] >= 1) &\n",
    "    (train_transformed[\"boys_total\"] >= 1)][\"Survived\"].value_counts()"
   ]
  },
  {
   "cell_type": "code",
   "execution_count": 137,
   "id": "98c10c3d",
   "metadata": {},
   "outputs": [
    {
     "data": {
      "text/plain": [
       "0    10\n",
       "1     1\n",
       "Name: Survived, dtype: int64"
      ]
     },
     "execution_count": 137,
     "metadata": {},
     "output_type": "execute_result"
    }
   ],
   "source": [
    "# This is a strange subset, where the large majority of girls die.  We can \n",
    "# expect the proportions found in the test set for this subset to vary\n",
    "# significantly.  However, we can relatively safely predict that if \n",
    "# all boys die, all women die, and at least one girl dies, then the given \n",
    "# girl passenger is likely to die herself.  We could be stricter and require\n",
    "# all girls to die, but if all the women and boys die and at least one \n",
    "# girl dies, even if some girls live I would guess that there is a \n",
    "# >50% chance that the unknown girl may die.  Also, for the training set, \n",
    "# requiring that all girls die in addition to all boys and all girls lowers \n",
    "# the amount correctly predicted to die from 10/11 to 6/7, not that the \n",
    "# train set is likely to be representative for this subset.  \n",
    "\n",
    "# Using this rule, we would predict 11 girls die, and we would be correct \n",
    "# for 10/11 of them.  This seems like a fair rule to use.\n",
    "\n",
    "train_transformed[\n",
    "    (train_transformed[\"Parch\"] >= 1) &\n",
    "    (train_transformed[\"Sex\"] == 1) &\n",
    "    (train_transformed[\"adult\"] == 0) &\n",
    "    (train_transformed[\"women_total\"] >= 1) &\n",
    "    (train_transformed[\"girls_total\"] >= 1) &\n",
    "    (train_transformed[\"boys_total\"] >= 1) &\n",
    "    (train_transformed[\"girls_died\"] >= 1) &\n",
    "    (train_transformed[\"boys_survived\"] == 0) &\n",
    "    (train_transformed[\"women_survived\"] == 0)][\"Survived\"].value_counts()"
   ]
  },
  {
   "cell_type": "code",
   "execution_count": 138,
   "id": "5e271c21",
   "metadata": {},
   "outputs": [],
   "source": [
    "# In total, for the 17/38 girls who die in this subset, our rules would\n",
    "# correctly guess all 17 of them died, while only predicting 1 girl to \n",
    "# die who lives.  We do not have to use pclass or the port fare variables \n",
    "# for these girls."
   ]
  },
  {
   "cell_type": "code",
   "execution_count": null,
   "id": "5b79dace",
   "metadata": {},
   "outputs": [],
   "source": []
  },
  {
   "cell_type": "code",
   "execution_count": 139,
   "id": "1776d571",
   "metadata": {},
   "outputs": [
    {
     "data": {
      "text/plain": [
       "0    21\n",
       "1    11\n",
       "Name: Survived, dtype: int64"
      ]
     },
     "execution_count": 139,
     "metadata": {},
     "output_type": "execute_result"
    }
   ],
   "source": [
    "# Now, for predicting which boys will live in the subset of boys have have\n",
    "# at least one mother present in the train set.  11/32 of these boys \n",
    "# survive in the training set.  They can be broken down into 4 groups:\n",
    "# 1) Boys who only have women in train\n",
    "# 2) Boys who have women and only brothers in train\n",
    "# 3) Boys who have women and only sisters in train\n",
    "# 4) Boys who have women, brothers and sisters in train.\n",
    "train_transformed[\n",
    "    (train_transformed[\"Parch\"] >= 1) &\n",
    "    (train_transformed[\"Sex\"] == 0) &\n",
    "    (train_transformed[\"adult\"] == 0) &\n",
    "    (train_transformed[\"women_total\"] >= 1)][\"Survived\"].value_counts()"
   ]
  },
  {
   "cell_type": "code",
   "execution_count": 140,
   "id": "95b62efd",
   "metadata": {},
   "outputs": [
    {
     "data": {
      "text/plain": [
       "1    5\n",
       "0    2\n",
       "Name: Survived, dtype: int64"
      ]
     },
     "execution_count": 140,
     "metadata": {},
     "output_type": "execute_result"
    }
   ],
   "source": [
    "# For boys who only have women in train 5/7 survive.\n",
    "train_transformed[\n",
    "    (train_transformed[\"Parch\"] >= 1) &\n",
    "    (train_transformed[\"Sex\"] == 0) &\n",
    "    (train_transformed[\"adult\"] == 0) &\n",
    "    (train_transformed[\"women_total\"] >= 1) &\n",
    "    (train_transformed[\"boys_total\"] == 0) &\n",
    "    (train_transformed[\"girls_total\"] == 0)][\"Survived\"].value_counts()"
   ]
  },
  {
   "cell_type": "code",
   "execution_count": 141,
   "id": "bf275046",
   "metadata": {},
   "outputs": [
    {
     "data": {
      "text/plain": [
       "1    5\n",
       "0    2\n",
       "Name: Survived, dtype: int64"
      ]
     },
     "execution_count": 141,
     "metadata": {},
     "output_type": "execute_result"
    }
   ],
   "source": [
    "# If we additionally require that at least one woman survives, we do not\n",
    "# eliminate either of the two dying boys.  This does not change if we \n",
    "# further require all women to survive.\n",
    "train_transformed[\n",
    "    (train_transformed[\"Parch\"] >= 1) &\n",
    "    (train_transformed[\"Sex\"] == 0) &\n",
    "    (train_transformed[\"adult\"] == 0) &\n",
    "    (train_transformed[\"women_total\"] >= 1) &\n",
    "    (train_transformed[\"boys_total\"] == 0) &\n",
    "    (train_transformed[\"girls_total\"] == 0) &\n",
    "    (train_transformed[\"women_survived\"] >= 1)][\"Survived\"].value_counts()"
   ]
  },
  {
   "cell_type": "code",
   "execution_count": 142,
   "id": "e8d17201",
   "metadata": {},
   "outputs": [
    {
     "data": {
      "text/plain": [
       "Pclass  Survived  women_survived\n",
       "1       0         1.0                1\n",
       "        1         0.0                1\n",
       "                  1.0                2\n",
       "2       1         1.0                4\n",
       "3       0         0.0               19\n",
       "                  1.0                3\n",
       "        1         1.0                4\n",
       "dtype: int64"
      ]
     },
     "execution_count": 142,
     "metadata": {},
     "output_type": "execute_result"
    }
   ],
   "source": [
    "# To gain further insight, we look at boys with at least one woman in the \n",
    "# train set.\n",
    "\n",
    "# When the boy is pclass 1 or 2, and at least one woman survives, the \n",
    "# boy survives 6/7 times.  When the boy is pclass 1 and the woman dies, \n",
    "# the boy survives 1/1 times.  \n",
    "\n",
    "# However, when the boys pclass is 3, and at least one \n",
    "# woman survives, boys survive 4/7 times.  When the boy is pclass 3 and \n",
    "# no women survive, the boy dies 19/19 times.\n",
    "\n",
    "# The takeaway is that when a boys mother survives, he is very likely to \n",
    "# survive in pclass 1 or 2 and it is a toss up if he will survive in \n",
    "# pclass 3.  Combine this with the overall strong tendency of boys in pclass\n",
    "# 3 to die, and we why it may be wise to predict boys who are only traveling\n",
    "# with women to survive if a woman survives and they are not pclass 3.\n",
    "train_transformed[\n",
    "    (train_transformed[\"adult\"] == 0) &\n",
    "    (train_transformed[\"Sex\"] == 0) &\n",
    "    (train_transformed[\"women_total\"] >= 1)][\n",
    "    [\"Pclass\", \"Survived\", \"women_survived\"]].value_counts().sort_index()"
   ]
  },
  {
   "cell_type": "code",
   "execution_count": 143,
   "id": "c93beca3",
   "metadata": {},
   "outputs": [
    {
     "data": {
      "text/plain": [
       "1    3\n",
       "0    1\n",
       "Name: Survived, dtype: int64"
      ]
     },
     "execution_count": 143,
     "metadata": {},
     "output_type": "execute_result"
    }
   ],
   "source": [
    "# Further requiring that the boys are not in pclass 3 eliminates 2 surviving\n",
    "# boys and one dying boy.  Although this hurts the percentages on the \n",
    "# training set, I will keep this rule due to the points made in the above\n",
    "# cell.\n",
    "train_transformed[\n",
    "    (train_transformed[\"Parch\"] >= 1) &\n",
    "    (train_transformed[\"Sex\"] == 0) &\n",
    "    (train_transformed[\"adult\"] == 0) &\n",
    "    (train_transformed[\"women_total\"] >= 1) &\n",
    "    (train_transformed[\"boys_total\"] == 0) &\n",
    "    (train_transformed[\"girls_total\"] == 0) &\n",
    "    (train_transformed[\"women_survived\"] >= 1) &\n",
    "    (train_transformed[\"Pclass\"] != 3)][\"Survived\"].value_counts()"
   ]
  },
  {
   "cell_type": "code",
   "execution_count": 144,
   "id": "103d5a87",
   "metadata": {},
   "outputs": [
    {
     "data": {
      "text/plain": [
       "0    9\n",
       "1    2\n",
       "Name: Survived, dtype: int64"
      ]
     },
     "execution_count": 144,
     "metadata": {},
     "output_type": "execute_result"
    }
   ],
   "source": [
    "# There are 11 boys with women and boys in their family, and 2/11 of them\n",
    "# survive.\n",
    "train_transformed[\n",
    "    (train_transformed[\"Parch\"] >= 1) &\n",
    "    (train_transformed[\"Sex\"] == 0) &\n",
    "    (train_transformed[\"adult\"] == 0) &\n",
    "    (train_transformed[\"women_total\"] >= 1) &\n",
    "    (train_transformed[\"boys_total\"] >= 1) &\n",
    "    (train_transformed[\"girls_total\"] == 0)][\"Survived\"].value_counts()"
   ]
  },
  {
   "cell_type": "code",
   "execution_count": 145,
   "id": "3b4ef394",
   "metadata": {},
   "outputs": [
    {
     "data": {
      "text/plain": [
       "1    2\n",
       "Name: Survived, dtype: int64"
      ]
     },
     "execution_count": 145,
     "metadata": {},
     "output_type": "execute_result"
    }
   ],
   "source": [
    "# If we additionally require that at least one woman and at least one boy\n",
    "# survive, we correctly predict the two boys who survive.  I also add in \n",
    "# the subset of boys whose mothers survive but whose brothers all die, as \n",
    "# long as they are not in pclass 3.\n",
    "train_transformed[\n",
    "    (train_transformed[\"Parch\"] >= 1) &\n",
    "    (train_transformed[\"Sex\"] == 0) &\n",
    "    (train_transformed[\"adult\"] == 0) &\n",
    "    (train_transformed[\"women_total\"] >= 1) &\n",
    "    (train_transformed[\"boys_total\"] >= 1) &\n",
    "    (train_transformed[\"girls_total\"] == 0) &\n",
    "    (((train_transformed[\"women_survived\"] >= 1) &\n",
    "      (train_transformed[\"boys_survived\"] >= 1)) |\n",
    "     ((train_transformed[\"women_survived\"] >= 1) &\n",
    "      (train_transformed[\"boys_survived\"] == 0) &\n",
    "      (train_transformed[\"Pclass\"] != 3)))][\"Survived\"].value_counts()"
   ]
  },
  {
   "cell_type": "code",
   "execution_count": 146,
   "id": "9f75158c",
   "metadata": {},
   "outputs": [
    {
     "data": {
      "text/plain": [
       "0    3\n",
       "1    3\n",
       "Name: Survived, dtype: int64"
      ]
     },
     "execution_count": 146,
     "metadata": {},
     "output_type": "execute_result"
    }
   ],
   "source": [
    "# There are 6 boys who have women and girls in the train set, and 3/6 of \n",
    "# them survive.\n",
    "train_transformed[\n",
    "    (train_transformed[\"Parch\"] >= 1) &\n",
    "    (train_transformed[\"Sex\"] == 0) &\n",
    "    (train_transformed[\"adult\"] == 0) &\n",
    "    (train_transformed[\"women_total\"] >= 1) &\n",
    "    (train_transformed[\"boys_total\"] == 0) &\n",
    "    (train_transformed[\"girls_total\"] >= 1)][\"Survived\"].value_counts()"
   ]
  },
  {
   "cell_type": "code",
   "execution_count": 147,
   "id": "f88e324e",
   "metadata": {},
   "outputs": [
    {
     "data": {
      "text/plain": [
       "1    2\n",
       "Name: Survived, dtype: int64"
      ]
     },
     "execution_count": 147,
     "metadata": {},
     "output_type": "execute_result"
    }
   ],
   "source": [
    "# If we require that no girls die and at least one woman survives, we can\n",
    "# correctly identify 2/3 surviving boys and we do not incorrectly choose \n",
    "# any of the dying boys to survive.\n",
    "train_transformed[\n",
    "    (train_transformed[\"Parch\"] >= 1) &\n",
    "    (train_transformed[\"Sex\"] == 0) &\n",
    "    (train_transformed[\"adult\"] == 0) &\n",
    "    (train_transformed[\"women_total\"] >= 1) &\n",
    "    (train_transformed[\"boys_total\"] == 0) &\n",
    "    (train_transformed[\"girls_total\"] >= 1) &\n",
    "    (train_transformed[\"girls_died\"] == 0) &\n",
    "    (train_transformed[\"women_survived\"] >= 1)][\"Survived\"].value_counts()"
   ]
  },
  {
   "cell_type": "code",
   "execution_count": 148,
   "id": "927d7387",
   "metadata": {},
   "outputs": [
    {
     "data": {
      "text/plain": [
       "0    7\n",
       "1    1\n",
       "Name: Survived, dtype: int64"
      ]
     },
     "execution_count": 148,
     "metadata": {},
     "output_type": "execute_result"
    }
   ],
   "source": [
    "# There are 8 boys who have women, boys and girls present in the train set.\n",
    "# Of these 8 boys, only one survives.\n",
    "train_transformed[\n",
    "    (train_transformed[\"Parch\"] >= 1) &\n",
    "    (train_transformed[\"Sex\"] == 0) &\n",
    "    (train_transformed[\"adult\"] == 0) &\n",
    "    (train_transformed[\"women_total\"] >= 1) &\n",
    "    (train_transformed[\"boys_total\"] >= 1) &\n",
    "    (train_transformed[\"girls_total\"] >= 1)][\"Survived\"].value_counts()"
   ]
  },
  {
   "cell_type": "code",
   "execution_count": 149,
   "id": "75269be0",
   "metadata": {},
   "outputs": [
    {
     "data": {
      "text/plain": [
       "0    1\n",
       "1    1\n",
       "Name: Survived, dtype: int64"
      ]
     },
     "execution_count": 149,
     "metadata": {},
     "output_type": "execute_result"
    }
   ],
   "source": [
    "# If we require that no girls die and that at least one woman survives, we\n",
    "# predict 2 boys to live and 1/2 of them actually survive.\n",
    "train_transformed[\n",
    "    (train_transformed[\"Parch\"] >= 1) &\n",
    "    (train_transformed[\"Sex\"] == 0) &\n",
    "    (train_transformed[\"adult\"] == 0) &\n",
    "    (train_transformed[\"women_total\"] >= 1) &\n",
    "    (train_transformed[\"boys_total\"] >= 1) &\n",
    "    (train_transformed[\"girls_total\"] >= 1) &\n",
    "    (train_transformed[\"girls_died\"] == 0) &\n",
    "    (train_transformed[\"women_survived\"] >= 1)][\"Survived\"].value_counts()"
   ]
  },
  {
   "cell_type": "code",
   "execution_count": 150,
   "id": "3cb0beac",
   "metadata": {},
   "outputs": [],
   "source": [
    "# Overall, for boys with at least one women also in the training set, \n",
    "# we correctly predict 8/11 surviving boys to survive, while \n",
    "# incorrectly predicting 2 boys to survive who actually died.  For the 22 \n",
    "# boys that we did not predict to live, 19/22 of them died."
   ]
  },
  {
   "cell_type": "code",
   "execution_count": 151,
   "id": "9a40204d",
   "metadata": {},
   "outputs": [],
   "source": [
    "# For subset one, we mostly relied on family member survival alone, but \n",
    "# added in pclass for certain groups that did not have information about\n",
    "# girl survival."
   ]
  },
  {
   "cell_type": "code",
   "execution_count": 152,
   "id": "5a23489f",
   "metadata": {},
   "outputs": [],
   "source": [
    "# Now, we have survival rules which apply to:\n",
    "# 1) men who are traveling with at least one other family member who is \n",
    "#    also present in the train set.\n",
    "# 2) women traveling with at least one child in the train set\n",
    "# 3) boys or girls traveling with at least one woman in the train set.\n",
    "\n",
    "# Not covered in our existing rules:\n",
    "# 1) Men with parch >= 1 who had no children in the training set\n",
    "# 2) Women with parch >= 1 who had no children in the training set\n",
    "# 3) Boys or girls with parch >= 1 who had no women with them in the \n",
    "#    training set\n",
    "# 4) Passengers with family_members >= 1 but parch == 0.  This includes\n",
    "#    siblings, married couples, and relatives that do not have parch \n",
    "#    relationships.\n",
    "# 5) All passengers with family_members == 0."
   ]
  },
  {
   "cell_type": "code",
   "execution_count": 153,
   "id": "3ff036f3",
   "metadata": {},
   "outputs": [],
   "source": [
    "# Now, we focus on the second main subset: The passengers who had family\n",
    "# members in train that were not covered in the first subset.\n",
    "# This includes: \n",
    "# 1) Passengers with parch >= 1 who did not have a parent-child \n",
    "#     relationship that was present in the train set, but were traveling \n",
    "#     with at least one family member in train.  These include: \n",
    "#     1: men and women with parch >= 1 but no children in train\n",
    "#     2: children with no mothers or fathers in train.\n",
    "#     3: children traveling with other children and their fathers. (We\n",
    "#        ignore the fathers).\n",
    "#     \n",
    "# 2) Passengers with parch == 0 who were traveling with a family member in\n",
    "#     train.  This includes adults traveling with only adult family members\n",
    "#     and children traveling with only their siblings.  We ignore children\n",
    "#     traveling with only their fathers and pass them on to subset 3.\n",
    "\n",
    "# We can treat passengers from these two groups the same way.  For\n",
    "#     the passengers with parch relationships not present in train, we \n",
    "#     pretend as if they are just adults traveling with other adults or\n",
    "#     children traveling with other children.\n",
    "\n",
    "# NOTE - children traveling with only their fathers in train and no \n",
    "# siblings will be included in subset 3."
   ]
  },
  {
   "cell_type": "code",
   "execution_count": 154,
   "id": "276cfefa",
   "metadata": {},
   "outputs": [
    {
     "data": {
      "text/plain": [
       "Sex  Survived\n",
       "0.0  0           92\n",
       "     1           17\n",
       "1.0  0           10\n",
       "     1           47\n",
       "dtype: int64"
      ]
     },
     "execution_count": 154,
     "metadata": {},
     "output_type": "execute_result"
    }
   ],
   "source": [
    "# Here are the adults from subset 2.  These are adults who have only other\n",
    "# adults found in the train set.  17/109 men survive in this subset, and \n",
    "# 47/57 women survive.\n",
    "train_transformed[\n",
    "    (train_transformed[\"adult\"] == 1) &\n",
    "    (train_transformed[\"family_total_train\"] >= 1) &\n",
    "    (train_transformed[\"boys_total\"] == 0) &\n",
    "    (train_transformed[\"girls_total\"] == 0)][\n",
    "    [\"Sex\", \"Survived\"]].value_counts().sort_index()"
   ]
  },
  {
   "cell_type": "code",
   "execution_count": 155,
   "id": "f61b317b",
   "metadata": {},
   "outputs": [
    {
     "data": {
      "text/plain": [
       "Survived  Pclass\n",
       "0         1         17\n",
       "          2         15\n",
       "          3         60\n",
       "1         1         10\n",
       "          2          3\n",
       "          3          4\n",
       "dtype: int64"
      ]
     },
     "execution_count": 155,
     "metadata": {},
     "output_type": "execute_result"
    }
   ],
   "source": [
    "# First, we will look at the men.  There are three subsets of these men:\n",
    "# 1) men traveling with women and men in the train set.\n",
    "# 2) men traveling with only men in the train set\n",
    "# 3) men traveling with only women in the train set\n",
    "# In total, there are 109 men in these groups.\n",
    "# 10/27 first class men survive.\n",
    "# 3/18 second class men survive.\n",
    "# 4/64 third class men survive.\n",
    "# It seems reasonable to select only certain men in pclass 1 to survive.\n",
    "train_transformed[\n",
    "    (train_transformed[\"adult\"] == 1) &\n",
    "    (train_transformed[\"family_total_train\"] >= 1) &\n",
    "    (train_transformed[\"boys_total\"] == 0) &\n",
    "    (train_transformed[\"girls_total\"] == 0) &\n",
    "    (train_transformed[\"Sex\"] == 0)][\n",
    "    [\"Survived\", \"Pclass\"]].value_counts().sort_index()"
   ]
  },
  {
   "cell_type": "code",
   "execution_count": 156,
   "id": "9e90f9d7",
   "metadata": {},
   "outputs": [
    {
     "data": {
      "text/plain": [
       "Survived  Pclass\n",
       "0         1         5\n",
       "          2         2\n",
       "          3         5\n",
       "1         1         1\n",
       "          2         1\n",
       "dtype: int64"
      ]
     },
     "execution_count": 156,
     "metadata": {},
     "output_type": "execute_result"
    }
   ],
   "source": [
    "# Here are the survival results of men traveling with men and women that are\n",
    "# present in train.  2/14 of these men survive.\n",
    "train_transformed[\n",
    "    (train_transformed[\"adult\"] == 1) &\n",
    "    (train_transformed[\"family_total_train\"] >= 1) &\n",
    "    (train_transformed[\"boys_total\"] == 0) &\n",
    "    (train_transformed[\"girls_total\"] == 0) &\n",
    "    (train_transformed[\"Sex\"] == 0) &\n",
    "    (train_transformed[\"men_total\"] >= 1) &\n",
    "    (train_transformed[\"women_total\"] >= 1)][\n",
    "    [\"Survived\", \"Pclass\"]].value_counts().sort_index()"
   ]
  },
  {
   "cell_type": "code",
   "execution_count": 157,
   "id": "0be077f1",
   "metadata": {},
   "outputs": [
    {
     "data": {
      "text/plain": [
       "Survived  Pclass\n",
       "0         1         1\n",
       "dtype: int64"
      ]
     },
     "execution_count": 157,
     "metadata": {},
     "output_type": "execute_result"
    }
   ],
   "source": [
    "# Requiring that all men and women survived and that the passenger is in \n",
    "# Pclass 1 leaves us with one dying man.  Although the man dies in the \n",
    "# training set, these are passengers that could be added to a survival\n",
    "# algorithm.\n",
    "train_transformed[\n",
    "    (train_transformed[\"adult\"] == 1) &\n",
    "    (train_transformed[\"family_total_train\"] >= 1) &\n",
    "    (train_transformed[\"boys_total\"] == 0) &\n",
    "    (train_transformed[\"girls_total\"] == 0) &\n",
    "    (train_transformed[\"Sex\"] == 0) &\n",
    "    (train_transformed[\"men_total\"] >= 1) &\n",
    "    (train_transformed[\"women_total\"] >= 1) &\n",
    "    (train_transformed[\"women_died\"] == 0) &\n",
    "    (train_transformed[\"men_died\"] == 0)][\n",
    "    [\"Survived\", \"Pclass\"]].value_counts().sort_index()"
   ]
  },
  {
   "cell_type": "code",
   "execution_count": 158,
   "id": "0b1bbb63",
   "metadata": {},
   "outputs": [
    {
     "data": {
      "text/plain": [
       "Survived\n",
       "0           50\n",
       "1            5\n",
       "dtype: int64"
      ]
     },
     "execution_count": 158,
     "metadata": {},
     "output_type": "execute_result"
    }
   ],
   "source": [
    "# Next, we look at the men from subset 2 who are traveling with only \n",
    "# other men that are present in the training set.  5/55 of these men \n",
    "# survive.\n",
    "train_transformed[\n",
    "    (train_transformed[\"adult\"] == 1) &\n",
    "    (train_transformed[\"family_total_train\"] >= 1) &\n",
    "    (train_transformed[\"boys_total\"] == 0) &\n",
    "    (train_transformed[\"girls_total\"] == 0) &\n",
    "    (train_transformed[\"Sex\"] == 0) &\n",
    "    (train_transformed[\"men_total\"] >= 1) &\n",
    "    (train_transformed[\"women_total\"] == 0)][\n",
    "    [\"Survived\"]].value_counts().sort_index()"
   ]
  },
  {
   "cell_type": "code",
   "execution_count": 159,
   "id": "a9b1811f",
   "metadata": {},
   "outputs": [
    {
     "data": {
      "text/plain": [
       "Survived\n",
       "1           1\n",
       "dtype: int64"
      ]
     },
     "execution_count": 159,
     "metadata": {},
     "output_type": "execute_result"
    }
   ],
   "source": [
    "# If we require that all other men survive, and that the passenger is in \n",
    "# pclass 1, we correctly identify 1/5 men who will survive.  If we didn't\n",
    "# require that survivors needed to be Pclass 1, we would select three \n",
    "# men, 2 of which survive, and achieve the same accuracy.\n",
    "train_transformed[\n",
    "    (train_transformed[\"adult\"] == 1) &\n",
    "    (train_transformed[\"family_total_train\"] >= 1) &\n",
    "    (train_transformed[\"boys_total\"] == 0) &\n",
    "    (train_transformed[\"girls_total\"] == 0) &\n",
    "    (train_transformed[\"Sex\"] == 0) &\n",
    "    (train_transformed[\"men_total\"] >= 1) &\n",
    "    (train_transformed[\"women_total\"] == 0) &\n",
    "    (train_transformed[\"men_died\"] == 0) &\n",
    "    (train_transformed[\"Pclass\"] == 1)][\n",
    "    [\"Survived\"]].value_counts().sort_index()"
   ]
  },
  {
   "cell_type": "code",
   "execution_count": 160,
   "id": "16a716df",
   "metadata": {},
   "outputs": [
    {
     "data": {
      "text/plain": [
       "Survived\n",
       "0           30\n",
       "1           10\n",
       "dtype: int64"
      ]
     },
     "execution_count": 160,
     "metadata": {},
     "output_type": "execute_result"
    }
   ],
   "source": [
    "# For men traveling with women in subset 2, 10/30 of these men survive.\n",
    "train_transformed[\n",
    "    (train_transformed[\"adult\"] == 1) &\n",
    "    (train_transformed[\"family_total_train\"] >= 1) &\n",
    "    (train_transformed[\"boys_total\"] == 0) &\n",
    "    (train_transformed[\"girls_total\"] == 0) &\n",
    "    (train_transformed[\"Sex\"] == 0) &\n",
    "    (train_transformed[\"men_total\"] == 0) &\n",
    "    (train_transformed[\"women_total\"] >= 1)][\n",
    "    [\"Survived\"]].value_counts().sort_index()"
   ]
  },
  {
   "cell_type": "code",
   "execution_count": 161,
   "id": "70399dd6",
   "metadata": {},
   "outputs": [
    {
     "data": {
      "text/plain": [
       "Survived\n",
       "0           24\n",
       "1            9\n",
       "dtype: int64"
      ]
     },
     "execution_count": 161,
     "metadata": {},
     "output_type": "execute_result"
    }
   ],
   "source": [
    "# If we require parch == 0, we eliminate 6 of the dying men and only \n",
    "# one surviving man.  This could mean that men traveling with only a woman\n",
    "# had better survival outcomes than men traveling with a women and kids.\n",
    "train_transformed[\n",
    "    (train_transformed[\"adult\"] == 1) &\n",
    "    (train_transformed[\"family_total_train\"] >= 1) &\n",
    "    (train_transformed[\"boys_total\"] == 0) &\n",
    "    (train_transformed[\"girls_total\"] == 0) &\n",
    "    (train_transformed[\"Sex\"] == 0) &\n",
    "    (train_transformed[\"men_total\"] == 0) &\n",
    "    (train_transformed[\"women_total\"] >= 1) &\n",
    "    (train_transformed[\"Parch\"] == 0)][\n",
    "    [\"Survived\"]].value_counts().sort_index()"
   ]
  },
  {
   "cell_type": "code",
   "execution_count": 162,
   "id": "c823f1b1",
   "metadata": {},
   "outputs": [
    {
     "data": {
      "text/plain": [
       "Survived\n",
       "0           18\n",
       "1            8\n",
       "dtype: int64"
      ]
     },
     "execution_count": 162,
     "metadata": {},
     "output_type": "execute_result"
    }
   ],
   "source": [
    "# If we additionally require that no women die, we are able to scrape it\n",
    "# down to 8 surviving men vs 18 dying men.\n",
    "train_transformed[\n",
    "    (train_transformed[\"adult\"] == 1) &\n",
    "    (train_transformed[\"family_total_train\"] >= 1) &\n",
    "    (train_transformed[\"boys_total\"] == 0) &\n",
    "    (train_transformed[\"girls_total\"] == 0) &\n",
    "    (train_transformed[\"Sex\"] == 0) &\n",
    "    (train_transformed[\"men_total\"] == 0) &\n",
    "    (train_transformed[\"women_total\"] >= 1) &\n",
    "    (train_transformed[\"Parch\"] == 0) &\n",
    "    (train_transformed[\"women_died\"] == 0)][\n",
    "    [\"Survived\"]].value_counts().sort_index()"
   ]
  },
  {
   "cell_type": "code",
   "execution_count": 163,
   "id": "1aeb7065",
   "metadata": {},
   "outputs": [
    {
     "data": {
      "text/plain": [
       "Survived\n",
       "0           6\n",
       "1           6\n",
       "dtype: int64"
      ]
     },
     "execution_count": 163,
     "metadata": {},
     "output_type": "execute_result"
    }
   ],
   "source": [
    "# If we require  that Pclass == 1, we further trim down the subset to \n",
    "# 12 men, 6 of whom survive.  This seems like a possible rule, but I want \n",
    "# to do some further exploration.\n",
    "train_transformed[\n",
    "    (train_transformed[\"adult\"] == 1) &\n",
    "    (train_transformed[\"family_total_train\"] >= 1) &\n",
    "    (train_transformed[\"boys_total\"] == 0) &\n",
    "    (train_transformed[\"girls_total\"] == 0) &\n",
    "    (train_transformed[\"Sex\"] == 0) &\n",
    "    (train_transformed[\"men_total\"] == 0) &\n",
    "    (train_transformed[\"women_total\"] >= 1) &\n",
    "    (train_transformed[\"Parch\"] == 0) &\n",
    "    (train_transformed[\"women_died\"] == 0) &\n",
    "    (train_transformed[\"Pclass\"] == 1)][\n",
    "    [\"Survived\"]].value_counts().sort_index()"
   ]
  },
  {
   "cell_type": "code",
   "execution_count": 164,
   "id": "63a7b226",
   "metadata": {},
   "outputs": [
    {
     "data": {
      "text/plain": [
       "Survived\n",
       "0           16\n",
       "1            8\n",
       "dtype: int64"
      ]
     },
     "execution_count": 164,
     "metadata": {},
     "output_type": "execute_result"
    }
   ],
   "source": [
    "# If we look at all men with no children throughout train who have a \n",
    "# female traveling companion survive, we see that the percentages are not \n",
    "# good enough to make this a rule.  Although the set in the above cell\n",
    "# is certainly a candidate to include as a survival rule, I will not \n",
    "# include it.\n",
    "train_transformed[(train_transformed[\"adult\"] == 1) &\n",
    "    (train_transformed[\"boys_total\"] == 0) &\n",
    "    (train_transformed[\"girls_total\"] == 0) &\n",
    "    (train_transformed[\"ticket_boys_total\"] == 0) &\n",
    "    (train_transformed[\"ticket_girls_total\"] == 0) &\n",
    "    (train_transformed[\"Sex\"] == 0) &\n",
    "    ((train_transformed[\"women_survived\"] >= 1) |\n",
    "     (train_transformed[\"ticket_women_survived\"] >= 1)) &\n",
    "    (train_transformed[\"Parch\"] == 0) &\n",
    "    (train_transformed[\"Pclass\"] == 1)][\n",
    "    [\"Survived\"]].value_counts()"
   ]
  },
  {
   "cell_type": "code",
   "execution_count": null,
   "id": "9aa8422c",
   "metadata": {},
   "outputs": [],
   "source": []
  },
  {
   "cell_type": "code",
   "execution_count": 165,
   "id": "3d683be7",
   "metadata": {},
   "outputs": [],
   "source": [
    "# In summary, for subset 2, the only men we select to survive are men\n",
    "# who have at least one man in the train set, and who have no men or women\n",
    "# in the train set die.  We predict 2 men will live out of 17, and only 1\n",
    "# of the 2 actually survives."
   ]
  },
  {
   "cell_type": "code",
   "execution_count": null,
   "id": "9ddffca1",
   "metadata": {},
   "outputs": [],
   "source": []
  },
  {
   "cell_type": "code",
   "execution_count": 166,
   "id": "50cd8b0d",
   "metadata": {},
   "outputs": [
    {
     "data": {
      "text/plain": [
       "Survived\n",
       "0            2\n",
       "1           10\n",
       "dtype: int64"
      ]
     },
     "execution_count": 166,
     "metadata": {},
     "output_type": "execute_result"
    }
   ],
   "source": [
    "# Now, we look at the women in this group to see if we can predict who dies.\n",
    "# There are three groups here:\n",
    "# 1) Women traveling with men and women present in train\n",
    "# 2) Women with only women present in train\n",
    "# 3) Women with only men present in train\n",
    "\n",
    "# Overall, 47/57 of the women in this subset survive and 10 die.\n",
    "\n",
    "# First, we will look at women with men and women in train.  10/12 of these\n",
    "# women survive.\n",
    "train_transformed[\n",
    "    (train_transformed[\"adult\"] == 1) &\n",
    "    (train_transformed[\"family_total_train\"] >= 1) &\n",
    "    (train_transformed[\"boys_total\"] == 0) &\n",
    "    (train_transformed[\"girls_total\"] == 0) &\n",
    "    (train_transformed[\"Sex\"] == 1) &\n",
    "    (train_transformed[\"men_total\"] >= 1) &\n",
    "    (train_transformed[\"women_total\"] >= 1)][\n",
    "    [\"Survived\"]].value_counts().sort_index()"
   ]
  },
  {
   "cell_type": "code",
   "execution_count": 167,
   "id": "e70c686b",
   "metadata": {},
   "outputs": [
    {
     "data": {
      "text/plain": [
       "Survived\n",
       "0           2\n",
       "dtype: int64"
      ]
     },
     "execution_count": 167,
     "metadata": {},
     "output_type": "execute_result"
    }
   ],
   "source": [
    "# If we isolate for the groups in which all women die, we successfully\n",
    "# select the 2/2 women who died from among the 12 total.  Requiring that\n",
    "# the women are in Pclass 3 does not eliminate any of the dying women.\n",
    "# We can keep this as a hard rule.\n",
    "train_transformed[\n",
    "    (train_transformed[\"adult\"] == 1) &\n",
    "    (train_transformed[\"family_total_train\"] >= 1) &\n",
    "    (train_transformed[\"boys_total\"] == 0) &\n",
    "    (train_transformed[\"girls_total\"] == 0) &\n",
    "    (train_transformed[\"Sex\"] == 1) &\n",
    "    (train_transformed[\"men_total\"] >= 1) &\n",
    "    (train_transformed[\"women_total\"] >= 1) &\n",
    "    (train_transformed[\"women_survived\"] == 0) &\n",
    "    (train_transformed[\"Pclass\"] == 3)][\n",
    "    [\"Survived\"]].value_counts().sort_index()"
   ]
  },
  {
   "cell_type": "code",
   "execution_count": 168,
   "id": "4087d41f",
   "metadata": {},
   "outputs": [
    {
     "data": {
      "text/plain": [
       "Survived\n",
       "0            8\n",
       "1           33\n",
       "dtype: int64"
      ]
     },
     "execution_count": 168,
     "metadata": {},
     "output_type": "execute_result"
    }
   ],
   "source": [
    "# For women traveling with only men, 8/41 women die.\n",
    "train_transformed[\n",
    "    (train_transformed[\"adult\"] == 1) &\n",
    "    (train_transformed[\"family_total_train\"] >= 1) &\n",
    "    (train_transformed[\"boys_total\"] == 0) &\n",
    "    (train_transformed[\"girls_total\"] == 0) &\n",
    "    (train_transformed[\"Sex\"] == 1) &\n",
    "    (train_transformed[\"men_total\"] >= 1) &\n",
    "    (train_transformed[\"women_total\"] == 0)][\n",
    "    [\"Survived\"]].value_counts().sort_index()"
   ]
  },
  {
   "cell_type": "code",
   "execution_count": 169,
   "id": "b6f78882",
   "metadata": {},
   "outputs": [
    {
     "data": {
      "text/html": [
       "<div>\n",
       "<style scoped>\n",
       "    .dataframe tbody tr th:only-of-type {\n",
       "        vertical-align: middle;\n",
       "    }\n",
       "\n",
       "    .dataframe tbody tr th {\n",
       "        vertical-align: top;\n",
       "    }\n",
       "\n",
       "    .dataframe thead th {\n",
       "        text-align: right;\n",
       "    }\n",
       "</style>\n",
       "<table border=\"1\" class=\"dataframe\">\n",
       "  <thead>\n",
       "    <tr style=\"text-align: right;\">\n",
       "      <th></th>\n",
       "      <th>Survived</th>\n",
       "      <th>Age</th>\n",
       "    </tr>\n",
       "  </thead>\n",
       "  <tbody>\n",
       "    <tr>\n",
       "      <th>49</th>\n",
       "      <td>0</td>\n",
       "      <td>18.0</td>\n",
       "    </tr>\n",
       "    <tr>\n",
       "      <th>404</th>\n",
       "      <td>0</td>\n",
       "      <td>20.0</td>\n",
       "    </tr>\n",
       "    <tr>\n",
       "      <th>649</th>\n",
       "      <td>1</td>\n",
       "      <td>23.0</td>\n",
       "    </tr>\n",
       "    <tr>\n",
       "      <th>142</th>\n",
       "      <td>1</td>\n",
       "      <td>24.0</td>\n",
       "    </tr>\n",
       "    <tr>\n",
       "      <th>617</th>\n",
       "      <td>0</td>\n",
       "      <td>26.0</td>\n",
       "    </tr>\n",
       "    <tr>\n",
       "      <th>423</th>\n",
       "      <td>0</td>\n",
       "      <td>28.0</td>\n",
       "    </tr>\n",
       "    <tr>\n",
       "      <th>534</th>\n",
       "      <td>0</td>\n",
       "      <td>30.0</td>\n",
       "    </tr>\n",
       "    <tr>\n",
       "      <th>396</th>\n",
       "      <td>0</td>\n",
       "      <td>31.0</td>\n",
       "    </tr>\n",
       "    <tr>\n",
       "      <th>85</th>\n",
       "      <td>1</td>\n",
       "      <td>33.0</td>\n",
       "    </tr>\n",
       "    <tr>\n",
       "      <th>254</th>\n",
       "      <td>0</td>\n",
       "      <td>41.0</td>\n",
       "    </tr>\n",
       "    <tr>\n",
       "      <th>109</th>\n",
       "      <td>1</td>\n",
       "      <td>NaN</td>\n",
       "    </tr>\n",
       "    <tr>\n",
       "      <th>186</th>\n",
       "      <td>1</td>\n",
       "      <td>NaN</td>\n",
       "    </tr>\n",
       "    <tr>\n",
       "      <th>431</th>\n",
       "      <td>1</td>\n",
       "      <td>NaN</td>\n",
       "    </tr>\n",
       "  </tbody>\n",
       "</table>\n",
       "</div>"
      ],
      "text/plain": [
       "     Survived   Age\n",
       "49          0  18.0\n",
       "404         0  20.0\n",
       "649         1  23.0\n",
       "142         1  24.0\n",
       "617         0  26.0\n",
       "423         0  28.0\n",
       "534         0  30.0\n",
       "396         0  31.0\n",
       "85          1  33.0\n",
       "254         0  41.0\n",
       "109         1   NaN\n",
       "186         1   NaN\n",
       "431         1   NaN"
      ]
     },
     "execution_count": 169,
     "metadata": {},
     "output_type": "execute_result"
    }
   ],
   "source": [
    "# If we require that all men die, and that the passengers Pclass = 3, \n",
    "# we are left with 7 dying women and 6 surviving men.  We could predict\n",
    "# all of these women die and this would immediately improve our accuracy.\n",
    "# The ages seem to be randomly distributed.  This is clearly a set of \n",
    "# interest, but we will not predict any of these women die.\n",
    "train_transformed[\n",
    "    (train_transformed[\"adult\"] == 1) &\n",
    "    (train_transformed[\"family_total_train\"] >= 1) &\n",
    "    (train_transformed[\"boys_total\"] == 0) &\n",
    "    (train_transformed[\"girls_total\"] == 0) &\n",
    "    (train_transformed[\"Sex\"] == 1) &\n",
    "    (train_transformed[\"men_total\"] >= 1) &\n",
    "    (train_transformed[\"women_total\"] == 0) &\n",
    "    (train_transformed[\"men_survived\"] == 0) &\n",
    "    (train_transformed[\"Pclass\"] == 3)][\n",
    "    [\"Survived\", \"Age\"]].sort_values(by=\"Age\")"
   ]
  },
  {
   "cell_type": "code",
   "execution_count": 170,
   "id": "f672ed43",
   "metadata": {},
   "outputs": [
    {
     "data": {
      "text/plain": [
       "Survived\n",
       "1           4\n",
       "dtype: int64"
      ]
     },
     "execution_count": 170,
     "metadata": {},
     "output_type": "execute_result"
    }
   ],
   "source": [
    "# Thirdly, we look at the women traveling with only women in the train set.\n",
    "# All 4 of these women survived.  \n",
    "train_transformed[\n",
    "    (train_transformed[\"adult\"] == 1) &\n",
    "    (train_transformed[\"family_total_train\"] >= 1) &\n",
    "    (train_transformed[\"boys_total\"] == 0) &\n",
    "    (train_transformed[\"girls_total\"] == 0) &\n",
    "    (train_transformed[\"Sex\"] == 1) &\n",
    "    (train_transformed[\"men_total\"] == 0) &\n",
    "    (train_transformed[\"women_total\"] >= 1)][\n",
    "    [\"Survived\"]].value_counts().sort_index()"
   ]
  },
  {
   "cell_type": "code",
   "execution_count": 171,
   "id": "a78a94b0",
   "metadata": {},
   "outputs": [
    {
     "data": {
      "text/plain": [
       "Series([], dtype: int64)"
      ]
     },
     "execution_count": 171,
     "metadata": {},
     "output_type": "execute_result"
    }
   ],
   "source": [
    "# Requiring that all women accompanying the women passenger die does not\n",
    "# select any members of the train set, but we can use it as a rule based on\n",
    "# how we have been treating the rest of the women.  We would also require \n",
    "# that the women dying be of Pclass 3.\n",
    "train_transformed[\n",
    "    (train_transformed[\"adult\"] == 1) &\n",
    "    (train_transformed[\"family_total_train\"] >= 1) &\n",
    "    (train_transformed[\"boys_total\"] == 0) &\n",
    "    (train_transformed[\"girls_total\"] == 0) &\n",
    "    (train_transformed[\"Sex\"] == 1) &\n",
    "    (train_transformed[\"men_total\"] == 0) &\n",
    "    (train_transformed[\"women_total\"] >= 1) &\n",
    "    (train_transformed[\"women_survived\"] ==0) &\n",
    "    (train_transformed[\"Pclass\"] == 3)][\n",
    "    [\"Survived\"]].value_counts().sort_index()"
   ]
  },
  {
   "cell_type": "code",
   "execution_count": 172,
   "id": "98c05ad8",
   "metadata": {},
   "outputs": [],
   "source": [
    "# For the 10 dying women of this subset, we correctly isolate 2/10 women \n",
    "# who die without incorrectly predicting any women will die when they\n",
    "# actually live."
   ]
  },
  {
   "cell_type": "code",
   "execution_count": null,
   "id": "3baf3bf5",
   "metadata": {},
   "outputs": [],
   "source": []
  },
  {
   "cell_type": "code",
   "execution_count": 173,
   "id": "0089b10a",
   "metadata": {},
   "outputs": [
    {
     "data": {
      "text/plain": [
       "Survived  Pclass\n",
       "0         1         1\n",
       "          3         9\n",
       "1         2         3\n",
       "          3         5\n",
       "dtype: int64"
      ]
     },
     "execution_count": 173,
     "metadata": {},
     "output_type": "execute_result"
    }
   ],
   "source": [
    "# Now, we will look at the boys in subset 2.  These are boys who had\n",
    "# family_total_train >= 1 but did not have a mother in the train set.  \n",
    "# We include boys traveling with a father and siblings in this subset, but \n",
    "# we do not include boys traveling with only their fathers in the train \n",
    "# set.  These are boys traveling with boys and girls, boys only, or girls\n",
    "# only.  Each of these groups could have a father present, but I am \n",
    "# choosing to ignore the effects of the fathers survival.\n",
    "\n",
    "# There are 22 of these boys, and 11 of them survive.\n",
    "# The only boy in Pclass 1 dies, all 3 boys in Pclass 2 survive, and 5/14\n",
    "# boys in Pclass 3 survive\n",
    "train_transformed[\n",
    "    (train_transformed[\"adult\"] == 0) &\n",
    "    (train_transformed[\"family_total_train\"] >= 1) &\n",
    "    (train_transformed[\"Sex\"] == 0) &\n",
    "    (train_transformed[\"women_total\"] == 0) &\n",
    "    ((train_transformed[\"boys_total\"] >= 1) |\n",
    "     (train_transformed[\"girls_total\"] >= 1))][\n",
    "    [\"Survived\", \"Pclass\"]].value_counts().sort_index()"
   ]
  },
  {
   "cell_type": "code",
   "execution_count": 174,
   "id": "ab45a97b",
   "metadata": {},
   "outputs": [
    {
     "data": {
      "text/plain": [
       "Survived  Pclass\n",
       "0         3         4\n",
       "dtype: int64"
      ]
     },
     "execution_count": 174,
     "metadata": {},
     "output_type": "execute_result"
    }
   ],
   "source": [
    "# First, we look at the subset of these boys who are traveling with boys\n",
    "# and girls.  All of these boys are in Pclass 3, and all end up dying.\n",
    "train_transformed[\n",
    "    (train_transformed[\"adult\"] == 0) &\n",
    "    (train_transformed[\"family_total_train\"] >= 1) &\n",
    "    (train_transformed[\"Sex\"] == 0) &\n",
    "    (train_transformed[\"women_total\"] == 0) &\n",
    "    (train_transformed[\"boys_total\"] >= 1) &\n",
    "    (train_transformed[\"girls_total\"] >= 1)][\n",
    "    [\"Survived\", \"Pclass\"]].value_counts().sort_index()"
   ]
  },
  {
   "cell_type": "code",
   "execution_count": 175,
   "id": "6cb39d5f",
   "metadata": {},
   "outputs": [
    {
     "data": {
      "text/plain": [
       "Series([], dtype: int64)"
      ]
     },
     "execution_count": 175,
     "metadata": {},
     "output_type": "execute_result"
    }
   ],
   "source": [
    "# If we require that no girls die, we do not select any of these boys.  \n",
    "# We could require that no girls die and then predict they live.\n",
    "train_transformed[\n",
    "    (train_transformed[\"adult\"] == 0) &\n",
    "    (train_transformed[\"family_total_train\"] >= 1) &\n",
    "    (train_transformed[\"Sex\"] == 0) &\n",
    "    (train_transformed[\"women_total\"] == 0) &\n",
    "    (train_transformed[\"boys_total\"] >= 1) &\n",
    "    (train_transformed[\"girls_total\"] >= 1) &\n",
    "    (train_transformed[\"girls_died\"] == 0)][\n",
    "    [\"Survived\", \"Pclass\"]].value_counts().sort_index()"
   ]
  },
  {
   "cell_type": "code",
   "execution_count": 176,
   "id": "451433bf",
   "metadata": {},
   "outputs": [
    {
     "data": {
      "text/plain": [
       "Survived  Pclass\n",
       "0         3         4\n",
       "1         2         2\n",
       "          3         4\n",
       "dtype: int64"
      ]
     },
     "execution_count": 176,
     "metadata": {},
     "output_type": "execute_result"
    }
   ],
   "source": [
    "# Next, we examine the subset of these boys traveling with boys and no\n",
    "# girls.  4/8 of these boys who are in Pclass 3 survive, and 2/2 boys\n",
    "# who are in Pclass 2 survive.  \n",
    "train_transformed[\n",
    "    (train_transformed[\"adult\"] == 0) &\n",
    "    (train_transformed[\"family_total_train\"] >= 1) &\n",
    "    (train_transformed[\"Sex\"] == 0) &\n",
    "    (train_transformed[\"women_total\"] == 0) &\n",
    "    (train_transformed[\"boys_total\"] >= 1) &\n",
    "    (train_transformed[\"girls_total\"] == 0)][\n",
    "    [\"Survived\", \"Pclass\"]].value_counts().sort_index()"
   ]
  },
  {
   "cell_type": "code",
   "execution_count": 177,
   "id": "6c0f3628",
   "metadata": {},
   "outputs": [
    {
     "data": {
      "text/plain": [
       "Survived  Pclass\n",
       "1         2         2\n",
       "          3         4\n",
       "dtype: int64"
      ]
     },
     "execution_count": 177,
     "metadata": {},
     "output_type": "execute_result"
    }
   ],
   "source": [
    "# If we require that at least one other boy survives, we correctly select\n",
    "# all 6 of the surviving boys in this subset.  I am comfortable predicting\n",
    "# that all of these boys live.\n",
    "train_transformed[\n",
    "    (train_transformed[\"adult\"] == 0) &\n",
    "    (train_transformed[\"family_total_train\"] >= 1) &\n",
    "    (train_transformed[\"Sex\"] == 0) &\n",
    "    (train_transformed[\"women_total\"] == 0) &\n",
    "    (train_transformed[\"boys_total\"] >= 1) &\n",
    "    (train_transformed[\"girls_total\"] == 0) &\n",
    "    (train_transformed[\"boys_survived\"] >= 1)][\n",
    "    [\"Survived\", \"Pclass\"]].value_counts().sort_index()"
   ]
  },
  {
   "cell_type": "code",
   "execution_count": 178,
   "id": "2879d9cb",
   "metadata": {},
   "outputs": [
    {
     "data": {
      "text/plain": [
       "Survived  Pclass\n",
       "0         1         1\n",
       "          3         1\n",
       "1         2         1\n",
       "          3         1\n",
       "dtype: int64"
      ]
     },
     "execution_count": 178,
     "metadata": {},
     "output_type": "execute_result"
    }
   ],
   "source": [
    "# Finally, we look at the subset of boys traveling with girls and no boys.\n",
    "# In total, 2/4 of these boys survive.  The Pclass 1 boy dies, the Pclass 2 \n",
    "# boys lives, and 1/2 Pclass 3 boys survive.\n",
    "train_transformed[\n",
    "    (train_transformed[\"adult\"] == 0) &\n",
    "    (train_transformed[\"family_total_train\"] >= 1) &\n",
    "    (train_transformed[\"Sex\"] == 0) &\n",
    "    (train_transformed[\"women_total\"] == 0) &\n",
    "    (train_transformed[\"boys_total\"] == 0) &\n",
    "    (train_transformed[\"girls_total\"] >= 1)][\n",
    "    [\"Survived\", \"Pclass\"]].value_counts().sort_index()"
   ]
  },
  {
   "cell_type": "code",
   "execution_count": 179,
   "id": "a7d3fb31",
   "metadata": {},
   "outputs": [
    {
     "data": {
      "text/plain": [
       "Survived  Pclass\n",
       "0         1         1\n",
       "1         2         1\n",
       "          3         1\n",
       "dtype: int64"
      ]
     },
     "execution_count": 179,
     "metadata": {},
     "output_type": "execute_result"
    }
   ],
   "source": [
    "# If we require that no girls die, we eliminate one of the dying boys and \n",
    "# are left with 2/3 surviving boys.  We could simply predict that all these\n",
    "# boys live.\n",
    "train_transformed[\n",
    "    (train_transformed[\"adult\"] == 0) &\n",
    "    (train_transformed[\"family_total_train\"] >= 1) &\n",
    "    (train_transformed[\"Sex\"] == 0) &\n",
    "    (train_transformed[\"women_total\"] == 0) &\n",
    "    (train_transformed[\"boys_total\"] == 0) &\n",
    "    (train_transformed[\"girls_total\"] >= 1) &\n",
    "    (train_transformed[\"girls_died\"] == 0)][\n",
    "    [\"Survived\", \"Pclass\"]].value_counts().sort_index()"
   ]
  },
  {
   "cell_type": "code",
   "execution_count": 180,
   "id": "da758f45",
   "metadata": {},
   "outputs": [],
   "source": [
    "# Overall for the 11 surviving boys in subset 2, we correctly predict \n",
    "# 8 of them that will survive, while only predicting one boy to survive\n",
    "# who actually dies.  For this subset, it seems that using Pclass to \n",
    "# eliminate boys from survival predictions would not be wise, because\n",
    "# so many of the surviving boys in this subset are in Pclass 3.  Overall,\n",
    "# 24% of boys in Pclass 3 survive, so we do not necessarily want to \n",
    "# eliminate boys based off this variable alone."
   ]
  },
  {
   "cell_type": "code",
   "execution_count": null,
   "id": "34853c09",
   "metadata": {},
   "outputs": [],
   "source": []
  },
  {
   "cell_type": "code",
   "execution_count": 181,
   "id": "dfe81ad3",
   "metadata": {},
   "outputs": [],
   "source": [
    "# Now we move on to the girls in subset 2.  These are girls that\n",
    "# were traveling with no mother in train but who did have at least one \n",
    "# boy or girl also contained in train.  These girls may or may not have \n",
    "# been traveling with a father in train, but that detail will be ignored."
   ]
  },
  {
   "cell_type": "code",
   "execution_count": 182,
   "id": "74cf764e",
   "metadata": {},
   "outputs": [
    {
     "data": {
      "text/plain": [
       "Survived  Pclass\n",
       "0         3         6\n",
       "1         1         4\n",
       "          2         1\n",
       "          3         1\n",
       "dtype: int64"
      ]
     },
     "execution_count": 182,
     "metadata": {},
     "output_type": "execute_result"
    }
   ],
   "source": [
    "# 6/12 of these girls died.  All girls in Pclass 1 or 2 survived, and \n",
    "# 6/7 girls in Pclass 3 died.  \n",
    "train_transformed[\n",
    "    (train_transformed[\"adult\"] == 0) &\n",
    "    (train_transformed[\"family_total_train\"] >= 1) &\n",
    "    (train_transformed[\"Sex\"] == 1) &\n",
    "    (train_transformed[\"women_total\"] == 0) &\n",
    "    ((train_transformed[\"boys_total\"] >= 1) |\n",
    "     (train_transformed[\"girls_total\"] >= 1))][\n",
    "    [\"Survived\", \"Pclass\"]].value_counts().sort_index()"
   ]
  },
  {
   "cell_type": "code",
   "execution_count": 183,
   "id": "a5bbb013",
   "metadata": {},
   "outputs": [
    {
     "data": {
      "text/plain": [
       "Survived  Pclass\n",
       "0         3         6\n",
       "1         1         2\n",
       "dtype: int64"
      ]
     },
     "execution_count": 183,
     "metadata": {},
     "output_type": "execute_result"
    }
   ],
   "source": [
    "# Lets look at the subset of these girls traveling with boys and girls.\n",
    "# 2 girls from Pclass 1 survived, and 6 girls from Pclass 3 died.\n",
    "train_transformed[\n",
    "    (train_transformed[\"adult\"] == 0) &\n",
    "    (train_transformed[\"family_total_train\"] >= 1) &\n",
    "    (train_transformed[\"Sex\"] == 1) &\n",
    "    (train_transformed[\"women_total\"] == 0) &\n",
    "    (train_transformed[\"boys_total\"] >= 1) &\n",
    "    (train_transformed[\"girls_total\"] >= 1)][\n",
    "    [\"Survived\", \"Pclass\"]].value_counts().sort_index()"
   ]
  },
  {
   "cell_type": "code",
   "execution_count": 184,
   "id": "c89a9a08",
   "metadata": {},
   "outputs": [
    {
     "data": {
      "text/plain": [
       "Survived  Pclass\n",
       "0         3         6\n",
       "dtype: int64"
      ]
     },
     "execution_count": 184,
     "metadata": {},
     "output_type": "execute_result"
    }
   ],
   "source": [
    "# If we require that all other girls die, we correctly predict all the \n",
    "# correct girls to die who died, regardless of Pclass.\n",
    "train_transformed[\n",
    "    (train_transformed[\"adult\"] == 0) &\n",
    "    (train_transformed[\"family_total_train\"] >= 1) &\n",
    "    (train_transformed[\"Sex\"] == 1) &\n",
    "    (train_transformed[\"women_total\"] == 0) &\n",
    "    (train_transformed[\"boys_total\"] >= 1) &\n",
    "    (train_transformed[\"girls_total\"] >= 1) &\n",
    "    (train_transformed[\"girls_survived\"] == 0)][\n",
    "    [\"Survived\", \"Pclass\"]].value_counts().sort_index()"
   ]
  },
  {
   "cell_type": "code",
   "execution_count": 185,
   "id": "906b90a5",
   "metadata": {},
   "outputs": [
    {
     "data": {
      "text/plain": [
       "Survived  Pclass\n",
       "1         1         2\n",
       "dtype: int64"
      ]
     },
     "execution_count": 185,
     "metadata": {},
     "output_type": "execute_result"
    }
   ],
   "source": [
    "# Now, we look at the subset of girl traveling with girls but no boys.\n",
    "# Both of these girls were in Pclass 1, and both girls survived.\n",
    "train_transformed[\n",
    "    (train_transformed[\"adult\"] == 0) &\n",
    "    (train_transformed[\"family_total_train\"] >= 1) &\n",
    "    (train_transformed[\"Sex\"] == 1) &\n",
    "    (train_transformed[\"women_total\"] == 0) &\n",
    "    (train_transformed[\"boys_total\"] == 0) &\n",
    "    (train_transformed[\"girls_total\"] >= 1)][\n",
    "    [\"Survived\", \"Pclass\"]].value_counts().sort_index()"
   ]
  },
  {
   "cell_type": "code",
   "execution_count": 186,
   "id": "9c0d9632",
   "metadata": {},
   "outputs": [
    {
     "data": {
      "text/plain": [
       "Series([], dtype: int64)"
      ]
     },
     "execution_count": 186,
     "metadata": {},
     "output_type": "execute_result"
    }
   ],
   "source": [
    "# We can use the same rule as above and say that if no girls survive, \n",
    "# then we will predict these girls to die.  This would result in no\n",
    "# girls from this subset predicted to die on the train subset.\n",
    "train_transformed[\n",
    "    (train_transformed[\"adult\"] == 0) &\n",
    "    (train_transformed[\"family_total_train\"] >= 1) &\n",
    "    (train_transformed[\"Sex\"] == 1) &\n",
    "    (train_transformed[\"women_total\"] == 0) &\n",
    "    (train_transformed[\"boys_total\"] == 0) &\n",
    "    (train_transformed[\"girls_total\"] >= 1) &\n",
    "    (train_transformed[\"girls_survived\"] == 0)][\n",
    "    [\"Survived\", \"Pclass\"]].value_counts().sort_index()"
   ]
  },
  {
   "cell_type": "code",
   "execution_count": 187,
   "id": "bcdd4475",
   "metadata": {},
   "outputs": [
    {
     "data": {
      "text/plain": [
       "Survived  Pclass\n",
       "1         2         1\n",
       "          3         1\n",
       "dtype: int64"
      ]
     },
     "execution_count": 187,
     "metadata": {},
     "output_type": "execute_result"
    }
   ],
   "source": [
    "# Finally, we examine the girls from subset 2 who have boys in train \n",
    "# but no girls.  Both of these girls survived.\n",
    "train_transformed[\n",
    "    (train_transformed[\"adult\"] == 0) &\n",
    "    (train_transformed[\"family_total_train\"] >= 1) &\n",
    "    (train_transformed[\"Sex\"] == 1) &\n",
    "    (train_transformed[\"women_total\"] == 0) &\n",
    "    (train_transformed[\"boys_total\"] >= 1) &\n",
    "    (train_transformed[\"girls_total\"] == 0)][\n",
    "    [\"Survived\", \"Pclass\"]].value_counts().sort_index()"
   ]
  },
  {
   "cell_type": "code",
   "execution_count": 188,
   "id": "14519dfe",
   "metadata": {},
   "outputs": [
    {
     "data": {
      "text/plain": [
       "Series([], dtype: int64)"
      ]
     },
     "execution_count": 188,
     "metadata": {},
     "output_type": "execute_result"
    }
   ],
   "source": [
    "# In order to predict girls from this subset who die, we would require that\n",
    "# all boys die and that the girl to be predicted is in Pclass 3.\n",
    "# This results in no death predictions on the training set.\n",
    "train_transformed[\n",
    "    (train_transformed[\"adult\"] == 0) &\n",
    "    (train_transformed[\"family_total_train\"] >= 1) &\n",
    "    (train_transformed[\"Sex\"] == 1) &\n",
    "    (train_transformed[\"women_total\"] == 0) &\n",
    "    (train_transformed[\"boys_total\"] >= 1) &\n",
    "    (train_transformed[\"girls_total\"] == 0) &\n",
    "    (train_transformed[\"boys_survived\"] == 0) &\n",
    "    (train_transformed[\"Pclass\"] == 3)][\n",
    "    [\"Survived\", \"Pclass\"]].value_counts().sort_index()"
   ]
  },
  {
   "cell_type": "code",
   "execution_count": 189,
   "id": "2f11b038",
   "metadata": {},
   "outputs": [],
   "source": [
    "# Overall, for girls in subset 2, out of the 6 dying girls, we were able\n",
    "# to correctly identify all 6 of them while not making any incorrect \n",
    "# predictions.  For our rules, we predict solely based on the survival of\n",
    "# other girls when they are present, and when only boys are present, we \n",
    "# additionally require that the girl be in Pclass 3 to classify her as\n",
    "# dying."
   ]
  },
  {
   "cell_type": "code",
   "execution_count": null,
   "id": "b440e93c",
   "metadata": {},
   "outputs": [],
   "source": []
  },
  {
   "cell_type": "code",
   "execution_count": 190,
   "id": "3ab93c86",
   "metadata": {},
   "outputs": [],
   "source": [
    "# Now, we move on to the third main subset.  This is the set of passengers\n",
    "# who did not have any family members traveling with them in train.  \n",
    "# This could be passengers in one of two groups:\n",
    "# 1) Passengers traveling with family but who had no family members\n",
    "#    present in train\n",
    "# 2) Passengers traveling with no family members.\n",
    "# 3) Children who were traveling with only men in train.  They would\n",
    "#    have been excluded from the last two subsets.\n",
    "\n",
    "# For these passengers, we will group them by the survival of passengers \n",
    "# who shared their same ticket number, possibly in addition to variables\n",
    "# such as Pclass and the port fare variables.  For the rest, we treat them \n",
    "# as lone passengers."
   ]
  },
  {
   "cell_type": "code",
   "execution_count": null,
   "id": "465c105b",
   "metadata": {},
   "outputs": [],
   "source": []
  },
  {
   "cell_type": "code",
   "execution_count": 191,
   "id": "154a0bc1",
   "metadata": {},
   "outputs": [
    {
     "data": {
      "text/plain": [
       "525"
      ]
     },
     "execution_count": 191,
     "metadata": {},
     "output_type": "execute_result"
    }
   ],
   "source": [
    "# There are 525 passengers in the train set who had no family members in \n",
    "# train.\n",
    "len(train_transformed[(train_transformed[\"family_total_train\"] == 0)])"
   ]
  },
  {
   "cell_type": "code",
   "execution_count": 192,
   "id": "ad36dc6a",
   "metadata": {},
   "outputs": [
    {
     "data": {
      "text/plain": [
       "228"
      ]
     },
     "execution_count": 192,
     "metadata": {},
     "output_type": "execute_result"
    }
   ],
   "source": [
    "# There are 228 passengers in the test set who had no family members in \n",
    "# train.\n",
    "len(x_test_transformed_df[(x_test_transformed_df[\n",
    "    \"family_total_train\"] == 0)])"
   ]
  },
  {
   "cell_type": "code",
   "execution_count": 193,
   "id": "92289e87",
   "metadata": {},
   "outputs": [
    {
     "data": {
      "text/plain": [
       "12"
      ]
     },
     "execution_count": 193,
     "metadata": {},
     "output_type": "execute_result"
    }
   ],
   "source": [
    "# There are 12 children who have only men family members in the train set.\n",
    "len(train_transformed[\n",
    "    (train_transformed[\"adult\"] == 0) &\n",
    "    (train_transformed[\"men_total\"] >= 1) &\n",
    "    (train_transformed[\"women_total\"] == 0) &\n",
    "    (train_transformed[\"girls_total\"] == 0) &\n",
    "    (train_transformed[\"boys_total\"] == 0)\n",
    "])"
   ]
  },
  {
   "cell_type": "code",
   "execution_count": 194,
   "id": "dcf6de17",
   "metadata": {},
   "outputs": [
    {
     "data": {
      "text/plain": [
       "9"
      ]
     },
     "execution_count": 194,
     "metadata": {},
     "output_type": "execute_result"
    }
   ],
   "source": [
    "# There are 9 children who have only men family members in the train set.\n",
    "len(x_test_transformed_df[\n",
    "    (x_test_transformed_df[\"adult\"] == 0) &\n",
    "    (x_test_transformed_df[\"men_total\"] >= 1) &\n",
    "    (x_test_transformed_df[\"women_total\"] == 0) &\n",
    "    (x_test_transformed_df[\"girls_total\"] == 0) &\n",
    "    (x_test_transformed_df[\"boys_total\"] == 0)\n",
    "])"
   ]
  },
  {
   "cell_type": "code",
   "execution_count": 195,
   "id": "8020d6f8",
   "metadata": {},
   "outputs": [],
   "source": [
    "### Delete this cell ###\n",
    "### For simplicity, I will join the sets of passengers with no family in \n",
    "### train and passengers with only fathers in train for the train and test\n",
    "### sets respectively.  This way, I will have a single dataframe that \n",
    "### represents the third subset which I want to work with."
   ]
  },
  {
   "cell_type": "code",
   "execution_count": 196,
   "id": "6ccaa6e8",
   "metadata": {},
   "outputs": [
    {
     "data": {
      "text/html": [
       "<div>\n",
       "<style scoped>\n",
       "    .dataframe tbody tr th:only-of-type {\n",
       "        vertical-align: middle;\n",
       "    }\n",
       "\n",
       "    .dataframe tbody tr th {\n",
       "        vertical-align: top;\n",
       "    }\n",
       "\n",
       "    .dataframe thead th {\n",
       "        text-align: right;\n",
       "    }\n",
       "</style>\n",
       "<table border=\"1\" class=\"dataframe\">\n",
       "  <thead>\n",
       "    <tr style=\"text-align: right;\">\n",
       "      <th></th>\n",
       "      <th>Capt.</th>\n",
       "      <th>Col.</th>\n",
       "      <th>Countess.</th>\n",
       "      <th>Don.</th>\n",
       "      <th>Dona.</th>\n",
       "      <th>Dr.</th>\n",
       "      <th>Jonkheer.</th>\n",
       "      <th>Lady.</th>\n",
       "      <th>Major.</th>\n",
       "      <th>Master.</th>\n",
       "      <th>...</th>\n",
       "      <th>ticket_women_died</th>\n",
       "      <th>ticket_women_total</th>\n",
       "      <th>ticket_boys_survived</th>\n",
       "      <th>ticket_boys_died</th>\n",
       "      <th>ticket_boys_total</th>\n",
       "      <th>ticket_girls_survived</th>\n",
       "      <th>ticket_girls_died</th>\n",
       "      <th>ticket_girls_total</th>\n",
       "      <th>ticket_total_train</th>\n",
       "      <th>family_total_train</th>\n",
       "    </tr>\n",
       "  </thead>\n",
       "  <tbody>\n",
       "    <tr>\n",
       "      <th>1</th>\n",
       "      <td>0.0</td>\n",
       "      <td>0.0</td>\n",
       "      <td>0.0</td>\n",
       "      <td>0.0</td>\n",
       "      <td>0.0</td>\n",
       "      <td>0.0</td>\n",
       "      <td>0.0</td>\n",
       "      <td>0.0</td>\n",
       "      <td>0.0</td>\n",
       "      <td>0.0</td>\n",
       "      <td>...</td>\n",
       "      <td>0.0</td>\n",
       "      <td>0.0</td>\n",
       "      <td>0.0</td>\n",
       "      <td>0.0</td>\n",
       "      <td>0.0</td>\n",
       "      <td>0.0</td>\n",
       "      <td>0.0</td>\n",
       "      <td>0.0</td>\n",
       "      <td>0.0</td>\n",
       "      <td>0.0</td>\n",
       "    </tr>\n",
       "    <tr>\n",
       "      <th>2</th>\n",
       "      <td>0.0</td>\n",
       "      <td>0.0</td>\n",
       "      <td>0.0</td>\n",
       "      <td>0.0</td>\n",
       "      <td>0.0</td>\n",
       "      <td>0.0</td>\n",
       "      <td>0.0</td>\n",
       "      <td>0.0</td>\n",
       "      <td>0.0</td>\n",
       "      <td>0.0</td>\n",
       "      <td>...</td>\n",
       "      <td>0.0</td>\n",
       "      <td>0.0</td>\n",
       "      <td>0.0</td>\n",
       "      <td>0.0</td>\n",
       "      <td>0.0</td>\n",
       "      <td>0.0</td>\n",
       "      <td>0.0</td>\n",
       "      <td>0.0</td>\n",
       "      <td>0.0</td>\n",
       "      <td>0.0</td>\n",
       "    </tr>\n",
       "    <tr>\n",
       "      <th>6</th>\n",
       "      <td>0.0</td>\n",
       "      <td>0.0</td>\n",
       "      <td>0.0</td>\n",
       "      <td>0.0</td>\n",
       "      <td>0.0</td>\n",
       "      <td>0.0</td>\n",
       "      <td>0.0</td>\n",
       "      <td>0.0</td>\n",
       "      <td>0.0</td>\n",
       "      <td>0.0</td>\n",
       "      <td>...</td>\n",
       "      <td>0.0</td>\n",
       "      <td>0.0</td>\n",
       "      <td>0.0</td>\n",
       "      <td>0.0</td>\n",
       "      <td>0.0</td>\n",
       "      <td>0.0</td>\n",
       "      <td>0.0</td>\n",
       "      <td>0.0</td>\n",
       "      <td>0.0</td>\n",
       "      <td>0.0</td>\n",
       "    </tr>\n",
       "    <tr>\n",
       "      <th>9</th>\n",
       "      <td>0.0</td>\n",
       "      <td>0.0</td>\n",
       "      <td>0.0</td>\n",
       "      <td>0.0</td>\n",
       "      <td>0.0</td>\n",
       "      <td>0.0</td>\n",
       "      <td>0.0</td>\n",
       "      <td>0.0</td>\n",
       "      <td>0.0</td>\n",
       "      <td>0.0</td>\n",
       "      <td>...</td>\n",
       "      <td>0.0</td>\n",
       "      <td>0.0</td>\n",
       "      <td>0.0</td>\n",
       "      <td>0.0</td>\n",
       "      <td>0.0</td>\n",
       "      <td>0.0</td>\n",
       "      <td>0.0</td>\n",
       "      <td>0.0</td>\n",
       "      <td>1.0</td>\n",
       "      <td>1.0</td>\n",
       "    </tr>\n",
       "    <tr>\n",
       "      <th>11</th>\n",
       "      <td>0.0</td>\n",
       "      <td>0.0</td>\n",
       "      <td>0.0</td>\n",
       "      <td>0.0</td>\n",
       "      <td>0.0</td>\n",
       "      <td>0.0</td>\n",
       "      <td>0.0</td>\n",
       "      <td>0.0</td>\n",
       "      <td>0.0</td>\n",
       "      <td>0.0</td>\n",
       "      <td>...</td>\n",
       "      <td>0.0</td>\n",
       "      <td>0.0</td>\n",
       "      <td>0.0</td>\n",
       "      <td>0.0</td>\n",
       "      <td>0.0</td>\n",
       "      <td>0.0</td>\n",
       "      <td>0.0</td>\n",
       "      <td>0.0</td>\n",
       "      <td>0.0</td>\n",
       "      <td>0.0</td>\n",
       "    </tr>\n",
       "    <tr>\n",
       "      <th>...</th>\n",
       "      <td>...</td>\n",
       "      <td>...</td>\n",
       "      <td>...</td>\n",
       "      <td>...</td>\n",
       "      <td>...</td>\n",
       "      <td>...</td>\n",
       "      <td>...</td>\n",
       "      <td>...</td>\n",
       "      <td>...</td>\n",
       "      <td>...</td>\n",
       "      <td>...</td>\n",
       "      <td>...</td>\n",
       "      <td>...</td>\n",
       "      <td>...</td>\n",
       "      <td>...</td>\n",
       "      <td>...</td>\n",
       "      <td>...</td>\n",
       "      <td>...</td>\n",
       "      <td>...</td>\n",
       "      <td>...</td>\n",
       "      <td>...</td>\n",
       "    </tr>\n",
       "    <tr>\n",
       "      <th>884</th>\n",
       "      <td>0.0</td>\n",
       "      <td>0.0</td>\n",
       "      <td>0.0</td>\n",
       "      <td>0.0</td>\n",
       "      <td>0.0</td>\n",
       "      <td>0.0</td>\n",
       "      <td>0.0</td>\n",
       "      <td>0.0</td>\n",
       "      <td>0.0</td>\n",
       "      <td>0.0</td>\n",
       "      <td>...</td>\n",
       "      <td>0.0</td>\n",
       "      <td>0.0</td>\n",
       "      <td>0.0</td>\n",
       "      <td>0.0</td>\n",
       "      <td>0.0</td>\n",
       "      <td>0.0</td>\n",
       "      <td>0.0</td>\n",
       "      <td>0.0</td>\n",
       "      <td>0.0</td>\n",
       "      <td>0.0</td>\n",
       "    </tr>\n",
       "    <tr>\n",
       "      <th>886</th>\n",
       "      <td>0.0</td>\n",
       "      <td>0.0</td>\n",
       "      <td>0.0</td>\n",
       "      <td>0.0</td>\n",
       "      <td>0.0</td>\n",
       "      <td>0.0</td>\n",
       "      <td>0.0</td>\n",
       "      <td>0.0</td>\n",
       "      <td>0.0</td>\n",
       "      <td>0.0</td>\n",
       "      <td>...</td>\n",
       "      <td>0.0</td>\n",
       "      <td>0.0</td>\n",
       "      <td>0.0</td>\n",
       "      <td>0.0</td>\n",
       "      <td>0.0</td>\n",
       "      <td>0.0</td>\n",
       "      <td>0.0</td>\n",
       "      <td>0.0</td>\n",
       "      <td>0.0</td>\n",
       "      <td>0.0</td>\n",
       "    </tr>\n",
       "    <tr>\n",
       "      <th>888</th>\n",
       "      <td>0.0</td>\n",
       "      <td>0.0</td>\n",
       "      <td>0.0</td>\n",
       "      <td>0.0</td>\n",
       "      <td>0.0</td>\n",
       "      <td>0.0</td>\n",
       "      <td>0.0</td>\n",
       "      <td>0.0</td>\n",
       "      <td>0.0</td>\n",
       "      <td>0.0</td>\n",
       "      <td>...</td>\n",
       "      <td>0.0</td>\n",
       "      <td>0.0</td>\n",
       "      <td>0.0</td>\n",
       "      <td>0.0</td>\n",
       "      <td>0.0</td>\n",
       "      <td>0.0</td>\n",
       "      <td>0.0</td>\n",
       "      <td>0.0</td>\n",
       "      <td>1.0</td>\n",
       "      <td>1.0</td>\n",
       "    </tr>\n",
       "    <tr>\n",
       "      <th>889</th>\n",
       "      <td>0.0</td>\n",
       "      <td>0.0</td>\n",
       "      <td>0.0</td>\n",
       "      <td>0.0</td>\n",
       "      <td>0.0</td>\n",
       "      <td>0.0</td>\n",
       "      <td>0.0</td>\n",
       "      <td>0.0</td>\n",
       "      <td>0.0</td>\n",
       "      <td>0.0</td>\n",
       "      <td>...</td>\n",
       "      <td>0.0</td>\n",
       "      <td>0.0</td>\n",
       "      <td>0.0</td>\n",
       "      <td>0.0</td>\n",
       "      <td>0.0</td>\n",
       "      <td>0.0</td>\n",
       "      <td>0.0</td>\n",
       "      <td>0.0</td>\n",
       "      <td>0.0</td>\n",
       "      <td>0.0</td>\n",
       "    </tr>\n",
       "    <tr>\n",
       "      <th>890</th>\n",
       "      <td>0.0</td>\n",
       "      <td>0.0</td>\n",
       "      <td>0.0</td>\n",
       "      <td>0.0</td>\n",
       "      <td>0.0</td>\n",
       "      <td>0.0</td>\n",
       "      <td>0.0</td>\n",
       "      <td>0.0</td>\n",
       "      <td>0.0</td>\n",
       "      <td>0.0</td>\n",
       "      <td>...</td>\n",
       "      <td>0.0</td>\n",
       "      <td>0.0</td>\n",
       "      <td>0.0</td>\n",
       "      <td>0.0</td>\n",
       "      <td>0.0</td>\n",
       "      <td>0.0</td>\n",
       "      <td>0.0</td>\n",
       "      <td>0.0</td>\n",
       "      <td>0.0</td>\n",
       "      <td>0.0</td>\n",
       "    </tr>\n",
       "  </tbody>\n",
       "</table>\n",
       "<p>537 rows × 69 columns</p>\n",
       "</div>"
      ],
      "text/plain": [
       "    Capt. Col. Countess. Don. Dona.  Dr. Jonkheer. Lady. Major. Master.  ...  \\\n",
       "1     0.0  0.0       0.0  0.0   0.0  0.0       0.0   0.0    0.0     0.0  ...   \n",
       "2     0.0  0.0       0.0  0.0   0.0  0.0       0.0   0.0    0.0     0.0  ...   \n",
       "6     0.0  0.0       0.0  0.0   0.0  0.0       0.0   0.0    0.0     0.0  ...   \n",
       "9     0.0  0.0       0.0  0.0   0.0  0.0       0.0   0.0    0.0     0.0  ...   \n",
       "11    0.0  0.0       0.0  0.0   0.0  0.0       0.0   0.0    0.0     0.0  ...   \n",
       "..    ...  ...       ...  ...   ...  ...       ...   ...    ...     ...  ...   \n",
       "884   0.0  0.0       0.0  0.0   0.0  0.0       0.0   0.0    0.0     0.0  ...   \n",
       "886   0.0  0.0       0.0  0.0   0.0  0.0       0.0   0.0    0.0     0.0  ...   \n",
       "888   0.0  0.0       0.0  0.0   0.0  0.0       0.0   0.0    0.0     0.0  ...   \n",
       "889   0.0  0.0       0.0  0.0   0.0  0.0       0.0   0.0    0.0     0.0  ...   \n",
       "890   0.0  0.0       0.0  0.0   0.0  0.0       0.0   0.0    0.0     0.0  ...   \n",
       "\n",
       "    ticket_women_died ticket_women_total ticket_boys_survived  \\\n",
       "1                 0.0                0.0                  0.0   \n",
       "2                 0.0                0.0                  0.0   \n",
       "6                 0.0                0.0                  0.0   \n",
       "9                 0.0                0.0                  0.0   \n",
       "11                0.0                0.0                  0.0   \n",
       "..                ...                ...                  ...   \n",
       "884               0.0                0.0                  0.0   \n",
       "886               0.0                0.0                  0.0   \n",
       "888               0.0                0.0                  0.0   \n",
       "889               0.0                0.0                  0.0   \n",
       "890               0.0                0.0                  0.0   \n",
       "\n",
       "    ticket_boys_died ticket_boys_total ticket_girls_survived  \\\n",
       "1                0.0               0.0                   0.0   \n",
       "2                0.0               0.0                   0.0   \n",
       "6                0.0               0.0                   0.0   \n",
       "9                0.0               0.0                   0.0   \n",
       "11               0.0               0.0                   0.0   \n",
       "..               ...               ...                   ...   \n",
       "884              0.0               0.0                   0.0   \n",
       "886              0.0               0.0                   0.0   \n",
       "888              0.0               0.0                   0.0   \n",
       "889              0.0               0.0                   0.0   \n",
       "890              0.0               0.0                   0.0   \n",
       "\n",
       "    ticket_girls_died ticket_girls_total ticket_total_train family_total_train  \n",
       "1                 0.0                0.0                0.0                0.0  \n",
       "2                 0.0                0.0                0.0                0.0  \n",
       "6                 0.0                0.0                0.0                0.0  \n",
       "9                 0.0                0.0                1.0                1.0  \n",
       "11                0.0                0.0                0.0                0.0  \n",
       "..                ...                ...                ...                ...  \n",
       "884               0.0                0.0                0.0                0.0  \n",
       "886               0.0                0.0                0.0                0.0  \n",
       "888               0.0                0.0                1.0                1.0  \n",
       "889               0.0                0.0                0.0                0.0  \n",
       "890               0.0                0.0                0.0                0.0  \n",
       "\n",
       "[537 rows x 69 columns]"
      ]
     },
     "execution_count": 196,
     "metadata": {},
     "output_type": "execute_result"
    }
   ],
   "source": [
    "####### Use this as a base replacement for the train_subset_3 dfs ########\n",
    "train_transformed[\n",
    "    ((train_transformed[\"family_total_train\"] == 0) |\n",
    "     ((train_transformed[\"adult\"] == 0) &\n",
    "      (train_transformed[\"men_total\"] >= 1) &\n",
    "      (train_transformed[\"women_total\"] == 0) &\n",
    "      (train_transformed[\"girls_total\"] == 0) &\n",
    "      (train_transformed[\"boys_total\"] == 0)))\n",
    "]"
   ]
  },
  {
   "cell_type": "code",
   "execution_count": 197,
   "id": "79f4f162",
   "metadata": {},
   "outputs": [],
   "source": [
    "# # Creating dfs in train and test of all passengers who had no family members\n",
    "# # in the train set\n",
    "# train_singles = train_transformed[\n",
    "#     (train_transformed[\"family_total_train\"] == 0)].copy()\n",
    "# test_singles = x_test_transformed_df[(x_test_transformed_df[\n",
    "#     \"family_total_train\"] == 0)].copy()"
   ]
  },
  {
   "cell_type": "code",
   "execution_count": 198,
   "id": "cd574a66",
   "metadata": {},
   "outputs": [],
   "source": [
    "# # Creating dfs in train and test of all children whose only family members \n",
    "# # in test were men.\n",
    "# train_children_fathers = train_transformed[\n",
    "#     (train_transformed[\"adult\"] == 0) &\n",
    "#     (train_transformed[\"men_total\"] >= 1) &\n",
    "#     (train_transformed[\"women_total\"] == 0) &\n",
    "#     (train_transformed[\"girls_total\"] == 0) &\n",
    "#     (train_transformed[\"boys_total\"] == 0)].copy()\n",
    "# test_children_fathers = x_test_transformed_df[\n",
    "#     (x_test_transformed_df[\"adult\"] == 0) &\n",
    "#     (x_test_transformed_df[\"men_total\"] >= 1) &\n",
    "#     (x_test_transformed_df[\"women_total\"] == 0) &\n",
    "#     (x_test_transformed_df[\"girls_total\"] == 0) &\n",
    "#     (x_test_transformed_df[\"boys_total\"] == 0)].copy()"
   ]
  },
  {
   "cell_type": "code",
   "execution_count": 199,
   "id": "bd6ff48a",
   "metadata": {},
   "outputs": [],
   "source": [
    "### Theoretically, there should be no overlap between the single and \n",
    "### children_fathers dataframes in either train nor test.  Lets quickly check\n",
    "### that this is true."
   ]
  },
  {
   "cell_type": "code",
   "execution_count": 200,
   "id": "a58ce003",
   "metadata": {},
   "outputs": [],
   "source": [
    "# # There are no common indexes between the two sets in train\n",
    "# list(set(train_singles.index) & set(train_children_fathers.index))"
   ]
  },
  {
   "cell_type": "code",
   "execution_count": 201,
   "id": "5dd475e3",
   "metadata": {},
   "outputs": [],
   "source": [
    "# # There are no common indexes between the two sets in test\n",
    "# list(set(test_singles.index) & set(test_children_fathers.index))"
   ]
  },
  {
   "cell_type": "code",
   "execution_count": 202,
   "id": "5aeba3b6",
   "metadata": {},
   "outputs": [],
   "source": [
    "# # Now we can safely create the subset_3 dataframes for train and test\n",
    "# train_subset_3 = pd.concat([train_singles, train_children_fathers])\n",
    "# test_subset_3 = pd.concat([test_singles, test_children_fathers])"
   ]
  },
  {
   "cell_type": "code",
   "execution_count": 203,
   "id": "9b5db1de",
   "metadata": {},
   "outputs": [],
   "source": [
    "### Now, we will try to make prediction rules based on ticket family variables \n",
    "### and Pclass, with the possible addition of other variables, for \n",
    "### passengers in this class."
   ]
  },
  {
   "cell_type": "code",
   "execution_count": null,
   "id": "7513e7e5",
   "metadata": {},
   "outputs": [],
   "source": []
  },
  {
   "cell_type": "code",
   "execution_count": 204,
   "id": "17309892",
   "metadata": {},
   "outputs": [
    {
     "data": {
      "text/plain": [
       "Survived  Pclass\n",
       "0         1          51\n",
       "          2          64\n",
       "          3         183\n",
       "1         1          26\n",
       "          2           5\n",
       "          3          28\n",
       "dtype: int64"
      ]
     },
     "execution_count": 204,
     "metadata": {},
     "output_type": "execute_result"
    }
   ],
   "source": [
    "# We will start with predictions for men.  In total, 298/357 men\n",
    "# died.  26/77 or 33.8% of first class men survived, 5/69 or 7.2% of second\n",
    "# class men survived, and 28/211 or 13 % of third class men survived.\n",
    "train_transformed[\n",
    "    ((train_transformed[\"family_total_train\"] == 0) |\n",
    "     ((train_transformed[\"adult\"] == 0) &\n",
    "      (train_transformed[\"men_total\"] >= 1) &\n",
    "      (train_transformed[\"women_total\"] == 0) &\n",
    "      (train_transformed[\"girls_total\"] == 0) &\n",
    "      (train_transformed[\"boys_total\"] == 0))) &\n",
    "    (train_transformed[\"adult\"] == 1) &\n",
    "    (train_transformed[\"Sex\"] == 0)][\n",
    "    [\"Survived\", \"Pclass\"]].value_counts().sort_index()"
   ]
  },
  {
   "cell_type": "code",
   "execution_count": 205,
   "id": "761ed3a7",
   "metadata": {},
   "outputs": [],
   "source": [
    "# # We will start with predictions for men.  In total, 298/357 men\n",
    "# # died.  26/77 or 33.8% of first class men survived, 5/69 or 7.2% of second\n",
    "# # class men survived, and 28/211 or 13 % of third class men survived.\n",
    "# train_subset_3[\n",
    "#     (train_subset_3[\"adult\"] == 1) &\n",
    "#     (train_subset_3[\"Sex\"] == 0)][\n",
    "#     [\"Survived\", \"Pclass\"]].value_counts().sort_index()"
   ]
  },
  {
   "cell_type": "code",
   "execution_count": 206,
   "id": "54601291",
   "metadata": {},
   "outputs": [
    {
     "data": {
      "text/plain": [
       "Survived  Pclass\n",
       "0         1          42\n",
       "          2          54\n",
       "          3         175\n",
       "1         1          24\n",
       "          2           5\n",
       "          3          22\n",
       "dtype: int64"
      ]
     },
     "execution_count": 206,
     "metadata": {},
     "output_type": "execute_result"
    }
   ],
   "source": [
    "# There are 2 subsets of men to consider:\n",
    "# 1) men traveling with no one in their ticket group\n",
    "# 2) Men traveling with at least one other person in their ticket group\n",
    "\n",
    "# First, we will examine men traveling with no other people in their \n",
    "# ticket group who are contained in the train set.\n",
    "\n",
    "# 24/66 first class passengers survived, 5/54 second class men survived, and\n",
    "# 22/197 third class men survived.  If we are trying to narrow down the \n",
    "# subset of survivors, we may want to look exclusively at first class men.\n",
    "train_transformed[\n",
    "    ((train_transformed[\"family_total_train\"] == 0) |\n",
    "     ((train_transformed[\"adult\"] == 0) &\n",
    "      (train_transformed[\"men_total\"] >= 1) &\n",
    "      (train_transformed[\"women_total\"] == 0) &\n",
    "      (train_transformed[\"girls_total\"] == 0) &\n",
    "      (train_transformed[\"boys_total\"] == 0))) &\n",
    "    (train_transformed[\"adult\"] == 1) &\n",
    "    (train_transformed[\"Sex\"] == 0) &\n",
    "    (train_transformed[\"ticket_total_train\"] == 0)][\n",
    "    [\"Survived\", \"Pclass\"]].value_counts().sort_index()"
   ]
  },
  {
   "cell_type": "code",
   "execution_count": 207,
   "id": "5bd8dce4",
   "metadata": {},
   "outputs": [],
   "source": [
    "# # There are 2 subsets of men to consider:\n",
    "# # 1) men traveling with no one in their ticket group\n",
    "# # 2) Men traveling with at least one other person in their ticket group\n",
    "\n",
    "# # First, we will examine men traveling with no other people in their \n",
    "# # ticket group who are contained in the train set.\n",
    "\n",
    "# # 24/66 first class passengers survived, 5/54 second class men survived, and\n",
    "# # 22/197 third class men survived.  If we are trying to narrow down the \n",
    "# # subset of survivors, we may want to look exclusively at first class men.\n",
    "# train_subset_3[\n",
    "#     (train_subset_3[\"adult\"] == 1) &\n",
    "#     (train_subset_3[\"Sex\"] == 0) &\n",
    "#     (train_subset_3[\"ticket_total_train\"] == 0)][\n",
    "#     [\"Survived\", \"Pclass\"]].value_counts().sort_index()"
   ]
  },
  {
   "cell_type": "code",
   "execution_count": 208,
   "id": "adc21f34",
   "metadata": {},
   "outputs": [
    {
     "data": {
      "text/html": [
       "<div>\n",
       "<style scoped>\n",
       "    .dataframe tbody tr th:only-of-type {\n",
       "        vertical-align: middle;\n",
       "    }\n",
       "\n",
       "    .dataframe tbody tr th {\n",
       "        vertical-align: top;\n",
       "    }\n",
       "\n",
       "    .dataframe thead th {\n",
       "        text-align: right;\n",
       "    }\n",
       "</style>\n",
       "<table border=\"1\" class=\"dataframe\">\n",
       "  <thead>\n",
       "    <tr style=\"text-align: right;\">\n",
       "      <th></th>\n",
       "      <th>c_fare</th>\n",
       "      <th>q_fare</th>\n",
       "      <th>s_fare</th>\n",
       "    </tr>\n",
       "    <tr>\n",
       "      <th>Survived</th>\n",
       "      <th></th>\n",
       "      <th></th>\n",
       "      <th></th>\n",
       "    </tr>\n",
       "  </thead>\n",
       "  <tbody>\n",
       "    <tr>\n",
       "      <th>0</th>\n",
       "      <td>34.344127</td>\n",
       "      <td>NaN</td>\n",
       "      <td>31.017165</td>\n",
       "    </tr>\n",
       "    <tr>\n",
       "      <th>1</th>\n",
       "      <td>31.321356</td>\n",
       "      <td>NaN</td>\n",
       "      <td>28.774350</td>\n",
       "    </tr>\n",
       "  </tbody>\n",
       "</table>\n",
       "</div>"
      ],
      "text/plain": [
       "             c_fare  q_fare     s_fare\n",
       "Survived                              \n",
       "0         34.344127     NaN  31.017165\n",
       "1         31.321356     NaN  28.774350"
      ]
     },
     "execution_count": 208,
     "metadata": {},
     "output_type": "execute_result"
    }
   ],
   "source": [
    "# Contrary to my prediction, the port fares were not at all predictive of\n",
    "# whether or not a single man in Pclass 1 would survive.  Interestingly, \n",
    "# there were no single men in Pclass 1 traveling from the q port.\n",
    "train_transformed[\n",
    "    ((train_transformed[\"family_total_train\"] == 0) |\n",
    "     ((train_transformed[\"adult\"] == 0) &\n",
    "      (train_transformed[\"men_total\"] >= 1) &\n",
    "      (train_transformed[\"women_total\"] == 0) &\n",
    "      (train_transformed[\"girls_total\"] == 0) &\n",
    "      (train_transformed[\"boys_total\"] == 0))) &\n",
    "    (train_transformed[\"adult\"] == 1) &\n",
    "    (train_transformed[\"Sex\"] == 0) &\n",
    "    (train_transformed[\"ticket_total_train\"] == 0) &\n",
    "    (train_transformed[\"Pclass\"] == 1)][\n",
    "    [\"Survived\", \"c_fare\", \"q_fare\", \"s_fare\"]].groupby(\"Survived\").mean()"
   ]
  },
  {
   "cell_type": "code",
   "execution_count": 209,
   "id": "ee8c93e4",
   "metadata": {},
   "outputs": [],
   "source": [
    "# # Contrary to my prediction, the port fares were not at all predictive of\n",
    "# # whether or not a single man in Pclass 1 would survive.  Interestingly, \n",
    "# # there were no single men in Pclass 1 traveling from the q port.\n",
    "# train_subset_3[\n",
    "#     (train_subset_3[\"adult\"] == 1) &\n",
    "#     (train_subset_3[\"Sex\"] == 0) &\n",
    "#     (train_subset_3[\"ticket_total_train\"] == 0) &\n",
    "#     (train_subset_3[\"Pclass\"] == 1)][\n",
    "#     [\"Survived\", \"c_fare\", \"q_fare\", \"s_fare\"]].groupby(\"Survived\").mean()"
   ]
  },
  {
   "cell_type": "code",
   "execution_count": 210,
   "id": "ff55cdfa",
   "metadata": {},
   "outputs": [
    {
     "data": {
      "text/html": [
       "<div>\n",
       "<style scoped>\n",
       "    .dataframe tbody tr th:only-of-type {\n",
       "        vertical-align: middle;\n",
       "    }\n",
       "\n",
       "    .dataframe tbody tr th {\n",
       "        vertical-align: top;\n",
       "    }\n",
       "\n",
       "    .dataframe thead th {\n",
       "        text-align: right;\n",
       "    }\n",
       "</style>\n",
       "<table border=\"1\" class=\"dataframe\">\n",
       "  <thead>\n",
       "    <tr style=\"text-align: right;\">\n",
       "      <th></th>\n",
       "      <th>c_fare</th>\n",
       "      <th>q_fare</th>\n",
       "      <th>s_fare</th>\n",
       "    </tr>\n",
       "    <tr>\n",
       "      <th>Survived</th>\n",
       "      <th></th>\n",
       "      <th></th>\n",
       "      <th></th>\n",
       "    </tr>\n",
       "  </thead>\n",
       "  <tbody>\n",
       "    <tr>\n",
       "      <th>0</th>\n",
       "      <td>11</td>\n",
       "      <td>0</td>\n",
       "      <td>27</td>\n",
       "    </tr>\n",
       "    <tr>\n",
       "      <th>1</th>\n",
       "      <td>8</td>\n",
       "      <td>0</td>\n",
       "      <td>16</td>\n",
       "    </tr>\n",
       "  </tbody>\n",
       "</table>\n",
       "</div>"
      ],
      "text/plain": [
       "          c_fare  q_fare  s_fare\n",
       "Survived                        \n",
       "0             11       0      27\n",
       "1              8       0      16"
      ]
     },
     "execution_count": 210,
     "metadata": {},
     "output_type": "execute_result"
    }
   ],
   "source": [
    "# Additionally, none of the ports had a male pclass 1 survival percentage \n",
    "# greater than 50%.\n",
    "train_transformed[\n",
    "    ((train_transformed[\"family_total_train\"] == 0) |\n",
    "     ((train_transformed[\"adult\"] == 0) &\n",
    "      (train_transformed[\"men_total\"] >= 1) &\n",
    "      (train_transformed[\"women_total\"] == 0) &\n",
    "      (train_transformed[\"girls_total\"] == 0) &\n",
    "      (train_transformed[\"boys_total\"] == 0))) &\n",
    "    (train_transformed[\"adult\"] == 1) &\n",
    "    (train_transformed[\"Sex\"] == 0) &\n",
    "    (train_transformed[\"ticket_total_train\"] == 0) &\n",
    "    (train_transformed[\"Pclass\"] == 1)][\n",
    "    [\"Survived\", \"c_fare\", \"q_fare\", \"s_fare\"]].groupby(\"Survived\").count()"
   ]
  },
  {
   "cell_type": "code",
   "execution_count": 211,
   "id": "eac83067",
   "metadata": {},
   "outputs": [],
   "source": [
    "# # Additionally, none of the ports had a male pclass 1 survival percentage \n",
    "# # greater than 50%.  \n",
    "# train_subset_3[\n",
    "#     (train_subset_3[\"adult\"] == 1) &\n",
    "#     (train_subset_3[\"Sex\"] == 0) &\n",
    "#     (train_subset_3[\"ticket_total_train\"] == 0) &\n",
    "#     (train_subset_3[\"Pclass\"] == 1)][\n",
    "#     [\"Survived\", \"c_fare\", \"q_fare\", \"s_fare\"]].groupby(\"Survived\").count()"
   ]
  },
  {
   "cell_type": "code",
   "execution_count": 212,
   "id": "0555a4f1",
   "metadata": {},
   "outputs": [],
   "source": [
    "# Lets see if age had any effect on survival\n",
    "df_men_age = train_transformed[\n",
    "    ((train_transformed[\"family_total_train\"] == 0) |\n",
    "     ((train_transformed[\"adult\"] == 0) &\n",
    "      (train_transformed[\"men_total\"] >= 1) &\n",
    "      (train_transformed[\"women_total\"] == 0) &\n",
    "      (train_transformed[\"girls_total\"] == 0) &\n",
    "      (train_transformed[\"boys_total\"] == 0))) &\n",
    "    (train_transformed[\"adult\"] == 1) &\n",
    "    (train_transformed[\"Sex\"] == 0) &\n",
    "    (train_transformed[\"ticket_total_train\"] == 0) &\n",
    "    (train_transformed[\"Pclass\"] == 1)][\n",
    "    [\"Survived\", \"Age\"]].copy()"
   ]
  },
  {
   "cell_type": "code",
   "execution_count": 213,
   "id": "6957bfca",
   "metadata": {},
   "outputs": [],
   "source": [
    "# # Lets see if age had any effect on survival\n",
    "# df_men_age = train_subset_3[\n",
    "#     (train_subset_3[\"adult\"] == 1) &\n",
    "#     (train_subset_3[\"Sex\"] == 0) &\n",
    "#     (train_subset_3[\"ticket_total_train\"] == 0) &\n",
    "#     (train_subset_3[\"Pclass\"] == 1)][\n",
    "#     [\"Survived\", \"Age\"]].copy()"
   ]
  },
  {
   "cell_type": "code",
   "execution_count": 214,
   "id": "3da64aac",
   "metadata": {
    "scrolled": true
   },
   "outputs": [
    {
     "data": {
      "text/plain": [
       "<AxesSubplot:xlabel='Age', ylabel='Density'>"
      ]
     },
     "execution_count": 214,
     "metadata": {},
     "output_type": "execute_result"
    },
    {
     "data": {
      "image/png": "[encoded data removed]",
      "text/plain": [
       "<Figure size 432x288 with 1 Axes>"
      ]
     },
     "metadata": {
      "needs_background": "light"
     },
     "output_type": "display_data"
    }
   ],
   "source": [
    "# It does not look like there is any meaningful portion of the graph that\n",
    "# would make us predict a man survives, even though we technically could\n",
    "# for high outlier values.\n",
    "sns.kdeplot(data = df_men_age, x=\"Age\", hue=\"Survived\", multiple=\"layer\")"
   ]
  },
  {
   "cell_type": "code",
   "execution_count": 215,
   "id": "405186a0",
   "metadata": {},
   "outputs": [
    {
     "data": {
      "text/plain": [
       "Survived  Pclass\n",
       "0         1          9\n",
       "          2         10\n",
       "          3          8\n",
       "1         1          2\n",
       "          3          6\n",
       "dtype: int64"
      ]
     },
     "execution_count": 215,
     "metadata": {},
     "output_type": "execute_result"
    }
   ],
   "source": [
    "# Unfortunately, I will give up on predicting that any men with no family\n",
    "# members or ticket group members will survive. This leaves men with \n",
    "# other people in their ticket group.\n",
    "\n",
    "# Of these men, 2/11 first class passengers survive, 0/10 second class \n",
    "# passengers survive, and 6/8 third class passengers survive.\n",
    "train_transformed[\n",
    "    ((train_transformed[\"family_total_train\"] == 0) |\n",
    "     ((train_transformed[\"adult\"] == 0) &\n",
    "      (train_transformed[\"men_total\"] >= 1) &\n",
    "      (train_transformed[\"women_total\"] == 0) &\n",
    "      (train_transformed[\"girls_total\"] == 0) &\n",
    "      (train_transformed[\"boys_total\"] == 0))) &\n",
    "    (train_transformed[\"adult\"] == 1) &\n",
    "    (train_transformed[\"Sex\"] == 0) &\n",
    "    (train_transformed[\"ticket_total_train\"] >= 1)][\n",
    "    [\"Survived\", \"Pclass\"]].value_counts().sort_index()"
   ]
  },
  {
   "cell_type": "code",
   "execution_count": 216,
   "id": "02e6b843",
   "metadata": {},
   "outputs": [],
   "source": [
    "# # Unfortunately, I will give up on predicting that any men with no family\n",
    "# # members or ticket group members will survive. This leaves men with \n",
    "# # other people in their ticket group.\n",
    "\n",
    "# # Of these men, 2/11 first class passengers survive, 0/10 second class \n",
    "# # passengers survive, and 6/8 third class passengers survive.\n",
    "# train_subset_3[\n",
    "#     (train_subset_3[\"adult\"] == 1) &\n",
    "#     (train_subset_3[\"Sex\"] == 0) &\n",
    "#     (train_subset_3[\"ticket_total_train\"] >= 1)][\n",
    "#     [\"Survived\", \"Pclass\"]].value_counts().sort_index()"
   ]
  },
  {
   "cell_type": "code",
   "execution_count": 217,
   "id": "2a18407a",
   "metadata": {},
   "outputs": [
    {
     "data": {
      "text/plain": [
       "Survived\n",
       "0           19\n",
       "1            6\n",
       "dtype: int64"
      ]
     },
     "execution_count": 217,
     "metadata": {},
     "output_type": "execute_result"
    }
   ],
   "source": [
    "# 25 of these men were traveling in groups with other men.\n",
    "train_transformed[\n",
    "    ((train_transformed[\"family_total_train\"] == 0) |\n",
    "     ((train_transformed[\"adult\"] == 0) &\n",
    "      (train_transformed[\"men_total\"] >= 1) &\n",
    "      (train_transformed[\"women_total\"] == 0) &\n",
    "      (train_transformed[\"girls_total\"] == 0) &\n",
    "      (train_transformed[\"boys_total\"] == 0))) &\n",
    "    (train_transformed[\"adult\"] == 1) &\n",
    "    (train_transformed[\"Sex\"] == 0) &\n",
    "    (train_transformed[\"ticket_total_train\"] >= 1) &\n",
    "    (train_transformed[\"ticket_men_total\"] >= 1)][\n",
    "    [\"Survived\"]].value_counts().sort_index()"
   ]
  },
  {
   "cell_type": "code",
   "execution_count": 218,
   "id": "fa312d8f",
   "metadata": {},
   "outputs": [],
   "source": [
    "# # 25 of these men were traveling in groups with other men.\n",
    "# train_subset_3[\n",
    "#     (train_subset_3[\"adult\"] == 1) &\n",
    "#     (train_subset_3[\"Sex\"] == 0) &\n",
    "#     (train_subset_3[\"ticket_total_train\"] >= 1) &\n",
    "#     (train_subset_3[\"ticket_men_total\"] >= 1)][\n",
    "#     [\"Survived\"]].value_counts().sort_index()"
   ]
  },
  {
   "cell_type": "code",
   "execution_count": 219,
   "id": "32cd56c3",
   "metadata": {},
   "outputs": [
    {
     "data": {
      "text/plain": [
       "Survived\n",
       "1           1\n",
       "dtype: int64"
      ]
     },
     "execution_count": 219,
     "metadata": {},
     "output_type": "execute_result"
    }
   ],
   "source": [
    "# Only one man was in a group where all other men survived.  This man lived.\n",
    "train_transformed[\n",
    "    ((train_transformed[\"family_total_train\"] == 0) |\n",
    "     ((train_transformed[\"adult\"] == 0) &\n",
    "      (train_transformed[\"men_total\"] >= 1) &\n",
    "      (train_transformed[\"women_total\"] == 0) &\n",
    "      (train_transformed[\"girls_total\"] == 0) &\n",
    "      (train_transformed[\"boys_total\"] == 0))) &\n",
    "    (train_transformed[\"adult\"] == 1) &\n",
    "    (train_transformed[\"Sex\"] == 0) &\n",
    "    (train_transformed[\"ticket_total_train\"] >= 1) &\n",
    "    (train_transformed[\"ticket_men_total\"] >= 1) &\n",
    "    (train_transformed[\"ticket_men_died\"] == 0)][\n",
    "    [\"Survived\"]].value_counts().sort_index()"
   ]
  },
  {
   "cell_type": "code",
   "execution_count": 220,
   "id": "14c3a86e",
   "metadata": {},
   "outputs": [],
   "source": [
    "# # Only one man was in a group where all other men survived.  This man lived.\n",
    "# train_subset_3[\n",
    "#     (train_subset_3[\"adult\"] == 1) &\n",
    "#     (train_subset_3[\"Sex\"] == 0) &\n",
    "#     (train_subset_3[\"ticket_total_train\"] >= 1) &\n",
    "#     (train_subset_3[\"ticket_men_total\"] >= 1) &\n",
    "#     (train_subset_3[\"ticket_men_died\"] == 0)][\n",
    "#     [\"Survived\"]].value_counts().sort_index()"
   ]
  },
  {
   "cell_type": "code",
   "execution_count": 221,
   "id": "73147965",
   "metadata": {},
   "outputs": [
    {
     "data": {
      "text/plain": [
       "Survived\n",
       "0           2\n",
       "1           5\n",
       "dtype: int64"
      ]
     },
     "execution_count": 221,
     "metadata": {},
     "output_type": "execute_result"
    }
   ],
   "source": [
    "# Men in ticket groups where at least one man survived lived themselves 5/7\n",
    "# times.\n",
    "train_transformed[\n",
    "    ((train_transformed[\"family_total_train\"] == 0) |\n",
    "     ((train_transformed[\"adult\"] == 0) &\n",
    "      (train_transformed[\"men_total\"] >= 1) &\n",
    "      (train_transformed[\"women_total\"] == 0) &\n",
    "      (train_transformed[\"girls_total\"] == 0) &\n",
    "      (train_transformed[\"boys_total\"] == 0))) &\n",
    "    (train_transformed[\"adult\"] == 1) &\n",
    "    (train_transformed[\"Sex\"] == 0) &\n",
    "    (train_transformed[\"ticket_total_train\"] >= 1) &\n",
    "    (train_transformed[\"ticket_men_total\"] >= 1) &\n",
    "    (train_transformed[\"ticket_men_survived\"] >= 1)][\n",
    "    [\"Survived\"]].value_counts().sort_index()"
   ]
  },
  {
   "cell_type": "code",
   "execution_count": 222,
   "id": "688082e5",
   "metadata": {},
   "outputs": [],
   "source": [
    "# # Men in ticket groups where at least one man survived lived themselves 5/7\n",
    "# # times.\n",
    "# train_subset_3[\n",
    "#     (train_subset_3[\"adult\"] == 1) &\n",
    "#     (train_subset_3[\"Sex\"] == 0) &\n",
    "#     (train_subset_3[\"ticket_total_train\"] >= 1) &\n",
    "#     (train_subset_3[\"ticket_men_total\"] >= 1) &\n",
    "#     (train_subset_3[\"ticket_men_survived\"] >= 1)][\n",
    "#     [\"Survived\"]].value_counts().sort_index()"
   ]
  },
  {
   "cell_type": "code",
   "execution_count": 223,
   "id": "6c445eb9",
   "metadata": {},
   "outputs": [],
   "source": [
    "#### Delete this cell?  Probably ####\n",
    "\n",
    "# # Men in ticket groups where no other passengers died, and that had at \n",
    "# # least one boy, girl or woman survived 2/8 times.\n",
    "# train_subset_3[\n",
    "#     (train_subset_3[\"adult\"] == 1) &\n",
    "#     (train_subset_3[\"Sex\"] == 0) &\n",
    "#     (train_subset_3[\"ticket_total_train\"] >= 1) &\n",
    "#     (train_subset_3[\"ticket_girls_died\"] == 0) &\n",
    "#     (train_subset_3[\"ticket_boys_died\"] == 0) &\n",
    "#     (train_subset_3[\"ticket_women_died\"] == 0) &\n",
    "#     (train_subset_3[\"ticket_men_died\"] == 0) &\n",
    "#     ((train_subset_3[\"ticket_girls_total\"] >= 1) |\n",
    "#      (train_subset_3[\"ticket_boys_total\"] >= 1) |\n",
    "#      (train_subset_3[\"ticket_women_total\"] >= 1))][\n",
    "#     [\"Survived\", \"Pclass\"]].value_counts().sort_index()"
   ]
  },
  {
   "cell_type": "code",
   "execution_count": 224,
   "id": "13402669",
   "metadata": {},
   "outputs": [],
   "source": [
    "# For this subset, we will only select men to live who are in groups where\n",
    "# other men live.  This correctly selects 5/6 surviving men, and only \n",
    "# misclassifies 2 men to survive who die."
   ]
  },
  {
   "cell_type": "code",
   "execution_count": null,
   "id": "e5e07955",
   "metadata": {},
   "outputs": [],
   "source": []
  },
  {
   "cell_type": "code",
   "execution_count": null,
   "id": "ec875fab",
   "metadata": {},
   "outputs": [],
   "source": []
  },
  {
   "cell_type": "code",
   "execution_count": null,
   "id": "5b6f37b1",
   "metadata": {},
   "outputs": [],
   "source": []
  },
  {
   "cell_type": "code",
   "execution_count": 225,
   "id": "e79fbc79",
   "metadata": {},
   "outputs": [
    {
     "data": {
      "text/plain": [
       "Survived  Pclass\n",
       "0         1          1\n",
       "          2          4\n",
       "          3         22\n",
       "1         1         40\n",
       "          2         29\n",
       "          3         32\n",
       "dtype: int64"
      ]
     },
     "execution_count": 225,
     "metadata": {},
     "output_type": "execute_result"
    }
   ],
   "source": [
    "# Now, moving on to the women of subset 3.\n",
    "# 1/41 first class women died\n",
    "# 4/33 second class women died\n",
    "# 22/54 third class women died.\n",
    "# How can we predict which of these women will die?\n",
    "train_transformed[\n",
    "    ((train_transformed[\"family_total_train\"] == 0) |\n",
    "     ((train_transformed[\"adult\"] == 0) &\n",
    "      (train_transformed[\"men_total\"] >= 1) &\n",
    "      (train_transformed[\"women_total\"] == 0) &\n",
    "      (train_transformed[\"girls_total\"] == 0) &\n",
    "      (train_transformed[\"boys_total\"] == 0))) &\n",
    "    (train_transformed[\"adult\"] == 1) &\n",
    "    (train_transformed[\"Sex\"] == 1)][\n",
    "    [\"Survived\", \"Pclass\"]].value_counts().sort_index()"
   ]
  },
  {
   "cell_type": "code",
   "execution_count": 226,
   "id": "3629b384",
   "metadata": {},
   "outputs": [],
   "source": [
    "# # Now, moving on to the women of subset 3.\n",
    "# # 1/41 first class women died\n",
    "# # 4/33 second class women died\n",
    "# # 22/54 third class women died.\n",
    "# # How can we predict which of these women will die?\n",
    "# train_subset_3[\n",
    "#     (train_subset_3[\"adult\"] == 1) &\n",
    "#     (train_subset_3[\"Sex\"] == 1)][\n",
    "#     [\"Survived\", \"Pclass\"]].value_counts().sort_index()"
   ]
  },
  {
   "cell_type": "code",
   "execution_count": 227,
   "id": "25f90e14",
   "metadata": {},
   "outputs": [
    {
     "data": {
      "text/plain": [
       "Survived  Pclass\n",
       "0         1          1\n",
       "          2          3\n",
       "          3         22\n",
       "1         1         11\n",
       "          2         27\n",
       "          3         31\n",
       "dtype: int64"
      ]
     },
     "execution_count": 227,
     "metadata": {},
     "output_type": "execute_result"
    }
   ],
   "source": [
    "# First, we will look at the subset of these women who had no other family \n",
    "# members in the train set.\n",
    "# 1/12 first class women die\n",
    "# 3/30 second class women die\n",
    "# 22/53 third class women die.\n",
    "\n",
    "# Interestingly, it seems as if the majority of first class women were \n",
    "# traveling with people in their ticket group, and the majority of second\n",
    "# and third class women were travelling with no one in their ticket group.\n",
    "# This can be seen by comparing the results of this cell and the cell above.\n",
    "train_transformed[\n",
    "    ((train_transformed[\"family_total_train\"] == 0) |\n",
    "     ((train_transformed[\"adult\"] == 0) &\n",
    "      (train_transformed[\"men_total\"] >= 1) &\n",
    "      (train_transformed[\"women_total\"] == 0) &\n",
    "      (train_transformed[\"girls_total\"] == 0) &\n",
    "      (train_transformed[\"boys_total\"] == 0))) &\n",
    "    (train_transformed[\"adult\"] == 1) &\n",
    "    (train_transformed[\"Sex\"] == 1) &\n",
    "    (train_transformed[\"ticket_total_train\"] == 0)][\n",
    "    [\"Survived\", \"Pclass\"]].value_counts().sort_index()"
   ]
  },
  {
   "cell_type": "code",
   "execution_count": 228,
   "id": "b809962c",
   "metadata": {},
   "outputs": [],
   "source": [
    "# # First, we will look at the subset of these women who had no other family \n",
    "# # members in the train set.\n",
    "# # 1/12 first class women die\n",
    "# # 3/30 second class women die\n",
    "# # 22/53 third class women die.\n",
    "\n",
    "# # Interestingly, it seems as if the majority of first class women were \n",
    "# # traveling with people in their ticket group, and the majority of second\n",
    "# # and third class women were travelling with no one in their ticket group.\n",
    "# # This can be seen by comparing the results of this cell and the cell above.\n",
    "# train_subset_3[\n",
    "#     (train_subset_3[\"adult\"] == 1) &\n",
    "#     (train_subset_3[\"Sex\"] == 1) &\n",
    "#     (train_subset_3[\"ticket_total_train\"] == 0)][\n",
    "#     [\"Survived\", \"Pclass\"]].value_counts().sort_index()"
   ]
  },
  {
   "cell_type": "code",
   "execution_count": 229,
   "id": "110ef2f6",
   "metadata": {},
   "outputs": [],
   "source": [
    "# The majority of the deaths come from Pclass 3.  Lets take a look at the\n",
    "# age distributions of women in this pclass, and the effects on survival.\n",
    "df_women_age = train_transformed[\n",
    "    ((train_transformed[\"family_total_train\"] == 0) |\n",
    "     ((train_transformed[\"adult\"] == 0) &\n",
    "      (train_transformed[\"men_total\"] >= 1) &\n",
    "      (train_transformed[\"women_total\"] == 0) &\n",
    "      (train_transformed[\"girls_total\"] == 0) &\n",
    "      (train_transformed[\"boys_total\"] == 0))) &\n",
    "    (train_transformed[\"adult\"] == 1) &\n",
    "    (train_transformed[\"Sex\"] == 1) &\n",
    "    (train_transformed[\"ticket_total_train\"] == 0) &\n",
    "    (train_transformed[\"Pclass\"] == 3)][\n",
    "    [\"Survived\", \"Age\"]].copy()"
   ]
  },
  {
   "cell_type": "code",
   "execution_count": 230,
   "id": "f8d31793",
   "metadata": {},
   "outputs": [],
   "source": [
    "# # The majority of the deaths come from Pclass 3.  Lets take a look at the\n",
    "# # age distributions of women in this pclass, and the effects on survival.\n",
    "# df_women_age = train_subset_3[\n",
    "#     (train_subset_3[\"adult\"] == 1) &\n",
    "#     (train_subset_3[\"Sex\"] == 1) &\n",
    "#     (train_subset_3[\"ticket_total_train\"] == 0) &\n",
    "#     (train_subset_3[\"Pclass\"] == 3)][\n",
    "#     [\"Survived\", \"Age\"]].copy()"
   ]
  },
  {
   "cell_type": "code",
   "execution_count": 231,
   "id": "aefd7f06",
   "metadata": {},
   "outputs": [
    {
     "data": {
      "text/plain": [
       "1    31\n",
       "0    22\n",
       "Name: Survived, dtype: int64"
      ]
     },
     "execution_count": 231,
     "metadata": {},
     "output_type": "execute_result"
    }
   ],
   "source": [
    "# 22/53 of these women died\n",
    "df_women_age[\"Survived\"].value_counts()"
   ]
  },
  {
   "cell_type": "code",
   "execution_count": 232,
   "id": "8f6939c2",
   "metadata": {},
   "outputs": [
    {
     "data": {
      "text/plain": [
       "<seaborn.axisgrid.FacetGrid at 0x180282a5e20>"
      ]
     },
     "execution_count": 232,
     "metadata": {},
     "output_type": "execute_result"
    },
    {
     "data": {
      "image/png": "[encoded data removed]",
      "text/plain": [
       "<Figure size 411.875x360 with 1 Axes>"
      ]
     },
     "metadata": {
      "needs_background": "light"
     },
     "output_type": "display_data"
    }
   ],
   "source": [
    "# Just eyeballing this graph, we could make a predictiong that women \n",
    "# in pclass 3 age 35 to 55 are more likely to die.  This is a pattern\n",
    "# of adult survival we have already seen, where younger and older adults\n",
    "# have a good chance to live, but middle aged adults are more likely to die.\n",
    "# However, there are only 4 examples of death here, so I don't think its\n",
    "# convincing enough to create a rule.\n",
    "sns.displot(data=df_women_age, x=\"Age\", hue=\"Survived\", multiple=\"layer\",\n",
    "            bins=20)"
   ]
  },
  {
   "cell_type": "code",
   "execution_count": 233,
   "id": "56863233",
   "metadata": {},
   "outputs": [
    {
     "data": {
      "text/html": [
       "<div>\n",
       "<style scoped>\n",
       "    .dataframe tbody tr th:only-of-type {\n",
       "        vertical-align: middle;\n",
       "    }\n",
       "\n",
       "    .dataframe tbody tr th {\n",
       "        vertical-align: top;\n",
       "    }\n",
       "\n",
       "    .dataframe thead th {\n",
       "        text-align: right;\n",
       "    }\n",
       "</style>\n",
       "<table border=\"1\" class=\"dataframe\">\n",
       "  <thead>\n",
       "    <tr style=\"text-align: right;\">\n",
       "      <th></th>\n",
       "      <th>Survived</th>\n",
       "      <th>lname</th>\n",
       "      <th>Age</th>\n",
       "      <th>family_members</th>\n",
       "    </tr>\n",
       "  </thead>\n",
       "  <tbody>\n",
       "    <tr>\n",
       "      <th>40</th>\n",
       "      <td>0</td>\n",
       "      <td>Ahlin</td>\n",
       "      <td>40.0</td>\n",
       "      <td>1</td>\n",
       "    </tr>\n",
       "    <tr>\n",
       "      <th>132</th>\n",
       "      <td>0</td>\n",
       "      <td>Robins</td>\n",
       "      <td>47.0</td>\n",
       "      <td>1</td>\n",
       "    </tr>\n",
       "    <tr>\n",
       "      <th>276</th>\n",
       "      <td>0</td>\n",
       "      <td>Lindblom</td>\n",
       "      <td>45.0</td>\n",
       "      <td>0</td>\n",
       "    </tr>\n",
       "    <tr>\n",
       "      <th>503</th>\n",
       "      <td>0</td>\n",
       "      <td>Laitinen</td>\n",
       "      <td>37.0</td>\n",
       "      <td>0</td>\n",
       "    </tr>\n",
       "  </tbody>\n",
       "</table>\n",
       "</div>"
      ],
      "text/plain": [
       "     Survived     lname   Age family_members\n",
       "40          0     Ahlin  40.0              1\n",
       "132         0    Robins  47.0              1\n",
       "276         0  Lindblom  45.0              0\n",
       "503         0  Laitinen  37.0              0"
      ]
     },
     "execution_count": 233,
     "metadata": {},
     "output_type": "execute_result"
    }
   ],
   "source": [
    "# Selecting women traveling with no ticket group members who are pclass 3 \n",
    "# and age 35-55 yields 4 dying women.  These four women are not related.\n",
    "train_transformed[\n",
    "    ((train_transformed[\"family_total_train\"] == 0) |\n",
    "     ((train_transformed[\"adult\"] == 0) &\n",
    "      (train_transformed[\"men_total\"] >= 1) &\n",
    "      (train_transformed[\"women_total\"] == 0) &\n",
    "      (train_transformed[\"girls_total\"] == 0) &\n",
    "      (train_transformed[\"boys_total\"] == 0))) &\n",
    "    (train_transformed[\"adult\"] == 1) &\n",
    "    (train_transformed[\"Sex\"] == 1) &\n",
    "    (train_transformed[\"ticket_total_train\"] == 0) &\n",
    "    (train_transformed[\"Pclass\"] == 3) &\n",
    "    (train_transformed[\"Age\"] > 35) &\n",
    "    (train_transformed[\"Age\"] < 55)][\n",
    "    [\"Survived\", \"lname\", \"Age\", \"family_members\"]]"
   ]
  },
  {
   "cell_type": "code",
   "execution_count": 234,
   "id": "fc1f85d5",
   "metadata": {},
   "outputs": [],
   "source": [
    "# # Selecting women traveling with no ticket group members who are pclass 3 \n",
    "# # and age 35-55 yields 4 dying women.  These four women are not related.\n",
    "# train_subset_3[\n",
    "#     (train_subset_3[\"adult\"] == 1) &\n",
    "#     (train_subset_3[\"Sex\"] == 1) &\n",
    "#     (train_subset_3[\"ticket_total_train\"] == 0) &\n",
    "#     (train_subset_3[\"Pclass\"] == 3) &\n",
    "#     (train_subset_3[\"Age\"] > 35) &\n",
    "#     (train_subset_3[\"Age\"] < 55)][\n",
    "#     [\"Survived\", \"lname\", \"Age\", \"family_members\"]]"
   ]
  },
  {
   "cell_type": "code",
   "execution_count": 235,
   "id": "ce28bd5b",
   "metadata": {},
   "outputs": [
    {
     "data": {
      "text/plain": [
       "Survived\n",
       "1           15\n",
       "0           11\n",
       "dtype: int64"
      ]
     },
     "execution_count": 235,
     "metadata": {},
     "output_type": "execute_result"
    }
   ],
   "source": [
    "# Checking the women age 35 and younger, we see the majority live.\n",
    "train_transformed[\n",
    "    ((train_transformed[\"family_total_train\"] == 0) |\n",
    "     ((train_transformed[\"adult\"] == 0) &\n",
    "      (train_transformed[\"men_total\"] >= 1) &\n",
    "      (train_transformed[\"women_total\"] == 0) &\n",
    "      (train_transformed[\"girls_total\"] == 0) &\n",
    "      (train_transformed[\"boys_total\"] == 0))) &\n",
    "    (train_transformed[\"adult\"] == 1) &\n",
    "    (train_transformed[\"Sex\"] == 1) &\n",
    "    (train_transformed[\"ticket_total_train\"] == 0) &\n",
    "    (train_transformed[\"Pclass\"] == 3) &\n",
    "    (train_transformed[\"Age\"] <= 35)][\n",
    "    [\"Survived\"]].value_counts()"
   ]
  },
  {
   "cell_type": "code",
   "execution_count": 236,
   "id": "0a2c0a8b",
   "metadata": {},
   "outputs": [],
   "source": [
    "# # Checking the women under 35, we see the majority live.\n",
    "# train_subset_3[\n",
    "#     (train_subset_3[\"adult\"] == 1) &\n",
    "#     (train_subset_3[\"Sex\"] == 1) &\n",
    "#     (train_subset_3[\"ticket_total_train\"] == 0) &\n",
    "#     (train_subset_3[\"Pclass\"] == 3) &\n",
    "#     (train_subset_3[\"Age\"] < 35)][\n",
    "#     [\"Survived\"]].value_counts()"
   ]
  },
  {
   "cell_type": "code",
   "execution_count": 237,
   "id": "d5886d9f",
   "metadata": {},
   "outputs": [
    {
     "data": {
      "text/plain": [
       "Survived\n",
       "1           1\n",
       "dtype: int64"
      ]
     },
     "execution_count": 237,
     "metadata": {},
     "output_type": "execute_result"
    }
   ],
   "source": [
    "# Above 55, there is only one single woman, and she lives as well.\n",
    "# While we could just predict all women over 35 die, I am not going to make\n",
    "# a rule predicting any of these women die because I do not have enough \n",
    "# data points.\n",
    "train_transformed[\n",
    "    ((train_transformed[\"family_total_train\"] == 0) |\n",
    "     ((train_transformed[\"adult\"] == 0) &\n",
    "      (train_transformed[\"men_total\"] >= 1) &\n",
    "      (train_transformed[\"women_total\"] == 0) &\n",
    "      (train_transformed[\"girls_total\"] == 0) &\n",
    "      (train_transformed[\"boys_total\"] == 0))) &\n",
    "    (train_transformed[\"adult\"] == 1) &\n",
    "    (train_transformed[\"Sex\"] == 1) &\n",
    "    (train_transformed[\"ticket_total_train\"] == 0) &\n",
    "    (train_transformed[\"Pclass\"] == 3) &\n",
    "    (train_transformed[\"Age\"] > 55)][\n",
    "    [\"Survived\"]].value_counts()"
   ]
  },
  {
   "cell_type": "code",
   "execution_count": 238,
   "id": "524d4162",
   "metadata": {},
   "outputs": [],
   "source": [
    "# # Above 55, there is only one single woman, and she lives as well.\n",
    "# # While we could just predict all women over 35 die, \n",
    "# train_subset_3[\n",
    "#     (train_subset_3[\"adult\"] == 1) &\n",
    "#     (train_subset_3[\"Sex\"] == 1) &\n",
    "#     (train_subset_3[\"ticket_total_train\"] == 0) &\n",
    "#     (train_subset_3[\"Pclass\"] == 3) &\n",
    "#     (train_subset_3[\"Age\"] > 55)][\n",
    "#     [\"Survived\"]].value_counts()"
   ]
  },
  {
   "cell_type": "code",
   "execution_count": 239,
   "id": "c8725f41",
   "metadata": {},
   "outputs": [
    {
     "data": {
      "text/plain": [
       "Survived  Pclass\n",
       "1         1         29\n",
       "          2          2\n",
       "0         2          1\n",
       "1         3          1\n",
       "dtype: int64"
      ]
     },
     "execution_count": 239,
     "metadata": {},
     "output_type": "execute_result"
    }
   ],
   "source": [
    "# Now looking at women who had other passengers in their ticket group\n",
    "# 29/29 of the first class women survived\n",
    "# 2/4 second class women survived\n",
    "# The lone third class woman also survived.\n",
    "train_transformed[\n",
    "    ((train_transformed[\"family_total_train\"] == 0) |\n",
    "     ((train_transformed[\"adult\"] == 0) &\n",
    "      (train_transformed[\"men_total\"] >= 1) &\n",
    "      (train_transformed[\"women_total\"] == 0) &\n",
    "      (train_transformed[\"girls_total\"] == 0) &\n",
    "      (train_transformed[\"boys_total\"] == 0))) &\n",
    "    (train_transformed[\"adult\"] == 1) &\n",
    "    (train_transformed[\"Sex\"] == 1) &\n",
    "    (train_transformed[\"ticket_total_train\"] >= 1)][\n",
    "    [\"Survived\", \"Pclass\"]].value_counts()"
   ]
  },
  {
   "cell_type": "code",
   "execution_count": 240,
   "id": "eb98617c",
   "metadata": {},
   "outputs": [],
   "source": [
    "# # Now looking at women who had other passengers in their ticket group\n",
    "# # 29/29 of the first class women survived\n",
    "# # 2/4 second class women survived\n",
    "# # The lone third class woman also survived.\n",
    "# train_subset_3[\n",
    "#     (train_subset_3[\"adult\"] == 1) &\n",
    "#     (train_subset_3[\"Sex\"] == 1) &\n",
    "#     (train_subset_3[\"ticket_total_train\"] >= 1)][\n",
    "#     [\"Survived\", \"Pclass\"]].value_counts().sort_index()"
   ]
  },
  {
   "cell_type": "code",
   "execution_count": 241,
   "id": "744f562d",
   "metadata": {},
   "outputs": [
    {
     "data": {
      "text/plain": [
       "Survived  Pclass\n",
       "0         2         1\n",
       "1         2         1\n",
       "          3         1\n",
       "dtype: int64"
      ]
     },
     "execution_count": 241,
     "metadata": {},
     "output_type": "execute_result"
    }
   ],
   "source": [
    "# It looks like we can forget about first class women dying altogether.\n",
    "# Lets look at the set of women who were traveling with at least one\n",
    "# child in their ticket group.  There are three of these women, two of whom\n",
    "# survive.\n",
    "train_transformed[\n",
    "    ((train_transformed[\"family_total_train\"] == 0) |\n",
    "     ((train_transformed[\"adult\"] == 0) &\n",
    "      (train_transformed[\"men_total\"] >= 1) &\n",
    "      (train_transformed[\"women_total\"] == 0) &\n",
    "      (train_transformed[\"girls_total\"] == 0) &\n",
    "      (train_transformed[\"boys_total\"] == 0))) &\n",
    "    (train_transformed[\"adult\"] == 1) &\n",
    "    (train_transformed[\"Sex\"] == 1) &\n",
    "    (train_transformed[\"ticket_total_train\"] >= 1) &\n",
    "    (train_transformed[\"Pclass\"] != 1) &\n",
    "    ((train_transformed[\"ticket_boys_total\"] >= 1) |\n",
    "    (train_transformed[\"ticket_girls_total\"] >= 1))][\n",
    "    [\"Survived\", \"Pclass\"]].value_counts().sort_index()"
   ]
  },
  {
   "cell_type": "code",
   "execution_count": 242,
   "id": "b65c6341",
   "metadata": {},
   "outputs": [],
   "source": [
    "# # It looks like we can forget about first class women dying altogether.\n",
    "# # Lets look at the set of women who were traveling with at least one\n",
    "# # child in their ticket group.  There are three of these women, two of whom\n",
    "# # survive.\n",
    "# train_subset_3[\n",
    "#     (train_subset_3[\"adult\"] == 1) &\n",
    "#     (train_subset_3[\"Sex\"] == 1) &\n",
    "#     (train_subset_3[\"ticket_total_train\"] >= 1) &\n",
    "#     (train_subset_3[\"Pclass\"] != 1) &\n",
    "#     ((train_subset_3[\"ticket_boys_total\"] >= 1) |\n",
    "#      (train_subset_3[\"ticket_girls_total\"] >= 1))][\n",
    "#     [\"Survived\", \"Pclass\"]].value_counts().sort_index()"
   ]
  },
  {
   "cell_type": "code",
   "execution_count": 243,
   "id": "46682759",
   "metadata": {},
   "outputs": [
    {
     "data": {
      "text/plain": [
       "Survived  Pclass\n",
       "0         2         1\n",
       "dtype: int64"
      ]
     },
     "execution_count": 243,
     "metadata": {},
     "output_type": "execute_result"
    }
   ],
   "source": [
    "# From the above subset, if we select a woman who was traveling with a boy\n",
    "# or girl that died, we correctly select the one dying woman out of the \n",
    "# entire set of 33 women.  This will definitely qualify as a rule.\n",
    "train_transformed[\n",
    "    ((train_transformed[\"family_total_train\"] == 0) |\n",
    "     ((train_transformed[\"adult\"] == 0) &\n",
    "      (train_transformed[\"men_total\"] >= 1) &\n",
    "      (train_transformed[\"women_total\"] == 0) &\n",
    "      (train_transformed[\"girls_total\"] == 0) &\n",
    "      (train_transformed[\"boys_total\"] == 0))) &\n",
    "    (train_transformed[\"adult\"] == 1) &\n",
    "    (train_transformed[\"Sex\"] == 1) &\n",
    "    (train_transformed[\"ticket_total_train\"] >= 1) &\n",
    "    (train_transformed[\"Pclass\"] != 1) &\n",
    "    ((train_transformed[\"ticket_boys_total\"] >= 1) |\n",
    "     (train_transformed[\"ticket_girls_total\"] >= 1)) &\n",
    "    ((train_transformed[\"ticket_boys_died\"] >= 1) |\n",
    "     (train_transformed[\"ticket_girls_died\"] >= 1))][\n",
    "    [\"Survived\", \"Pclass\"]].value_counts().sort_index()"
   ]
  },
  {
   "cell_type": "code",
   "execution_count": 244,
   "id": "adb35a00",
   "metadata": {},
   "outputs": [],
   "source": [
    "# # From the above subset, if we select a woman who was traveling with a boy\n",
    "# # or girl that died, we correctly select the one dying woman out of the \n",
    "# # entire set of 33 women.  This will definitely qualify as a rule.\n",
    "# train_subset_3[\n",
    "#     (train_subset_3[\"adult\"] == 1) &\n",
    "#     (train_subset_3[\"Sex\"] == 1) &\n",
    "#     (train_subset_3[\"ticket_total_train\"] >= 1) &\n",
    "#     (train_subset_3[\"Pclass\"] != 1) &\n",
    "#     ((train_subset_3[\"ticket_boys_total\"] >= 1) |\n",
    "#      (train_subset_3[\"ticket_girls_total\"] >= 1)) &\n",
    "#     ((train_subset_3[\"ticket_boys_died\"] >= 1) |\n",
    "#      (train_subset_3[\"ticket_girls_died\"] >= 1))][\n",
    "#     [\"Survived\", \"Pclass\"]].value_counts().sort_index()"
   ]
  },
  {
   "cell_type": "code",
   "execution_count": null,
   "id": "880c8a5c",
   "metadata": {},
   "outputs": [],
   "source": []
  },
  {
   "cell_type": "code",
   "execution_count": 245,
   "id": "4d3eb052",
   "metadata": {},
   "outputs": [
    {
     "data": {
      "text/plain": [
       "Survived  Pclass\n",
       "0         1         1\n",
       "          2         2\n",
       "          3         7\n",
       "1         1         3\n",
       "          2         2\n",
       "          3         3\n",
       "dtype: int64"
      ]
     },
     "execution_count": 245,
     "metadata": {},
     "output_type": "execute_result"
    }
   ],
   "source": [
    "# Moving on to the boys of subset 3: 8/18 boys survive in total.\n",
    "# 3/4 pclass 1 boys survive\n",
    "# 2/4 pclass 2 boys survive\n",
    "# 3/10 pclass 3 boys survive\n",
    "train_transformed[\n",
    "    ((train_transformed[\"family_total_train\"] == 0) |\n",
    "     ((train_transformed[\"adult\"] == 0) &\n",
    "      (train_transformed[\"men_total\"] >= 1) &\n",
    "      (train_transformed[\"women_total\"] == 0) &\n",
    "      (train_transformed[\"girls_total\"] == 0) &\n",
    "      (train_transformed[\"boys_total\"] == 0))) &\n",
    "    (train_transformed[\"adult\"] == 0) &\n",
    "    (train_transformed[\"Sex\"] == 0)][\n",
    "    [\"Survived\", \"Pclass\"]].value_counts().sort_index()"
   ]
  },
  {
   "cell_type": "code",
   "execution_count": 246,
   "id": "6e332406",
   "metadata": {},
   "outputs": [],
   "source": [
    "# # Moving on to the boys of subset 3: 8/18 boys survive in total.\n",
    "# # 3/4 pclass 1 boys survive\n",
    "# # 2/4 pclass 2 boys survive\n",
    "# # 3/10 pclass 3 boys survive\n",
    "# train_subset_3[\n",
    "#     (train_subset_3[\"adult\"] == 0) &\n",
    "#     (train_subset_3[\"Sex\"] == 0)][\n",
    "#     [\"Survived\", \"Pclass\"]].value_counts().sort_index()"
   ]
  },
  {
   "cell_type": "code",
   "execution_count": 247,
   "id": "dda2e06b",
   "metadata": {},
   "outputs": [
    {
     "data": {
      "text/plain": [
       "Survived  Pclass\n",
       "0         1         1\n",
       "          3         5\n",
       "1         1         2\n",
       "          3         2\n",
       "dtype: int64"
      ]
     },
     "execution_count": 247,
     "metadata": {},
     "output_type": "execute_result"
    }
   ],
   "source": [
    "# For the boys traveling with no one in their ticket group, 4/10 boys \n",
    "# survive.\n",
    "# 2/3 pclass one boys survive, and 2/7 pclass 3 boys.\n",
    "train_transformed[\n",
    "    ((train_transformed[\"family_total_train\"] == 0) |\n",
    "     ((train_transformed[\"adult\"] == 0) &\n",
    "      (train_transformed[\"men_total\"] >= 1) &\n",
    "      (train_transformed[\"women_total\"] == 0) &\n",
    "      (train_transformed[\"girls_total\"] == 0) &\n",
    "      (train_transformed[\"boys_total\"] == 0))) &\n",
    "    (train_transformed[\"adult\"] == 0) &\n",
    "    (train_transformed[\"Sex\"] == 0) &\n",
    "    (train_transformed[\"ticket_total_train\"] == 0)][\n",
    "    [\"Survived\", \"Pclass\"]].value_counts().sort_index()"
   ]
  },
  {
   "cell_type": "code",
   "execution_count": 248,
   "id": "a6d18973",
   "metadata": {},
   "outputs": [],
   "source": [
    "# # For the boys traveling with no one in their ticket group, 4/10 boys \n",
    "# # survive.\n",
    "# # 2/3 pclass one boys survive, and 2/7 pclass 3 boys.\n",
    "# train_subset_3[\n",
    "#     (train_subset_3[\"adult\"] == 0) &\n",
    "#     (train_subset_3[\"Sex\"] == 0) &\n",
    "#     (train_subset_3[\"ticket_total_train\"] == 0)][\n",
    "#     [\"Survived\", \"Pclass\"]].value_counts().sort_index()"
   ]
  },
  {
   "cell_type": "code",
   "execution_count": 249,
   "id": "fa3f68b4",
   "metadata": {},
   "outputs": [],
   "source": [
    "# creating a df to graph\n",
    "df_boys_age = train_transformed[\n",
    "    ((train_transformed[\"family_total_train\"] == 0) |\n",
    "     ((train_transformed[\"adult\"] == 0) &\n",
    "      (train_transformed[\"men_total\"] >= 1) &\n",
    "      (train_transformed[\"women_total\"] == 0) &\n",
    "      (train_transformed[\"girls_total\"] == 0) &\n",
    "      (train_transformed[\"boys_total\"] == 0))) &\n",
    "    (train_transformed[\"adult\"] == 0) &\n",
    "    (train_transformed[\"Sex\"] == 0) &\n",
    "    (train_transformed[\"ticket_total_train\"] == 0)][\n",
    "    [\"Survived\", \"Age\"]].copy()"
   ]
  },
  {
   "cell_type": "code",
   "execution_count": 250,
   "id": "8b48352e",
   "metadata": {},
   "outputs": [],
   "source": [
    "# # creating a df to graph\n",
    "# df_boys_age = train_subset_3[\n",
    "#     (train_subset_3[\"adult\"] == 0) &\n",
    "#     (train_subset_3[\"Sex\"] == 0) &\n",
    "#     (train_subset_3[\"ticket_total_train\"] == 0)][\n",
    "#     [\"Survived\", \"Age\"]].copy()"
   ]
  },
  {
   "cell_type": "code",
   "execution_count": 251,
   "id": "69bc4bfd",
   "metadata": {},
   "outputs": [
    {
     "data": {
      "text/plain": [
       "<seaborn.axisgrid.FacetGrid at 0x180282a57c0>"
      ]
     },
     "execution_count": 251,
     "metadata": {},
     "output_type": "execute_result"
    },
    {
     "data": {
      "image/png": "[encoded data removed]",
      "text/plain": [
       "<Figure size 411.875x360 with 1 Axes>"
      ]
     },
     "metadata": {
      "needs_background": "light"
     },
     "output_type": "display_data"
    }
   ],
   "source": [
    "# The surviving boys have a lower average age, but it would be a stretch \n",
    "# to make any predictions based off this data alone.\n",
    "sns.displot(data=df_boys_age, x=\"Age\", hue=\"Survived\")"
   ]
  },
  {
   "cell_type": "code",
   "execution_count": 252,
   "id": "d6b2ea68",
   "metadata": {},
   "outputs": [
    {
     "data": {
      "text/plain": [
       "Survived\n",
       "0            8\n",
       "1           16\n",
       "dtype: int64"
      ]
     },
     "execution_count": 252,
     "metadata": {},
     "output_type": "execute_result"
    }
   ],
   "source": [
    "# However, throughout the whole train dataset, young boys have a higher \n",
    "# probability of surviving than dying.  We will predict all boys from \n",
    "# subset 3 with no ticket group members who are 6 or under will\n",
    "# survive.\n",
    "train_transformed[\n",
    "    (train_transformed[\"Age\"] <= 6) &\n",
    "    (train_transformed[\"Sex\"] == 0)\n",
    "][[\"Survived\"]].value_counts().sort_index()"
   ]
  },
  {
   "cell_type": "code",
   "execution_count": 253,
   "id": "adb6fcbf",
   "metadata": {},
   "outputs": [
    {
     "data": {
      "text/plain": [
       "Survived  Pclass\n",
       "0         3         19\n",
       "1         1          3\n",
       "          2          9\n",
       "          3          9\n",
       "dtype: int64"
      ]
     },
     "execution_count": 253,
     "metadata": {},
     "output_type": "execute_result"
    }
   ],
   "source": [
    "# We will also predict all boys age 15 or under who are not in pclass 3 \n",
    "# survive.\n",
    "train_transformed[\n",
    "    (train_transformed[\"Age\"] <= 15) &\n",
    "    (train_transformed[\"Sex\"] == 0)\n",
    "][[\"Survived\", \"Pclass\"]].value_counts().sort_index()"
   ]
  },
  {
   "cell_type": "code",
   "execution_count": 254,
   "id": "3faf1ffd",
   "metadata": {},
   "outputs": [
    {
     "data": {
      "text/plain": [
       "Survived  Pclass\n",
       "1         1         1\n",
       "          3         1\n",
       "dtype: int64"
      ]
     },
     "execution_count": 254,
     "metadata": {},
     "output_type": "execute_result"
    }
   ],
   "source": [
    "# Here is the actual rule written out for these boys with no ticket group \n",
    "# members.  We would correctly select 2/4 possible survivors in the \n",
    "# training set without selecting any boys who die.\n",
    "train_transformed[\n",
    "    ((train_transformed[\"family_total_train\"] == 0) |\n",
    "     ((train_transformed[\"adult\"] == 0) &\n",
    "      (train_transformed[\"men_total\"] >= 1) &\n",
    "      (train_transformed[\"women_total\"] == 0) &\n",
    "      (train_transformed[\"girls_total\"] == 0) &\n",
    "      (train_transformed[\"boys_total\"] == 0))) &\n",
    "    (train_transformed[\"adult\"] == 0) &\n",
    "    (train_transformed[\"Sex\"] == 0) &\n",
    "    (train_transformed[\"ticket_total_train\"] == 0) &\n",
    "    ((train_transformed[\"Age\"] <= 6) |\n",
    "     ((train_transformed[\"Age\"] <= 15) &\n",
    "      (train_transformed[\"Pclass\"] != 3)))][\n",
    "    [\"Survived\", \"Pclass\"]].value_counts().sort_index()"
   ]
  },
  {
   "cell_type": "code",
   "execution_count": 255,
   "id": "36913311",
   "metadata": {},
   "outputs": [
    {
     "data": {
      "text/plain": [
       "Survived  Pclass\n",
       "0         2         2\n",
       "          3         2\n",
       "1         1         1\n",
       "          2         2\n",
       "          3         1\n",
       "dtype: int64"
      ]
     },
     "execution_count": 255,
     "metadata": {},
     "output_type": "execute_result"
    }
   ],
   "source": [
    "# For boys who share a ticket group with other passengers in train:\n",
    "# The only pclass 1 boy survives\n",
    "# 2/4 pclass two boys survive\n",
    "# 1/3 pclass three boys survive\n",
    "train_transformed[\n",
    "    ((train_transformed[\"family_total_train\"] == 0) |\n",
    "     ((train_transformed[\"adult\"] == 0) &\n",
    "      (train_transformed[\"men_total\"] >= 1) &\n",
    "      (train_transformed[\"women_total\"] == 0) &\n",
    "      (train_transformed[\"girls_total\"] == 0) &\n",
    "      (train_transformed[\"boys_total\"] == 0))) &\n",
    "    (train_transformed[\"adult\"] == 0) &\n",
    "    (train_transformed[\"Sex\"] == 0) &\n",
    "    (train_transformed[\"ticket_total_train\"] >= 1)][\n",
    "    [\"Survived\", \"Pclass\"]].value_counts().sort_index()"
   ]
  },
  {
   "cell_type": "code",
   "execution_count": 256,
   "id": "5146d827",
   "metadata": {},
   "outputs": [],
   "source": [
    "# # For boys who share a ticket group with other passengers in train:\n",
    "# # The only pclass 1 boy survives\n",
    "# # 2/4 pclass two boys survive\n",
    "# # 1/3 pclass three boys survive\n",
    "# train_subset_3[\n",
    "#     (train_subset_3[\"adult\"] == 0) &\n",
    "#     (train_subset_3[\"Sex\"] == 0) &\n",
    "#     (train_subset_3[\"ticket_total_train\"] >= 1)][\n",
    "#     [\"Survived\", \"Pclass\"]].value_counts().sort_index()"
   ]
  },
  {
   "cell_type": "code",
   "execution_count": 257,
   "id": "e61abc7d",
   "metadata": {},
   "outputs": [
    {
     "data": {
      "text/plain": [
       "Survived  Pclass\n",
       "0         2         1\n",
       "1         1         1\n",
       "dtype: int64"
      ]
     },
     "execution_count": 257,
     "metadata": {},
     "output_type": "execute_result"
    }
   ],
   "source": [
    "# Here is the subset of boys traveling with at least one boy, girl or \n",
    "# woman in their ticket group\n",
    "train_transformed[\n",
    "    ((train_transformed[\"family_total_train\"] == 0) |\n",
    "     ((train_transformed[\"adult\"] == 0) &\n",
    "      (train_transformed[\"men_total\"] >= 1) &\n",
    "      (train_transformed[\"women_total\"] == 0) &\n",
    "      (train_transformed[\"girls_total\"] == 0) &\n",
    "      (train_transformed[\"boys_total\"] == 0))) &\n",
    "    (train_transformed[\"adult\"] == 0) &\n",
    "    (train_transformed[\"Sex\"] == 0) &\n",
    "    (train_transformed[\"ticket_total_train\"] >= 1) &\n",
    "    ((train_transformed[\"ticket_boys_total\"] >= 1) |\n",
    "     (train_transformed[\"ticket_girls_total\"] >= 1) |\n",
    "     (train_transformed[\"ticket_women_total\"] >= 1))][\n",
    "    [\"Survived\", \"Pclass\"]].value_counts().sort_index()"
   ]
  },
  {
   "cell_type": "code",
   "execution_count": 258,
   "id": "0ba8ac00",
   "metadata": {},
   "outputs": [],
   "source": [
    "# # Here is the subset of boys traveling with at least one boy, girl or \n",
    "# # woman in their ticket group\n",
    "# train_subset_3[\n",
    "#     (train_subset_3[\"adult\"] == 0) &\n",
    "#     (train_subset_3[\"Sex\"] == 0) &\n",
    "#     (train_subset_3[\"ticket_total_train\"] >= 1) &\n",
    "#     ((train_subset_3[\"ticket_boys_total\"] >= 1) |\n",
    "#      (train_subset_3[\"ticket_girls_total\"] >= 1) |\n",
    "#      (train_subset_3[\"ticket_women_total\"] >= 1))][\n",
    "#     [\"Survived\", \"Pclass\"]].value_counts().sort_index()"
   ]
  },
  {
   "cell_type": "code",
   "execution_count": 259,
   "id": "74a130b9",
   "metadata": {},
   "outputs": [
    {
     "data": {
      "text/plain": [
       "Survived  Pclass\n",
       "1         1         1\n",
       "dtype: int64"
      ]
     },
     "execution_count": 259,
     "metadata": {},
     "output_type": "execute_result"
    }
   ],
   "source": [
    "# For the above subset, if no other boys, girls or women in the ticket \n",
    "# group die, we can correctly select 1 boy who survives from the subset.\n",
    "train_transformed[\n",
    "    ((train_transformed[\"family_total_train\"] == 0) |\n",
    "     ((train_transformed[\"adult\"] == 0) &\n",
    "      (train_transformed[\"men_total\"] >= 1) &\n",
    "      (train_transformed[\"women_total\"] == 0) &\n",
    "      (train_transformed[\"girls_total\"] == 0) &\n",
    "      (train_transformed[\"boys_total\"] == 0))) &\n",
    "    (train_transformed[\"adult\"] == 0) &\n",
    "    (train_transformed[\"Sex\"] == 0) &\n",
    "    (train_transformed[\"ticket_total_train\"] >= 1) &\n",
    "    ((train_transformed[\"ticket_boys_total\"] >= 1) |\n",
    "     (train_transformed[\"ticket_girls_total\"] >= 1) |\n",
    "     (train_transformed[\"ticket_women_total\"] >= 1)) &\n",
    "    (train_transformed[\"ticket_boys_died\"] == 0) &\n",
    "    (train_transformed[\"ticket_girls_died\"] == 0) &\n",
    "    (train_transformed[\"ticket_women_died\"] == 0)][\n",
    "    [\"Survived\", \"Pclass\"]].value_counts().sort_index()"
   ]
  },
  {
   "cell_type": "code",
   "execution_count": 260,
   "id": "d8e743fe",
   "metadata": {},
   "outputs": [],
   "source": [
    "# # For the above subset, if no other boys, girls or women in the ticket \n",
    "# # group die, we can correctly select 1 boy who survives from the subset.\n",
    "# train_subset_3[\n",
    "#     (train_subset_3[\"adult\"] == 0) &\n",
    "#     (train_subset_3[\"Sex\"] == 0) &\n",
    "#     (train_subset_3[\"ticket_total_train\"] >= 1) &\n",
    "#     ((train_subset_3[\"ticket_boys_total\"] >= 1) |\n",
    "#      (train_subset_3[\"ticket_girls_total\"] >= 1) |\n",
    "#      (train_subset_3[\"ticket_women_total\"] >= 1)) &\n",
    "#     (train_subset_3[\"ticket_boys_died\"] == 0) &\n",
    "#     (train_subset_3[\"ticket_girls_died\"] == 0) &\n",
    "#     (train_subset_3[\"ticket_women_died\"] == 0)][\n",
    "#     [\"Survived\", \"Pclass\"]].value_counts().sort_index()"
   ]
  },
  {
   "cell_type": "code",
   "execution_count": null,
   "id": "7ce7a015",
   "metadata": {},
   "outputs": [],
   "source": []
  },
  {
   "cell_type": "code",
   "execution_count": 261,
   "id": "33a9107d",
   "metadata": {},
   "outputs": [
    {
     "data": {
      "text/plain": [
       "Survived  Pclass\n",
       "0         3          3\n",
       "1         1         12\n",
       "          2          8\n",
       "          3         11\n",
       "dtype: int64"
      ]
     },
     "execution_count": 261,
     "metadata": {},
     "output_type": "execute_result"
    }
   ],
   "source": [
    "# Finally, we move on to the girls from subset 3.\n",
    "# All 12 girls from pclass 1 survive\n",
    "# All 8 girls from pclass 2 survive\n",
    "# 11/14 girls from pclass 3 survive\n",
    "train_transformed[\n",
    "    ((train_transformed[\"family_total_train\"] == 0) |\n",
    "     ((train_transformed[\"adult\"] == 0) &\n",
    "      (train_transformed[\"men_total\"] >= 1) &\n",
    "      (train_transformed[\"women_total\"] == 0) &\n",
    "      (train_transformed[\"girls_total\"] == 0) &\n",
    "      (train_transformed[\"boys_total\"] == 0))) &\n",
    "    (train_transformed[\"adult\"] == 0) &\n",
    "    (train_transformed[\"Sex\"] == 1)][\n",
    "    [\"Survived\", \"Pclass\"]].value_counts().sort_index()"
   ]
  },
  {
   "cell_type": "code",
   "execution_count": 262,
   "id": "1eb8f410",
   "metadata": {},
   "outputs": [],
   "source": [
    "# # Finally, we move on to the girls from subset 3.\n",
    "# # All 12 girls from pclass 1 survive\n",
    "# # All 8 girls from pclass 2 survive\n",
    "# # 11/14 girls from pclass 3 survive\n",
    "# train_subset_3[\n",
    "#     (train_subset_3[\"adult\"] == 0) &\n",
    "#     (train_subset_3[\"Sex\"] == 1)][\n",
    "#     [\"Survived\", \"Pclass\"]].value_counts().sort_index()"
   ]
  },
  {
   "cell_type": "code",
   "execution_count": 263,
   "id": "f0fa71e2",
   "metadata": {},
   "outputs": [
    {
     "data": {
      "text/plain": [
       "Survived  Pclass\n",
       "0         3         1\n",
       "1         1         4\n",
       "          2         5\n",
       "          3         8\n",
       "dtype: int64"
      ]
     },
     "execution_count": 263,
     "metadata": {},
     "output_type": "execute_result"
    }
   ],
   "source": [
    "# Here are the girls in this subset without any other passengers in their\n",
    "# train ticket group.  4/4 girls from pclass 1 survive, 5/5 girls from \n",
    "# pclass 2 survive, and 8/9 girls from pclass 3 survive.  I don't think\n",
    "# that it will be possible to predict that any of these girls will die \n",
    "# based on variables such as pclass, fare or age.\n",
    "train_transformed[\n",
    "    ((train_transformed[\"family_total_train\"] == 0) |\n",
    "     ((train_transformed[\"adult\"] == 0) &\n",
    "      (train_transformed[\"men_total\"] >= 1) &\n",
    "      (train_transformed[\"women_total\"] == 0) &\n",
    "      (train_transformed[\"girls_total\"] == 0) &\n",
    "      (train_transformed[\"boys_total\"] == 0))) &\n",
    "    (train_transformed[\"adult\"] == 0) &\n",
    "    (train_transformed[\"Sex\"] == 1) &\n",
    "    (train_transformed[\"ticket_total_train\"] == 0)][\n",
    "    [\"Survived\", \"Pclass\"]].value_counts().sort_index()"
   ]
  },
  {
   "cell_type": "code",
   "execution_count": 264,
   "id": "83fcf119",
   "metadata": {},
   "outputs": [],
   "source": [
    "# # Here are the girls in this subset without any other passengers in their\n",
    "# # train ticket group.  4/4 girls from pclass 1 survive, 5/5 girls from \n",
    "# # pclass 2 survive, and 8/9 girls from pclass 3 survive.  I don't think\n",
    "# # that it will be possible to predict that any of these girls will die \n",
    "# # based on variables such as pclass, fare or age.\n",
    "# train_subset_3[\n",
    "#     (train_subset_3[\"adult\"] == 0) &\n",
    "#     (train_subset_3[\"Sex\"] == 1) &\n",
    "#     (train_subset_3[\"ticket_total_train\"] == 0)][\n",
    "#     [\"Survived\", \"Pclass\"]].value_counts().sort_index()"
   ]
  },
  {
   "cell_type": "code",
   "execution_count": 265,
   "id": "e2b6f6e7",
   "metadata": {},
   "outputs": [
    {
     "data": {
      "text/plain": [
       "Survived  Pclass\n",
       "0         3         2\n",
       "1         1         8\n",
       "          2         3\n",
       "          3         3\n",
       "dtype: int64"
      ]
     },
     "execution_count": 265,
     "metadata": {},
     "output_type": "execute_result"
    }
   ],
   "source": [
    "# Lets look at the girls of subset 3 who are traveling with other people\n",
    "# in their ticket group.\n",
    "# No first or second class girls die, but 2/5 third class girls die.\n",
    "train_transformed[\n",
    "    ((train_transformed[\"family_total_train\"] == 0) |\n",
    "     ((train_transformed[\"adult\"] == 0) &\n",
    "      (train_transformed[\"men_total\"] >= 1) &\n",
    "      (train_transformed[\"women_total\"] == 0) &\n",
    "      (train_transformed[\"girls_total\"] == 0) &\n",
    "      (train_transformed[\"boys_total\"] == 0))) &\n",
    "    (train_transformed[\"adult\"] == 0) &\n",
    "    (train_transformed[\"Sex\"] == 1) &\n",
    "    (train_transformed[\"ticket_total_train\"] >= 1)][\n",
    "    [\"Survived\", \"Pclass\"]].value_counts().sort_index()"
   ]
  },
  {
   "cell_type": "code",
   "execution_count": 266,
   "id": "5199724c",
   "metadata": {
    "scrolled": true
   },
   "outputs": [],
   "source": [
    "# # Lets look at the girls of subset 3 who are traveling with other people\n",
    "# # in their ticket group.\n",
    "# # No first or second class girls die, but 2/5 third class girls die.\n",
    "# train_subset_3[\n",
    "#     (train_subset_3[\"adult\"] == 0) &\n",
    "#     (train_subset_3[\"Sex\"] == 1) &\n",
    "#     (train_subset_3[\"ticket_total_train\"] >= 1)][\n",
    "#     [\"Survived\", \"Pclass\"]].value_counts().sort_index()"
   ]
  },
  {
   "cell_type": "code",
   "execution_count": 267,
   "id": "87d44a14",
   "metadata": {},
   "outputs": [
    {
     "data": {
      "text/plain": [
       "Series([], dtype: int64)"
      ]
     },
     "execution_count": 267,
     "metadata": {},
     "output_type": "execute_result"
    }
   ],
   "source": [
    "# If we require that the girl is traveling with at least one boy, girl or \n",
    "# woman in the ticket group, and that no one in the ticket group survives, \n",
    "# we fail to select any of the train set girls in subset 3 with ticket\n",
    "# group members in train who die.  However, I would be comfortable using \n",
    "# this as a rule to predict death on the test set.\n",
    "train_transformed[\n",
    "    ((train_transformed[\"family_total_train\"] == 0) |\n",
    "     ((train_transformed[\"adult\"] == 0) &\n",
    "      (train_transformed[\"men_total\"] >= 1) &\n",
    "      (train_transformed[\"women_total\"] == 0) &\n",
    "      (train_transformed[\"girls_total\"] == 0) &\n",
    "      (train_transformed[\"boys_total\"] == 0))) &\n",
    "    (train_transformed[\"adult\"] == 0) &\n",
    "    (train_transformed[\"Sex\"] == 1) &\n",
    "    (train_transformed[\"ticket_total_train\"] >= 1) &\n",
    "    ((train_transformed[\"ticket_girls_total\"] >= 1) |\n",
    "     (train_transformed[\"ticket_boys_total\"] >= 1) |\n",
    "     (train_transformed[\"ticket_women_total\"] >= 1)) &\n",
    "    (train_transformed[\"ticket_girls_survived\"] == 0) &\n",
    "    (train_transformed[\"ticket_boys_survived\"] == 0) &\n",
    "    (train_transformed[\"ticket_women_survived\"] == 0) &\n",
    "    (train_transformed[\"ticket_men_survived\"] == 0)][\n",
    "    [\"Survived\", \"Pclass\"]].value_counts().sort_index()"
   ]
  },
  {
   "cell_type": "code",
   "execution_count": 268,
   "id": "2aeee523",
   "metadata": {},
   "outputs": [],
   "source": [
    "# # If we require that the girl is traveling with at least one boy, girl or \n",
    "# # woman in the ticket group, and that no one in the ticket group survives, \n",
    "# # we fail to select any of the train set girls in subset 3 with ticket\n",
    "# # group members in train who die.  However, I would be comfortable using \n",
    "# # this as a rule to predict death on the test set.\n",
    "# train_subset_3[\n",
    "#     (train_subset_3[\"adult\"] == 0) &\n",
    "#     (train_subset_3[\"Sex\"] == 1) &\n",
    "#     (train_subset_3[\"ticket_total_train\"] >= 1) &\n",
    "#     ((train_subset_3[\"ticket_girls_total\"] >= 1) |\n",
    "#      (train_subset_3[\"ticket_boys_total\"] >= 1) |\n",
    "#      (train_subset_3[\"ticket_women_total\"] >= 1)) &\n",
    "#     (train_subset_3[\"ticket_girls_survived\"] == 0) &\n",
    "#     (train_subset_3[\"ticket_boys_survived\"] == 0) &\n",
    "#     (train_subset_3[\"ticket_women_survived\"] == 0) &\n",
    "#     (train_subset_3[\"ticket_men_survived\"] == 0)][\n",
    "#     [\"Survived\", \"Pclass\"]].value_counts().sort_index()"
   ]
  },
  {
   "cell_type": "code",
   "execution_count": null,
   "id": "e43de6ec",
   "metadata": {},
   "outputs": [],
   "source": []
  },
  {
   "cell_type": "code",
   "execution_count": 269,
   "id": "893f1472",
   "metadata": {},
   "outputs": [],
   "source": [
    "# Now, before we get to the stage of applying our rule based model to the\n",
    "# test set, we have a couple of tasks left to accomplish.\n",
    "# 1) Decide what to do with the subsets which we have decided to \"assign \n",
    "#    for further use from an algorithm.\"  I have decided to scrap many of \n",
    "#    these small sets that have relatively equal members surviving and\n",
    "#    dying, because I want to do as little guessing as possible that is\n",
    "#    not backed up by some logical survival ideas.  \n",
    "# 2) See how the model performs on the training set as a whole."
   ]
  },
  {
   "cell_type": "code",
   "execution_count": 270,
   "id": "95a08a49",
   "metadata": {},
   "outputs": [],
   "source": [
    "# First, we will make predictions on the train set and see how our model \n",
    "# does on the whole.  I would not be suprised if the train model ended up\n",
    "# being significantly overfit, so it is possible that good train \n",
    "# accuracy will not translate to good test accuracy."
   ]
  },
  {
   "cell_type": "code",
   "execution_count": 271,
   "id": "8208ff84",
   "metadata": {},
   "outputs": [],
   "source": [
    "# I will begin by creating a pred column on the train set, and \n",
    "# populate it to start according to the gender model.\n",
    "train_transformed[\"pred\"] = 0\n",
    "train_transformed.loc[(train_transformed[\"Sex\"] == 1), [\"pred\"]] = 1"
   ]
  },
  {
   "cell_type": "code",
   "execution_count": 272,
   "id": "047ad226",
   "metadata": {},
   "outputs": [],
   "source": [
    "# I will now update the column based on my rules, and then contrast the pred\n",
    "# values with the survived column to see my accuracy.  First, I will update\n",
    "# pred for passengers in subset 1.\n",
    "\n",
    "# Updating pred for women with only girls\n",
    "train_transformed.loc[\n",
    "    (train_transformed[\"Parch\"] >= 1) &\n",
    "    (train_transformed[\"family_total_train\"] >= 1) &\n",
    "    (train_transformed[\"Sex\"] == 1) &\n",
    "    (train_transformed[\"adult\"] == 1) &\n",
    "    (train_transformed[\"girls_total\"] >= 1) &\n",
    "    (train_transformed[\"boys_total\"] == 0) &\n",
    "    (train_transformed[\"girls_died\"] >= 1), [\"pred\"]] = 0\n",
    "\n",
    "# Updating for women with only boys\n",
    "train_transformed.loc[    \n",
    "    (train_transformed[\"Parch\"] >= 1) &\n",
    "    (train_transformed[\"family_total_train\"] >= 1) &\n",
    "    (train_transformed[\"Sex\"] == 1) &\n",
    "    (train_transformed[\"adult\"] == 1) &\n",
    "    (train_transformed[\"girls_total\"] == 0) &\n",
    "    (train_transformed[\"boys_total\"] >= 1) &\n",
    "    (train_transformed[\"boys_died\"] >= 1) &\n",
    "    (train_transformed[\"Pclass\"] == 3), [\"pred\"]] = 0\n",
    "\n",
    "# Updating for women with boys and girls\n",
    "train_transformed.loc[\n",
    "    (train_transformed[\"Parch\"] >= 1) &\n",
    "    (train_transformed[\"family_total_train\"] >= 1) &\n",
    "    (train_transformed[\"Sex\"] == 1) &\n",
    "    (train_transformed[\"adult\"] == 1) &\n",
    "    (train_transformed[\"girls_total\"] >= 1) &\n",
    "    (train_transformed[\"boys_total\"] >= 1) &\n",
    "    (train_transformed[\"girls_died\"] >= 1), [\"pred\"]] = 0\n",
    "\n",
    "# Updating for girls who have only women in train\n",
    "train_transformed.loc[\n",
    "    (train_transformed[\"Parch\"] >= 1) &\n",
    "    (train_transformed[\"Sex\"] == 1) &\n",
    "    (train_transformed[\"adult\"] == 0) &\n",
    "    (train_transformed[\"women_total\"] >= 1) &\n",
    "    (train_transformed[\"boys_total\"] == 0) &\n",
    "    (train_transformed[\"girls_total\"] == 0) &\n",
    "    (train_transformed[\"women_survived\"] == 0), [\"pred\"]] = 0\n",
    "\n",
    "# Updating for girls who have women and girls in train\n",
    "train_transformed.loc[\n",
    "    (train_transformed[\"Parch\"] >= 1) &\n",
    "    (train_transformed[\"Sex\"] == 1) &\n",
    "    (train_transformed[\"adult\"] == 0) &\n",
    "    (train_transformed[\"women_total\"] >= 1) &\n",
    "    (train_transformed[\"girls_total\"] >= 1) &\n",
    "    (train_transformed[\"boys_total\"] == 0) &\n",
    "    (train_transformed[\"girls_died\"] == \\\n",
    "     train_transformed[\"girls_total\"]) &\n",
    "    (train_transformed[\"women_died\"] == \\\n",
    "     train_transformed[\"women_total\"]), [\"pred\"]] = 0\n",
    "\n",
    "# Updating for girls who have women and boys in train\n",
    "train_transformed.loc[\n",
    "    (train_transformed[\"Parch\"] >= 1) &\n",
    "    (train_transformed[\"Sex\"] == 1) &\n",
    "    (train_transformed[\"adult\"] == 0) &\n",
    "    (train_transformed[\"women_total\"] >= 1) &\n",
    "    (train_transformed[\"girls_total\"] == 0) &\n",
    "    (train_transformed[\"boys_total\"] >= 1) &\n",
    "    (train_transformed[\"women_survived\"] == 0) &\n",
    "    (train_transformed[\"boys_survived\"] == 0), [\"pred\"]] = 0\n",
    "\n",
    "# Updating for girls who have women, boys and girls in train\n",
    "train_transformed.loc[\n",
    "    (train_transformed[\"Parch\"] >= 1) &\n",
    "    (train_transformed[\"Sex\"] == 1) &\n",
    "    (train_transformed[\"adult\"] == 0) &\n",
    "    (train_transformed[\"women_total\"] >= 1) &\n",
    "    (train_transformed[\"girls_total\"] >= 1) &\n",
    "    (train_transformed[\"boys_total\"] >= 1) &\n",
    "    (train_transformed[\"girls_died\"] >= 1) &\n",
    "    (train_transformed[\"boys_survived\"] == 0) &\n",
    "    (train_transformed[\"women_survived\"] == 0), [\"pred\"]] = 0\n",
    "\n",
    "# Updating for boys with only women in train\n",
    "train_transformed.loc[\n",
    "    (train_transformed[\"Parch\"] >= 1) &\n",
    "    (train_transformed[\"Sex\"] == 0) &\n",
    "    (train_transformed[\"adult\"] == 0) &\n",
    "    (train_transformed[\"women_total\"] >= 1) &\n",
    "    (train_transformed[\"boys_total\"] == 0) &\n",
    "    (train_transformed[\"girls_total\"] == 0) &\n",
    "    (train_transformed[\"women_survived\"] >= 1) &\n",
    "    (train_transformed[\"Pclass\"] != 3), [\"pred\"]] = 1\n",
    "\n",
    "# Updating for boys with women and boys in train\n",
    "train_transformed.loc[\n",
    "    (train_transformed[\"Parch\"] >= 1) &\n",
    "    (train_transformed[\"Sex\"] == 0) &\n",
    "    (train_transformed[\"adult\"] == 0) &\n",
    "    (train_transformed[\"women_total\"] >= 1) &\n",
    "    (train_transformed[\"boys_total\"] >= 1) &\n",
    "    (train_transformed[\"girls_total\"] == 0) &\n",
    "    (((train_transformed[\"women_survived\"] >= 1) &\n",
    "      (train_transformed[\"boys_survived\"] >= 1)) |\n",
    "     ((train_transformed[\"women_survived\"] >= 1) &\n",
    "      (train_transformed[\"boys_survived\"] == 0) &\n",
    "      (train_transformed[\"Pclass\"] != 3))), [\"pred\"]] = 1\n",
    "\n",
    "# Updating for boys with women and girls in train\n",
    "train_transformed.loc[\n",
    "    (train_transformed[\"Parch\"] >= 1) &\n",
    "    (train_transformed[\"Sex\"] == 0) &\n",
    "    (train_transformed[\"adult\"] == 0) &\n",
    "    (train_transformed[\"women_total\"] >= 1) &\n",
    "    (train_transformed[\"boys_total\"] == 0) &\n",
    "    (train_transformed[\"girls_total\"] >= 1) &\n",
    "    (train_transformed[\"girls_died\"] == 0) &\n",
    "    (train_transformed[\"women_survived\"] >= 1), [\"pred\"]] = 1\n",
    "\n",
    "# Updating for boys with women, boys and girls in train\n",
    "train_transformed.loc[\n",
    "    (train_transformed[\"Parch\"] >= 1) &\n",
    "    (train_transformed[\"Sex\"] == 0) &\n",
    "    (train_transformed[\"adult\"] == 0) &\n",
    "    (train_transformed[\"women_total\"] >= 1) &\n",
    "    (train_transformed[\"boys_total\"] >= 1) &\n",
    "    (train_transformed[\"girls_total\"] >= 1) &\n",
    "    (train_transformed[\"girls_died\"] == 0) &\n",
    "    (train_transformed[\"women_survived\"] >= 1), [\"pred\"]] = 1\n",
    "\n",
    "\n",
    "\n",
    "# Moving on to subset 2\n",
    "\n",
    "# Updating for men with men and women in train\n",
    "train_transformed.loc[\n",
    "    (train_transformed[\"adult\"] == 1) &\n",
    "    (train_transformed[\"family_total_train\"] >= 1) &\n",
    "    (train_transformed[\"boys_total\"] == 0) &\n",
    "    (train_transformed[\"girls_total\"] == 0) &\n",
    "    (train_transformed[\"Sex\"] == 0) &\n",
    "    (train_transformed[\"men_total\"] >= 1) &\n",
    "    (train_transformed[\"women_total\"] >= 1) &\n",
    "    (train_transformed[\"women_died\"] == 0) &\n",
    "    (train_transformed[\"men_died\"] == 0), [\"pred\"]] = 1\n",
    "\n",
    "# Updating for men with only men in train\n",
    "train_transformed.loc[\n",
    "    (train_transformed[\"adult\"] == 1) &\n",
    "    (train_transformed[\"family_total_train\"] >= 1) &\n",
    "    (train_transformed[\"boys_total\"] == 0) &\n",
    "    (train_transformed[\"girls_total\"] == 0) &\n",
    "    (train_transformed[\"Sex\"] == 0) &\n",
    "    (train_transformed[\"men_total\"] >= 1) &\n",
    "    (train_transformed[\"women_total\"] == 0) &\n",
    "    (train_transformed[\"men_died\"] == 0) &\n",
    "    (train_transformed[\"Pclass\"] == 1), [\"pred\"]] = 1\n",
    "\n",
    "# Updating for women with men and women in train\n",
    "train_transformed.loc[\n",
    "    (train_transformed[\"adult\"] == 1) &\n",
    "    (train_transformed[\"family_total_train\"] >= 1) &\n",
    "    (train_transformed[\"boys_total\"] == 0) &\n",
    "    (train_transformed[\"girls_total\"] == 0) &\n",
    "    (train_transformed[\"Sex\"] == 1) &\n",
    "    (train_transformed[\"men_total\"] >= 1) &\n",
    "    (train_transformed[\"women_total\"] >= 1) &\n",
    "    (train_transformed[\"women_survived\"] == 0) &\n",
    "    (train_transformed[\"Pclass\"] == 3), [\"pred\"]] = 0\n",
    "\n",
    "# Updating for women traveling with only women in train\n",
    "train_transformed.loc[\n",
    "    (train_transformed[\"adult\"] == 1) &\n",
    "    (train_transformed[\"family_total_train\"] >= 1) &\n",
    "    (train_transformed[\"boys_total\"] == 0) &\n",
    "    (train_transformed[\"girls_total\"] == 0) &\n",
    "    (train_transformed[\"Sex\"] == 1) &\n",
    "    (train_transformed[\"men_total\"] == 0) &\n",
    "    (train_transformed[\"women_total\"] >= 1) &\n",
    "    (train_transformed[\"women_survived\"] ==0) &\n",
    "    (train_transformed[\"Pclass\"] == 3), [\"pred\"]] = 0\n",
    "\n",
    "# Updating for boys traveling with boys and girls in train\n",
    "train_transformed.loc[\n",
    "    (train_transformed[\"adult\"] == 0) &\n",
    "    (train_transformed[\"family_total_train\"] >= 1) &\n",
    "    (train_transformed[\"Sex\"] == 0) &\n",
    "    (train_transformed[\"women_total\"] == 0) &\n",
    "    (train_transformed[\"boys_total\"] >= 1) &\n",
    "    (train_transformed[\"girls_total\"] >= 1) &\n",
    "    (train_transformed[\"girls_died\"] == 0), [\"pred\"]] = 1\n",
    "\n",
    "# Updating for boys traveling with only boys in train\n",
    "train_transformed.loc[\n",
    "    (train_transformed[\"adult\"] == 0) &\n",
    "    (train_transformed[\"family_total_train\"] >= 1) &\n",
    "    (train_transformed[\"Sex\"] == 0) &\n",
    "    (train_transformed[\"women_total\"] == 0) &\n",
    "    (train_transformed[\"boys_total\"] >= 1) &\n",
    "    (train_transformed[\"girls_total\"] == 0) &\n",
    "    (train_transformed[\"boys_survived\"] >= 1), [\"pred\"]] = 1\n",
    "\n",
    "# Updating for boys traveling with only girls in train\n",
    "train_transformed.loc[\n",
    "    (train_transformed[\"adult\"] == 0) &\n",
    "    (train_transformed[\"family_total_train\"] >= 1) &\n",
    "    (train_transformed[\"Sex\"] == 0) &\n",
    "    (train_transformed[\"women_total\"] == 0) &\n",
    "    (train_transformed[\"boys_total\"] == 0) &\n",
    "    (train_transformed[\"girls_total\"] >= 1) &\n",
    "    (train_transformed[\"girls_died\"] == 0), [\"pred\"]] = 1\n",
    "\n",
    "# Updating for girls traveling with boys and girls in train\n",
    "train_transformed.loc[\n",
    "    (train_transformed[\"adult\"] == 0) &\n",
    "    (train_transformed[\"family_total_train\"] >= 1) &\n",
    "    (train_transformed[\"Sex\"] == 1) &\n",
    "    (train_transformed[\"women_total\"] == 0) &\n",
    "    (train_transformed[\"boys_total\"] >= 1) &\n",
    "    (train_transformed[\"girls_total\"] >= 1) &\n",
    "    (train_transformed[\"girls_survived\"] == 0), [\"pred\"]] = 0\n",
    "\n",
    "# Updating for girls traveling with girls in train \n",
    "train_transformed.loc[\n",
    "    (train_transformed[\"adult\"] == 0) &\n",
    "    (train_transformed[\"family_total_train\"] >= 1) &\n",
    "    (train_transformed[\"Sex\"] == 1) &\n",
    "    (train_transformed[\"women_total\"] == 0) &\n",
    "    (train_transformed[\"boys_total\"] == 0) &\n",
    "    (train_transformed[\"girls_total\"] >= 1) &\n",
    "    (train_transformed[\"girls_survived\"] == 0), [\"pred\"]] = 0\n",
    "\n",
    "# Updating for girls traveling with boys in train\n",
    "train_transformed.loc[\n",
    "    (train_transformed[\"adult\"] == 0) &\n",
    "    (train_transformed[\"family_total_train\"] >= 1) &\n",
    "    (train_transformed[\"Sex\"] == 1) &\n",
    "    (train_transformed[\"women_total\"] == 0) &\n",
    "    (train_transformed[\"boys_total\"] >= 1) &\n",
    "    (train_transformed[\"girls_total\"] == 0) &\n",
    "    (train_transformed[\"boys_survived\"] == 0) &\n",
    "    (train_transformed[\"Pclass\"] == 3), [\"pred\"]] = 0\n",
    "\n",
    "\n",
    "\n",
    "# Now, we update the results on subset 3.\n",
    "\n",
    "# Updating for men traveling with other passengers.  They will live when \n",
    "# at least one man survives.\n",
    "train_transformed.loc[\n",
    "    ((train_transformed[\"family_total_train\"] == 0) |\n",
    "     ((train_transformed[\"adult\"] == 0) &\n",
    "      (train_transformed[\"men_total\"] >= 1) &\n",
    "      (train_transformed[\"women_total\"] == 0) &\n",
    "      (train_transformed[\"girls_total\"] == 0) &\n",
    "      (train_transformed[\"boys_total\"] == 0))) &\n",
    "    (train_transformed[\"adult\"] == 1) &\n",
    "    (train_transformed[\"Sex\"] == 0) &\n",
    "    (train_transformed[\"ticket_total_train\"] >= 1) &\n",
    "    (train_transformed[\"ticket_men_total\"] >= 1) &\n",
    "    (train_transformed[\"ticket_men_survived\"] >= 1), [\"pred\"]] = 1\n",
    "\n",
    "# Updating for women traveling with children in their ticket group\n",
    "train_transformed.loc[\n",
    "    ((train_transformed[\"family_total_train\"] == 0) |\n",
    "     ((train_transformed[\"adult\"] == 0) &\n",
    "      (train_transformed[\"men_total\"] >= 1) &\n",
    "      (train_transformed[\"women_total\"] == 0) &\n",
    "      (train_transformed[\"girls_total\"] == 0) &\n",
    "      (train_transformed[\"boys_total\"] == 0))) &\n",
    "    (train_transformed[\"adult\"] == 1) &\n",
    "    (train_transformed[\"Sex\"] == 1) &\n",
    "    (train_transformed[\"ticket_total_train\"] >= 1) &\n",
    "    (train_transformed[\"Pclass\"] != 1) &\n",
    "    ((train_transformed[\"ticket_boys_total\"] >= 1) |\n",
    "     (train_transformed[\"ticket_girls_total\"] >= 1)) &\n",
    "    ((train_transformed[\"ticket_boys_died\"] >= 1) |\n",
    "     (train_transformed[\"ticket_girls_died\"] >= 1)), [\"pred\"]] = 0\n",
    "\n",
    "# Updating for boys in who have no one in their ticket group in train\n",
    "train_transformed.loc[\n",
    "    ((train_transformed[\"family_total_train\"] == 0) |\n",
    "     ((train_transformed[\"adult\"] == 0) &\n",
    "      (train_transformed[\"men_total\"] >= 1) &\n",
    "      (train_transformed[\"women_total\"] == 0) &\n",
    "      (train_transformed[\"girls_total\"] == 0) &\n",
    "      (train_transformed[\"boys_total\"] == 0))) &\n",
    "    (train_transformed[\"adult\"] == 0) &\n",
    "    (train_transformed[\"Sex\"] == 0) &\n",
    "    (train_transformed[\"ticket_total_train\"] == 0) &\n",
    "    ((train_transformed[\"Age\"] <= 6) |\n",
    "     ((train_transformed[\"Age\"] <= 15) &\n",
    "      (train_transformed[\"Pclass\"] != 3))), [\"pred\"]] = 1\n",
    "\n",
    "# Updating for boys traveling with boys, girls or women in their ticket\n",
    "# group\n",
    "train_transformed.loc[\n",
    "    ((train_transformed[\"family_total_train\"] == 0) |\n",
    "     ((train_transformed[\"adult\"] == 0) &\n",
    "      (train_transformed[\"men_total\"] >= 1) &\n",
    "      (train_transformed[\"women_total\"] == 0) &\n",
    "      (train_transformed[\"girls_total\"] == 0) &\n",
    "      (train_transformed[\"boys_total\"] == 0))) &\n",
    "    (train_transformed[\"adult\"] == 0) &\n",
    "    (train_transformed[\"Sex\"] == 0) &\n",
    "    (train_transformed[\"ticket_total_train\"] >= 1) &\n",
    "    ((train_transformed[\"ticket_boys_total\"] >= 1) |\n",
    "     (train_transformed[\"ticket_girls_total\"] >= 1) |\n",
    "     (train_transformed[\"ticket_women_total\"] >= 1)) &\n",
    "    (train_transformed[\"ticket_boys_died\"] == 0) &\n",
    "    (train_transformed[\"ticket_girls_died\"] == 0) &\n",
    "    (train_transformed[\"ticket_women_died\"] == 0), [\"pred\"]] = 1\n",
    "\n",
    "# Updating for girls traveling with at least one woman, boy or girl\n",
    "# in their ticket group.\n",
    "train_transformed.loc[\n",
    "    ((train_transformed[\"family_total_train\"] == 0) |\n",
    "     ((train_transformed[\"adult\"] == 0) &\n",
    "      (train_transformed[\"men_total\"] >= 1) &\n",
    "      (train_transformed[\"women_total\"] == 0) &\n",
    "      (train_transformed[\"girls_total\"] == 0) &\n",
    "      (train_transformed[\"boys_total\"] == 0))) &\n",
    "    (train_transformed[\"adult\"] == 0) &\n",
    "    (train_transformed[\"Sex\"] == 1) &\n",
    "    (train_transformed[\"ticket_total_train\"] >= 1) &\n",
    "    ((train_transformed[\"ticket_girls_total\"] >= 1) |\n",
    "     (train_transformed[\"ticket_boys_total\"] >= 1) |\n",
    "     (train_transformed[\"ticket_women_total\"] >= 1)) &\n",
    "    (train_transformed[\"ticket_girls_survived\"] == 0) &\n",
    "    (train_transformed[\"ticket_boys_survived\"] == 0) &\n",
    "    (train_transformed[\"ticket_women_survived\"] == 0) &\n",
    "    (train_transformed[\"ticket_men_survived\"] == 0), [\"pred\"]] = 0"
   ]
  },
  {
   "cell_type": "code",
   "execution_count": null,
   "id": "d410d505",
   "metadata": {},
   "outputs": [],
   "source": []
  },
  {
   "cell_type": "code",
   "execution_count": 273,
   "id": "77bc3c15",
   "metadata": {},
   "outputs": [
    {
     "data": {
      "text/plain": [
       "pred  Survived\n",
       "0     0           500\n",
       "1     1           256\n",
       "0     1            86\n",
       "1     0            49\n",
       "dtype: int64"
      ]
     },
     "execution_count": 273,
     "metadata": {},
     "output_type": "execute_result"
    }
   ],
   "source": [
    "train_transformed[[\"pred\", \"Survived\"]].value_counts()"
   ]
  },
  {
   "cell_type": "code",
   "execution_count": null,
   "id": "6f3c4ab9",
   "metadata": {},
   "outputs": [],
   "source": []
  },
  {
   "cell_type": "code",
   "execution_count": 274,
   "id": "7aded531",
   "metadata": {},
   "outputs": [],
   "source": [
    "# Now, I will update the test set according to the rules I created\n",
    "\n",
    "# Creating the pred column in test set, initializing all values to zero\n",
    "x_test_transformed_df[\"pred\"] = 0\n",
    "\n",
    "# Predicting all women will survive.\n",
    "x_test_transformed_df.loc[\n",
    "    (x_test_transformed_df[\"Sex\"] == 1), [\"pred\"]] = 1"
   ]
  },
  {
   "cell_type": "code",
   "execution_count": 275,
   "id": "cf23da46",
   "metadata": {},
   "outputs": [],
   "source": [
    "# I will now update the column based on my rules\n",
    "\n",
    "# Updating pred for women with only girls\n",
    "x_test_transformed_df.loc[\n",
    "    (x_test_transformed_df[\"Parch\"] >= 1) &\n",
    "    (x_test_transformed_df[\"family_total_train\"] >= 1) &\n",
    "    (x_test_transformed_df[\"Sex\"] == 1) &\n",
    "    (x_test_transformed_df[\"adult\"] == 1) &\n",
    "    (x_test_transformed_df[\"girls_total\"] >= 1) &\n",
    "    (x_test_transformed_df[\"boys_total\"] == 0) &\n",
    "    (x_test_transformed_df[\"girls_died\"] >= 1), [\"pred\"]] = 0\n",
    "\n",
    "# Updating for women with only boys\n",
    "x_test_transformed_df.loc[    \n",
    "    (x_test_transformed_df[\"Parch\"] >= 1) &\n",
    "    (x_test_transformed_df[\"family_total_train\"] >= 1) &\n",
    "    (x_test_transformed_df[\"Sex\"] == 1) &\n",
    "    (x_test_transformed_df[\"adult\"] == 1) &\n",
    "    (x_test_transformed_df[\"girls_total\"] == 0) &\n",
    "    (x_test_transformed_df[\"boys_total\"] >= 1) &\n",
    "    (x_test_transformed_df[\"boys_died\"] >= 1) &\n",
    "    (x_test_transformed_df[\"Pclass\"] == 3), [\"pred\"]] = 0\n",
    "\n",
    "# Updating for women with boys and girls\n",
    "x_test_transformed_df.loc[\n",
    "    (x_test_transformed_df[\"Parch\"] >= 1) &\n",
    "    (x_test_transformed_df[\"family_total_train\"] >= 1) &\n",
    "    (x_test_transformed_df[\"Sex\"] == 1) &\n",
    "    (x_test_transformed_df[\"adult\"] == 1) &\n",
    "    (x_test_transformed_df[\"girls_total\"] >= 1) &\n",
    "    (x_test_transformed_df[\"boys_total\"] >= 1) &\n",
    "    (x_test_transformed_df[\"girls_died\"] >= 1), [\"pred\"]] = 0\n",
    "\n",
    "# Updating for girls who have only women in train\n",
    "x_test_transformed_df.loc[\n",
    "    (x_test_transformed_df[\"Parch\"] >= 1) &\n",
    "    (x_test_transformed_df[\"Sex\"] == 1) &\n",
    "    (x_test_transformed_df[\"adult\"] == 0) &\n",
    "    (x_test_transformed_df[\"women_total\"] >= 1) &\n",
    "    (x_test_transformed_df[\"boys_total\"] == 0) &\n",
    "    (x_test_transformed_df[\"girls_total\"] == 0) &\n",
    "    (x_test_transformed_df[\"women_survived\"] == 0), [\"pred\"]] = 0\n",
    "\n",
    "# Updating for girls who have women and girls in train\n",
    "x_test_transformed_df.loc[\n",
    "    (x_test_transformed_df[\"Parch\"] >= 1) &\n",
    "    (x_test_transformed_df[\"Sex\"] == 1) &\n",
    "    (x_test_transformed_df[\"adult\"] == 0) &\n",
    "    (x_test_transformed_df[\"women_total\"] >= 1) &\n",
    "    (x_test_transformed_df[\"girls_total\"] >= 1) &\n",
    "    (x_test_transformed_df[\"boys_total\"] == 0) &\n",
    "    (x_test_transformed_df[\"girls_died\"] == \\\n",
    "     x_test_transformed_df[\"girls_total\"]) &\n",
    "    (x_test_transformed_df[\"women_died\"] == \\\n",
    "     x_test_transformed_df[\"women_total\"]), [\"pred\"]] = 0\n",
    "\n",
    "# Updating for girls who have women and boys in train\n",
    "x_test_transformed_df.loc[\n",
    "    (x_test_transformed_df[\"Parch\"] >= 1) &\n",
    "    (x_test_transformed_df[\"Sex\"] == 1) &\n",
    "    (x_test_transformed_df[\"adult\"] == 0) &\n",
    "    (x_test_transformed_df[\"women_total\"] >= 1) &\n",
    "    (x_test_transformed_df[\"girls_total\"] == 0) &\n",
    "    (x_test_transformed_df[\"boys_total\"] >= 1) &\n",
    "    (x_test_transformed_df[\"women_survived\"] == 0) &\n",
    "    (x_test_transformed_df[\"boys_survived\"] == 0), [\"pred\"]] = 0\n",
    "\n",
    "# Updating for girls who have women, boys and girls in train\n",
    "x_test_transformed_df.loc[\n",
    "    (x_test_transformed_df[\"Parch\"] >= 1) &\n",
    "    (x_test_transformed_df[\"Sex\"] == 1) &\n",
    "    (x_test_transformed_df[\"adult\"] == 0) &\n",
    "    (x_test_transformed_df[\"women_total\"] >= 1) &\n",
    "    (x_test_transformed_df[\"girls_total\"] >= 1) &\n",
    "    (x_test_transformed_df[\"boys_total\"] >= 1) &\n",
    "    (x_test_transformed_df[\"girls_died\"] >= 1) &\n",
    "    (x_test_transformed_df[\"boys_survived\"] == 0) &\n",
    "    (x_test_transformed_df[\"women_survived\"] == 0), [\"pred\"]] = 0\n",
    "\n",
    "# Updating for boys with only women in train\n",
    "x_test_transformed_df.loc[\n",
    "    (x_test_transformed_df[\"Parch\"] >= 1) &\n",
    "    (x_test_transformed_df[\"Sex\"] == 0) &\n",
    "    (x_test_transformed_df[\"adult\"] == 0) &\n",
    "    (x_test_transformed_df[\"women_total\"] >= 1) &\n",
    "    (x_test_transformed_df[\"boys_total\"] == 0) &\n",
    "    (x_test_transformed_df[\"girls_total\"] == 0) &\n",
    "    (x_test_transformed_df[\"women_survived\"] >= 1) &\n",
    "    (x_test_transformed_df[\"Pclass\"] != 3), [\"pred\"]] = 1\n",
    "\n",
    "# Updating for boys with women and boys in train\n",
    "x_test_transformed_df.loc[\n",
    "    (x_test_transformed_df[\"Parch\"] >= 1) &\n",
    "    (x_test_transformed_df[\"Sex\"] == 0) &\n",
    "    (x_test_transformed_df[\"adult\"] == 0) &\n",
    "    (x_test_transformed_df[\"women_total\"] >= 1) &\n",
    "    (x_test_transformed_df[\"boys_total\"] >= 1) &\n",
    "    (x_test_transformed_df[\"girls_total\"] == 0) &\n",
    "    (((x_test_transformed_df[\"women_survived\"] >= 1) &\n",
    "      (x_test_transformed_df[\"boys_survived\"] >= 1)) |\n",
    "     ((x_test_transformed_df[\"women_survived\"] >= 1) &\n",
    "      (x_test_transformed_df[\"boys_survived\"] == 0) &\n",
    "      (x_test_transformed_df[\"Pclass\"] != 3))), [\"pred\"]] = 1\n",
    "\n",
    "# Updating for boys with women and girls in train\n",
    "x_test_transformed_df.loc[\n",
    "    (x_test_transformed_df[\"Parch\"] >= 1) &\n",
    "    (x_test_transformed_df[\"Sex\"] == 0) &\n",
    "    (x_test_transformed_df[\"adult\"] == 0) &\n",
    "    (x_test_transformed_df[\"women_total\"] >= 1) &\n",
    "    (x_test_transformed_df[\"boys_total\"] == 0) &\n",
    "    (x_test_transformed_df[\"girls_total\"] >= 1) &\n",
    "    (x_test_transformed_df[\"girls_died\"] == 0) &\n",
    "    (x_test_transformed_df[\"women_survived\"] >= 1), [\"pred\"]] = 1\n",
    "\n",
    "# Updating for boys with women, boys and girls in train\n",
    "x_test_transformed_df.loc[\n",
    "    (x_test_transformed_df[\"Parch\"] >= 1) &\n",
    "    (x_test_transformed_df[\"Sex\"] == 0) &\n",
    "    (x_test_transformed_df[\"adult\"] == 0) &\n",
    "    (x_test_transformed_df[\"women_total\"] >= 1) &\n",
    "    (x_test_transformed_df[\"boys_total\"] >= 1) &\n",
    "    (x_test_transformed_df[\"girls_total\"] >= 1) &\n",
    "    (x_test_transformed_df[\"girls_died\"] == 0) &\n",
    "    (x_test_transformed_df[\"women_survived\"] >= 1), [\"pred\"]] = 1\n",
    "\n",
    "\n",
    "\n",
    "# Moving on to subset 2\n",
    "\n",
    "# Updating for men with men and women in train\n",
    "x_test_transformed_df.loc[\n",
    "    (x_test_transformed_df[\"adult\"] == 1) &\n",
    "    (x_test_transformed_df[\"family_total_train\"] >= 1) &\n",
    "    (x_test_transformed_df[\"boys_total\"] == 0) &\n",
    "    (x_test_transformed_df[\"girls_total\"] == 0) &\n",
    "    (x_test_transformed_df[\"Sex\"] == 0) &\n",
    "    (x_test_transformed_df[\"men_total\"] >= 1) &\n",
    "    (x_test_transformed_df[\"women_total\"] >= 1) &\n",
    "    (x_test_transformed_df[\"women_died\"] == 0) &\n",
    "    (x_test_transformed_df[\"men_died\"] == 0), [\"pred\"]] = 1\n",
    "\n",
    "# Updating for men with only men in train\n",
    "x_test_transformed_df.loc[\n",
    "    (x_test_transformed_df[\"adult\"] == 1) &\n",
    "    (x_test_transformed_df[\"family_total_train\"] >= 1) &\n",
    "    (x_test_transformed_df[\"boys_total\"] == 0) &\n",
    "    (x_test_transformed_df[\"girls_total\"] == 0) &\n",
    "    (x_test_transformed_df[\"Sex\"] == 0) &\n",
    "    (x_test_transformed_df[\"men_total\"] >= 1) &\n",
    "    (x_test_transformed_df[\"women_total\"] == 0) &\n",
    "    (x_test_transformed_df[\"men_died\"] == 0) &\n",
    "    (x_test_transformed_df[\"Pclass\"] == 1), [\"pred\"]] = 1\n",
    "\n",
    "# Updating for women with men and women in train\n",
    "x_test_transformed_df.loc[\n",
    "    (x_test_transformed_df[\"adult\"] == 1) &\n",
    "    (x_test_transformed_df[\"family_total_train\"] >= 1) &\n",
    "    (x_test_transformed_df[\"boys_total\"] == 0) &\n",
    "    (x_test_transformed_df[\"girls_total\"] == 0) &\n",
    "    (x_test_transformed_df[\"Sex\"] == 1) &\n",
    "    (x_test_transformed_df[\"men_total\"] >= 1) &\n",
    "    (x_test_transformed_df[\"women_total\"] >= 1) &\n",
    "    (x_test_transformed_df[\"women_survived\"] == 0) &\n",
    "    (x_test_transformed_df[\"Pclass\"] == 3), [\"pred\"]] = 0\n",
    "\n",
    "# Updating for women traveling with only women in train\n",
    "x_test_transformed_df.loc[\n",
    "    (x_test_transformed_df[\"adult\"] == 1) &\n",
    "    (x_test_transformed_df[\"family_total_train\"] >= 1) &\n",
    "    (x_test_transformed_df[\"boys_total\"] == 0) &\n",
    "    (x_test_transformed_df[\"girls_total\"] == 0) &\n",
    "    (x_test_transformed_df[\"Sex\"] == 1) &\n",
    "    (x_test_transformed_df[\"men_total\"] == 0) &\n",
    "    (x_test_transformed_df[\"women_total\"] >= 1) &\n",
    "    (x_test_transformed_df[\"women_survived\"] ==0) &\n",
    "    (x_test_transformed_df[\"Pclass\"] == 3), [\"pred\"]] = 0\n",
    "\n",
    "# Updating for boys traveling with boys and girls in train\n",
    "x_test_transformed_df.loc[\n",
    "    (x_test_transformed_df[\"adult\"] == 0) &\n",
    "    (x_test_transformed_df[\"family_total_train\"] >= 1) &\n",
    "    (x_test_transformed_df[\"Sex\"] == 0) &\n",
    "    (x_test_transformed_df[\"women_total\"] == 0) &\n",
    "    (x_test_transformed_df[\"boys_total\"] >= 1) &\n",
    "    (x_test_transformed_df[\"girls_total\"] >= 1) &\n",
    "    (x_test_transformed_df[\"girls_died\"] == 0), [\"pred\"]] = 1\n",
    "\n",
    "# Updating for boys traveling with only boys in train\n",
    "x_test_transformed_df.loc[\n",
    "    (x_test_transformed_df[\"adult\"] == 0) &\n",
    "    (x_test_transformed_df[\"family_total_train\"] >= 1) &\n",
    "    (x_test_transformed_df[\"Sex\"] == 0) &\n",
    "    (x_test_transformed_df[\"women_total\"] == 0) &\n",
    "    (x_test_transformed_df[\"boys_total\"] >= 1) &\n",
    "    (x_test_transformed_df[\"girls_total\"] == 0) &\n",
    "    (x_test_transformed_df[\"boys_survived\"] >= 1), [\"pred\"]] = 1\n",
    "\n",
    "# Updating for boys traveling with only girls in train\n",
    "x_test_transformed_df.loc[\n",
    "    (x_test_transformed_df[\"adult\"] == 0) &\n",
    "    (x_test_transformed_df[\"family_total_train\"] >= 1) &\n",
    "    (x_test_transformed_df[\"Sex\"] == 0) &\n",
    "    (x_test_transformed_df[\"women_total\"] == 0) &\n",
    "    (x_test_transformed_df[\"boys_total\"] == 0) &\n",
    "    (x_test_transformed_df[\"girls_total\"] >= 1) &\n",
    "    (x_test_transformed_df[\"girls_died\"] == 0), [\"pred\"]] = 1\n",
    "\n",
    "# Updating for girls traveling with boys and girls in train\n",
    "x_test_transformed_df.loc[\n",
    "    (x_test_transformed_df[\"adult\"] == 0) &\n",
    "    (x_test_transformed_df[\"family_total_train\"] >= 1) &\n",
    "    (x_test_transformed_df[\"Sex\"] == 1) &\n",
    "    (x_test_transformed_df[\"women_total\"] == 0) &\n",
    "    (x_test_transformed_df[\"boys_total\"] >= 1) &\n",
    "    (x_test_transformed_df[\"girls_total\"] >= 1) &\n",
    "    (x_test_transformed_df[\"girls_survived\"] == 0), [\"pred\"]] = 0\n",
    "\n",
    "# Updating for girls traveling with girls in train \n",
    "x_test_transformed_df.loc[\n",
    "    (x_test_transformed_df[\"adult\"] == 0) &\n",
    "    (x_test_transformed_df[\"family_total_train\"] >= 1) &\n",
    "    (x_test_transformed_df[\"Sex\"] == 1) &\n",
    "    (x_test_transformed_df[\"women_total\"] == 0) &\n",
    "    (x_test_transformed_df[\"boys_total\"] == 0) &\n",
    "    (x_test_transformed_df[\"girls_total\"] >= 1) &\n",
    "    (x_test_transformed_df[\"girls_survived\"] == 0), [\"pred\"]] = 0\n",
    "\n",
    "# Updating for girls traveling with boys in train\n",
    "x_test_transformed_df.loc[\n",
    "    (x_test_transformed_df[\"adult\"] == 0) &\n",
    "    (x_test_transformed_df[\"family_total_train\"] >= 1) &\n",
    "    (x_test_transformed_df[\"Sex\"] == 1) &\n",
    "    (x_test_transformed_df[\"women_total\"] == 0) &\n",
    "    (x_test_transformed_df[\"boys_total\"] >= 1) &\n",
    "    (x_test_transformed_df[\"girls_total\"] == 0) &\n",
    "    (x_test_transformed_df[\"boys_survived\"] == 0) &\n",
    "    (x_test_transformed_df[\"Pclass\"] == 3), [\"pred\"]] = 0\n",
    "\n",
    "\n",
    "\n",
    "# Now, we update the results on subset 3.\n",
    "\n",
    "# Updating for men traveling with other passengers.  They will live when \n",
    "# at least one man survives.\n",
    "x_test_transformed_df.loc[\n",
    "    ((x_test_transformed_df[\"family_total_train\"] == 0) |\n",
    "     ((x_test_transformed_df[\"adult\"] == 0) &\n",
    "      (x_test_transformed_df[\"men_total\"] >= 1) &\n",
    "      (x_test_transformed_df[\"women_total\"] == 0) &\n",
    "      (x_test_transformed_df[\"girls_total\"] == 0) &\n",
    "      (x_test_transformed_df[\"boys_total\"] == 0))) &\n",
    "    (x_test_transformed_df[\"adult\"] == 1) &\n",
    "    (x_test_transformed_df[\"Sex\"] == 0) &\n",
    "    (x_test_transformed_df[\"ticket_total_train\"] >= 1) &\n",
    "    (x_test_transformed_df[\"ticket_men_total\"] >= 1) &\n",
    "    (x_test_transformed_df[\"ticket_men_survived\"] >= 1), [\"pred\"]] = 1\n",
    "\n",
    "# Updating for women traveling with children in their ticket group\n",
    "x_test_transformed_df.loc[\n",
    "    ((x_test_transformed_df[\"family_total_train\"] == 0) |\n",
    "     ((x_test_transformed_df[\"adult\"] == 0) &\n",
    "      (x_test_transformed_df[\"men_total\"] >= 1) &\n",
    "      (x_test_transformed_df[\"women_total\"] == 0) &\n",
    "      (x_test_transformed_df[\"girls_total\"] == 0) &\n",
    "      (x_test_transformed_df[\"boys_total\"] == 0))) &\n",
    "    (x_test_transformed_df[\"adult\"] == 1) &\n",
    "    (x_test_transformed_df[\"Sex\"] == 1) &\n",
    "    (x_test_transformed_df[\"ticket_total_train\"] >= 1) &\n",
    "    (x_test_transformed_df[\"Pclass\"] != 1) &\n",
    "    ((x_test_transformed_df[\"ticket_boys_total\"] >= 1) |\n",
    "     (x_test_transformed_df[\"ticket_girls_total\"] >= 1)) &\n",
    "    ((x_test_transformed_df[\"ticket_boys_died\"] >= 1) |\n",
    "     (x_test_transformed_df[\"ticket_girls_died\"] >= 1)), [\"pred\"]] = 0\n",
    "\n",
    "# Updating for boys in who have no one in their ticket group in train\n",
    "x_test_transformed_df.loc[\n",
    "    ((x_test_transformed_df[\"family_total_train\"] == 0) |\n",
    "     ((x_test_transformed_df[\"adult\"] == 0) &\n",
    "      (x_test_transformed_df[\"men_total\"] >= 1) &\n",
    "      (x_test_transformed_df[\"women_total\"] == 0) &\n",
    "      (x_test_transformed_df[\"girls_total\"] == 0) &\n",
    "      (x_test_transformed_df[\"boys_total\"] == 0))) &\n",
    "    (x_test_transformed_df[\"adult\"] == 0) &\n",
    "    (x_test_transformed_df[\"Sex\"] == 0) &\n",
    "    (x_test_transformed_df[\"ticket_total_train\"] == 0) &\n",
    "    ((x_test_transformed_df[\"Age\"] <= 6) |\n",
    "     ((x_test_transformed_df[\"Age\"] <= 15) &\n",
    "      (x_test_transformed_df[\"Pclass\"] != 3))), [\"pred\"]] = 1\n",
    "\n",
    "# Updating for boys traveling with boys, girls or women in their ticket\n",
    "# group\n",
    "x_test_transformed_df.loc[\n",
    "    ((x_test_transformed_df[\"family_total_train\"] == 0) |\n",
    "     ((x_test_transformed_df[\"adult\"] == 0) &\n",
    "      (x_test_transformed_df[\"men_total\"] >= 1) &\n",
    "      (x_test_transformed_df[\"women_total\"] == 0) &\n",
    "      (x_test_transformed_df[\"girls_total\"] == 0) &\n",
    "      (x_test_transformed_df[\"boys_total\"] == 0))) &\n",
    "    (x_test_transformed_df[\"adult\"] == 0) &\n",
    "    (x_test_transformed_df[\"Sex\"] == 0) &\n",
    "    (x_test_transformed_df[\"ticket_total_train\"] >= 1) &\n",
    "    ((x_test_transformed_df[\"ticket_boys_total\"] >= 1) |\n",
    "     (x_test_transformed_df[\"ticket_girls_total\"] >= 1) |\n",
    "     (x_test_transformed_df[\"ticket_women_total\"] >= 1)) &\n",
    "    (x_test_transformed_df[\"ticket_boys_died\"] == 0) &\n",
    "    (x_test_transformed_df[\"ticket_girls_died\"] == 0) &\n",
    "    (x_test_transformed_df[\"ticket_women_died\"] == 0), [\"pred\"]] = 1\n",
    "\n",
    "# Updating for girls traveling with at least one woman, boy or girl\n",
    "# in their ticket group.\n",
    "x_test_transformed_df.loc[\n",
    "    ((x_test_transformed_df[\"family_total_train\"] == 0) |\n",
    "     ((x_test_transformed_df[\"adult\"] == 0) &\n",
    "      (x_test_transformed_df[\"men_total\"] >= 1) &\n",
    "      (x_test_transformed_df[\"women_total\"] == 0) &\n",
    "      (x_test_transformed_df[\"girls_total\"] == 0) &\n",
    "      (x_test_transformed_df[\"boys_total\"] == 0))) &\n",
    "    (x_test_transformed_df[\"adult\"] == 0) &\n",
    "    (x_test_transformed_df[\"Sex\"] == 1) &\n",
    "    (x_test_transformed_df[\"ticket_total_train\"] >= 1) &\n",
    "    ((x_test_transformed_df[\"ticket_girls_total\"] >= 1) |\n",
    "     (x_test_transformed_df[\"ticket_boys_total\"] >= 1) |\n",
    "     (x_test_transformed_df[\"ticket_women_total\"] >= 1)) &\n",
    "    (x_test_transformed_df[\"ticket_girls_survived\"] == 0) &\n",
    "    (x_test_transformed_df[\"ticket_boys_survived\"] == 0) &\n",
    "    (x_test_transformed_df[\"ticket_women_survived\"] == 0) &\n",
    "    (x_test_transformed_df[\"ticket_men_survived\"] == 0), [\"pred\"]] = 0\n"
   ]
  },
  {
   "cell_type": "code",
   "execution_count": null,
   "id": "82c149fd",
   "metadata": {},
   "outputs": [],
   "source": []
  },
  {
   "cell_type": "code",
   "execution_count": 276,
   "id": "3cb1a208",
   "metadata": {},
   "outputs": [],
   "source": [
    "# Now, I just have to prepare a df for submission"
   ]
  },
  {
   "cell_type": "code",
   "execution_count": 277,
   "id": "45de1435",
   "metadata": {},
   "outputs": [],
   "source": [
    "# Recreating the passengerid column which I had deleted earlier\n",
    "x_test_transformed_df[\"PassengerId\"] = pd.Series(range(892,1310))"
   ]
  },
  {
   "cell_type": "code",
   "execution_count": 278,
   "id": "17cffb9e",
   "metadata": {},
   "outputs": [],
   "source": [
    "# Creating a \"survived\" column because of the kaggle name requirement\n",
    "x_test_transformed_df[\"Survived\"] = x_test_transformed_df[\"pred\"]"
   ]
  },
  {
   "cell_type": "code",
   "execution_count": 279,
   "id": "96aa0753",
   "metadata": {},
   "outputs": [],
   "source": [
    "# Creating the submission df\n",
    "submission_df = x_test_transformed_df[[\"PassengerId\", \"Survived\"]].copy()"
   ]
  },
  {
   "cell_type": "code",
   "execution_count": 280,
   "id": "e8be2916",
   "metadata": {},
   "outputs": [
    {
     "data": {
      "text/html": [
       "<div>\n",
       "<style scoped>\n",
       "    .dataframe tbody tr th:only-of-type {\n",
       "        vertical-align: middle;\n",
       "    }\n",
       "\n",
       "    .dataframe tbody tr th {\n",
       "        vertical-align: top;\n",
       "    }\n",
       "\n",
       "    .dataframe thead th {\n",
       "        text-align: right;\n",
       "    }\n",
       "</style>\n",
       "<table border=\"1\" class=\"dataframe\">\n",
       "  <thead>\n",
       "    <tr style=\"text-align: right;\">\n",
       "      <th></th>\n",
       "      <th>PassengerId</th>\n",
       "      <th>Survived</th>\n",
       "    </tr>\n",
       "  </thead>\n",
       "  <tbody>\n",
       "    <tr>\n",
       "      <th>0</th>\n",
       "      <td>892</td>\n",
       "      <td>0</td>\n",
       "    </tr>\n",
       "    <tr>\n",
       "      <th>1</th>\n",
       "      <td>893</td>\n",
       "      <td>1</td>\n",
       "    </tr>\n",
       "    <tr>\n",
       "      <th>2</th>\n",
       "      <td>894</td>\n",
       "      <td>0</td>\n",
       "    </tr>\n",
       "    <tr>\n",
       "      <th>3</th>\n",
       "      <td>895</td>\n",
       "      <td>0</td>\n",
       "    </tr>\n",
       "    <tr>\n",
       "      <th>4</th>\n",
       "      <td>896</td>\n",
       "      <td>1</td>\n",
       "    </tr>\n",
       "    <tr>\n",
       "      <th>...</th>\n",
       "      <td>...</td>\n",
       "      <td>...</td>\n",
       "    </tr>\n",
       "    <tr>\n",
       "      <th>413</th>\n",
       "      <td>1305</td>\n",
       "      <td>0</td>\n",
       "    </tr>\n",
       "    <tr>\n",
       "      <th>414</th>\n",
       "      <td>1306</td>\n",
       "      <td>1</td>\n",
       "    </tr>\n",
       "    <tr>\n",
       "      <th>415</th>\n",
       "      <td>1307</td>\n",
       "      <td>0</td>\n",
       "    </tr>\n",
       "    <tr>\n",
       "      <th>416</th>\n",
       "      <td>1308</td>\n",
       "      <td>0</td>\n",
       "    </tr>\n",
       "    <tr>\n",
       "      <th>417</th>\n",
       "      <td>1309</td>\n",
       "      <td>1</td>\n",
       "    </tr>\n",
       "  </tbody>\n",
       "</table>\n",
       "<p>418 rows × 2 columns</p>\n",
       "</div>"
      ],
      "text/plain": [
       "     PassengerId  Survived\n",
       "0            892         0\n",
       "1            893         1\n",
       "2            894         0\n",
       "3            895         0\n",
       "4            896         1\n",
       "..           ...       ...\n",
       "413         1305         0\n",
       "414         1306         1\n",
       "415         1307         0\n",
       "416         1308         0\n",
       "417         1309         1\n",
       "\n",
       "[418 rows x 2 columns]"
      ]
     },
     "execution_count": 280,
     "metadata": {},
     "output_type": "execute_result"
    }
   ],
   "source": [
    "submission_df"
   ]
  },
  {
   "cell_type": "code",
   "execution_count": 281,
   "id": "be74615c",
   "metadata": {},
   "outputs": [],
   "source": [
    "# exporting to csv\n",
    "filepath = Path(\n",
    "    'C:/Users/chris/Machine Learning/Kaggle/titanic/submissions/family_group_model/Submission.csv')\n",
    "submission_df.to_csv(filepath, index = False)"
   ]
  },
  {
   "cell_type": "code",
   "execution_count": 282,
   "id": "e7a34b7d",
   "metadata": {},
   "outputs": [],
   "source": [
    "# This model achieves 79.7 % accuracy on the test set.  This is worse than\n",
    "# I had hoped for, it seems my rules were probably a bit overfit to the \n",
    "# training data.  While this would be a good score in general, we took a \n",
    "# model that achieved 82% accuracy, made it much more complicated, and \n",
    "# ended up 2% less accurate."
   ]
  },
  {
   "cell_type": "code",
   "execution_count": 283,
   "id": "c7fc9e8f",
   "metadata": {},
   "outputs": [
    {
     "data": {
      "text/plain": [
       "Sex  pred\n",
       "0.0  1         2\n",
       "1.0  1       113\n",
       "0.0  0       329\n",
       "dtype: int64"
      ]
     },
     "execution_count": 283,
     "metadata": {},
     "output_type": "execute_result"
    }
   ],
   "source": [
    "# These are all the passengers who did not have anyone in their ticket or\n",
    "# train groups.  Out of over 400, I only made predictions contrary to the\n",
    "# gender model for 2 of them.  I will quickly explore what may have happened\n",
    "# had I fed these passengers to a machine learning algorithm.\n",
    "train_transformed[\n",
    "    (train_transformed[\"family_total_train\"] == 0) &\n",
    "    (train_transformed[\"ticket_total_train\"] == 0)][\n",
    "    [\"Sex\", \"pred\"]].value_counts().sort_values()"
   ]
  },
  {
   "cell_type": "code",
   "execution_count": 284,
   "id": "8864eeb2",
   "metadata": {},
   "outputs": [],
   "source": [
    "from sklearn.ensemble import HistGradientBoostingClassifier as hgbc\n",
    "\n",
    "X = train_transformed[\n",
    "    (train_transformed[\"family_total_train\"] == 0) &\n",
    "    (train_transformed[\"ticket_total_train\"] == 0)][\n",
    "    [\"Sex\", \"adult\", \"Pclass\", \"c_fare\", \"q_fare\",\n",
    "     \"s_fare\", \"family_members\"]].copy()\n",
    "y = train_transformed[\n",
    "    (train_transformed[\"family_total_train\"] == 0) &\n",
    "    (train_transformed[\"ticket_total_train\"] == 0)][\"Survived\"].copy()"
   ]
  },
  {
   "cell_type": "code",
   "execution_count": 285,
   "id": "4f232189",
   "metadata": {},
   "outputs": [
    {
     "data": {
      "text/html": [
       "<style>#sk-container-id-1 {color: black;background-color: white;}#sk-container-id-1 pre{padding: 0;}#sk-container-id-1 div.sk-toggleable {background-color: white;}#sk-container-id-1 label.sk-toggleable__label {cursor: pointer;display: block;width: 100%;margin-bottom: 0;padding: 0.3em;box-sizing: border-box;text-align: center;}#sk-container-id-1 label.sk-toggleable__label-arrow:before {content: \"▸\";float: left;margin-right: 0.25em;color: #696969;}#sk-container-id-1 label.sk-toggleable__label-arrow:hover:before {color: black;}#sk-container-id-1 div.sk-estimator:hover label.sk-toggleable__label-arrow:before {color: black;}#sk-container-id-1 div.sk-toggleable__content {max-height: 0;max-width: 0;overflow: hidden;text-align: left;background-color: #f0f8ff;}#sk-container-id-1 div.sk-toggleable__content pre {margin: 0.2em;color: black;border-radius: 0.25em;background-color: #f0f8ff;}#sk-container-id-1 input.sk-toggleable__control:checked~div.sk-toggleable__content {max-height: 200px;max-width: 100%;overflow: auto;}#sk-container-id-1 input.sk-toggleable__control:checked~label.sk-toggleable__label-arrow:before {content: \"▾\";}#sk-container-id-1 div.sk-estimator input.sk-toggleable__control:checked~label.sk-toggleable__label {background-color: #d4ebff;}#sk-container-id-1 div.sk-label input.sk-toggleable__control:checked~label.sk-toggleable__label {background-color: #d4ebff;}#sk-container-id-1 input.sk-hidden--visually {border: 0;clip: rect(1px 1px 1px 1px);clip: rect(1px, 1px, 1px, 1px);height: 1px;margin: -1px;overflow: hidden;padding: 0;position: absolute;width: 1px;}#sk-container-id-1 div.sk-estimator {font-family: monospace;background-color: #f0f8ff;border: 1px dotted black;border-radius: 0.25em;box-sizing: border-box;margin-bottom: 0.5em;}#sk-container-id-1 div.sk-estimator:hover {background-color: #d4ebff;}#sk-container-id-1 div.sk-parallel-item::after {content: \"\";width: 100%;border-bottom: 1px solid gray;flex-grow: 1;}#sk-container-id-1 div.sk-label:hover label.sk-toggleable__label {background-color: #d4ebff;}#sk-container-id-1 div.sk-serial::before {content: \"\";position: absolute;border-left: 1px solid gray;box-sizing: border-box;top: 0;bottom: 0;left: 50%;z-index: 0;}#sk-container-id-1 div.sk-serial {display: flex;flex-direction: column;align-items: center;background-color: white;padding-right: 0.2em;padding-left: 0.2em;position: relative;}#sk-container-id-1 div.sk-item {position: relative;z-index: 1;}#sk-container-id-1 div.sk-parallel {display: flex;align-items: stretch;justify-content: center;background-color: white;position: relative;}#sk-container-id-1 div.sk-item::before, #sk-container-id-1 div.sk-parallel-item::before {content: \"\";position: absolute;border-left: 1px solid gray;box-sizing: border-box;top: 0;bottom: 0;left: 50%;z-index: -1;}#sk-container-id-1 div.sk-parallel-item {display: flex;flex-direction: column;z-index: 1;position: relative;background-color: white;}#sk-container-id-1 div.sk-parallel-item:first-child::after {align-self: flex-end;width: 50%;}#sk-container-id-1 div.sk-parallel-item:last-child::after {align-self: flex-start;width: 50%;}#sk-container-id-1 div.sk-parallel-item:only-child::after {width: 0;}#sk-container-id-1 div.sk-dashed-wrapped {border: 1px dashed gray;margin: 0 0.4em 0.5em 0.4em;box-sizing: border-box;padding-bottom: 0.4em;background-color: white;}#sk-container-id-1 div.sk-label label {font-family: monospace;font-weight: bold;display: inline-block;line-height: 1.2em;}#sk-container-id-1 div.sk-label-container {text-align: center;}#sk-container-id-1 div.sk-container {/* jupyter's `normalize.less` sets `[hidden] { display: none; }` but bootstrap.min.css set `[hidden] { display: none !important; }` so we also need the `!important` here to be able to override the default hidden behavior on the sphinx rendered scikit-learn.org. See: https://github.com/scikit-learn/scikit-learn/issues/21755 */display: inline-block !important;position: relative;}#sk-container-id-1 div.sk-text-repr-fallback {display: none;}</style><div id=\"sk-container-id-1\" class=\"sk-top-container\"><div class=\"sk-text-repr-fallback\"><pre>HistGradientBoostingClassifier()</pre><b>In a Jupyter environment, please rerun this cell to show the HTML representation or trust the notebook. <br />On GitHub, the HTML representation is unable to render, please try loading this page with nbviewer.org.</b></div><div class=\"sk-container\" hidden><div class=\"sk-item\"><div class=\"sk-estimator sk-toggleable\"><input class=\"sk-toggleable__control sk-hidden--visually\" id=\"sk-estimator-id-1\" type=\"checkbox\" checked><label for=\"sk-estimator-id-1\" class=\"sk-toggleable__label sk-toggleable__label-arrow\">HistGradientBoostingClassifier</label><div class=\"sk-toggleable__content\"><pre>HistGradientBoostingClassifier()</pre></div></div></div></div></div>"
      ],
      "text/plain": [
       "HistGradientBoostingClassifier()"
      ]
     },
     "execution_count": 285,
     "metadata": {},
     "output_type": "execute_result"
    }
   ],
   "source": [
    "clf = hgbc()\n",
    "clf.fit(X, y)"
   ]
  },
  {
   "cell_type": "code",
   "execution_count": 286,
   "id": "3c43d1d9",
   "metadata": {},
   "outputs": [],
   "source": [
    "train_probs = pd.DataFrame(clf.predict_proba(X))"
   ]
  },
  {
   "cell_type": "code",
   "execution_count": 287,
   "id": "508bbdec",
   "metadata": {},
   "outputs": [
    {
     "data": {
      "text/html": [
       "<div>\n",
       "<style scoped>\n",
       "    .dataframe tbody tr th:only-of-type {\n",
       "        vertical-align: middle;\n",
       "    }\n",
       "\n",
       "    .dataframe tbody tr th {\n",
       "        vertical-align: top;\n",
       "    }\n",
       "\n",
       "    .dataframe thead th {\n",
       "        text-align: right;\n",
       "    }\n",
       "</style>\n",
       "<table border=\"1\" class=\"dataframe\">\n",
       "  <thead>\n",
       "    <tr style=\"text-align: right;\">\n",
       "      <th></th>\n",
       "      <th>0</th>\n",
       "      <th>1</th>\n",
       "    </tr>\n",
       "  </thead>\n",
       "  <tbody>\n",
       "    <tr>\n",
       "      <th>0</th>\n",
       "      <td>0.048983</td>\n",
       "      <td>0.951017</td>\n",
       "    </tr>\n",
       "    <tr>\n",
       "      <th>1</th>\n",
       "      <td>0.453772</td>\n",
       "      <td>0.546228</td>\n",
       "    </tr>\n",
       "    <tr>\n",
       "      <th>2</th>\n",
       "      <td>0.901308</td>\n",
       "      <td>0.098692</td>\n",
       "    </tr>\n",
       "    <tr>\n",
       "      <th>3</th>\n",
       "      <td>0.112299</td>\n",
       "      <td>0.887701</td>\n",
       "    </tr>\n",
       "    <tr>\n",
       "      <th>4</th>\n",
       "      <td>0.874860</td>\n",
       "      <td>0.125140</td>\n",
       "    </tr>\n",
       "    <tr>\n",
       "      <th>...</th>\n",
       "      <td>...</td>\n",
       "      <td>...</td>\n",
       "    </tr>\n",
       "    <tr>\n",
       "      <th>439</th>\n",
       "      <td>0.917825</td>\n",
       "      <td>0.082175</td>\n",
       "    </tr>\n",
       "    <tr>\n",
       "      <th>440</th>\n",
       "      <td>0.923554</td>\n",
       "      <td>0.076446</td>\n",
       "    </tr>\n",
       "    <tr>\n",
       "      <th>441</th>\n",
       "      <td>0.906562</td>\n",
       "      <td>0.093438</td>\n",
       "    </tr>\n",
       "    <tr>\n",
       "      <th>442</th>\n",
       "      <td>0.421952</td>\n",
       "      <td>0.578048</td>\n",
       "    </tr>\n",
       "    <tr>\n",
       "      <th>443</th>\n",
       "      <td>0.948959</td>\n",
       "      <td>0.051041</td>\n",
       "    </tr>\n",
       "  </tbody>\n",
       "</table>\n",
       "<p>444 rows × 2 columns</p>\n",
       "</div>"
      ],
      "text/plain": [
       "            0         1\n",
       "0    0.048983  0.951017\n",
       "1    0.453772  0.546228\n",
       "2    0.901308  0.098692\n",
       "3    0.112299  0.887701\n",
       "4    0.874860  0.125140\n",
       "..        ...       ...\n",
       "439  0.917825  0.082175\n",
       "440  0.923554  0.076446\n",
       "441  0.906562  0.093438\n",
       "442  0.421952  0.578048\n",
       "443  0.948959  0.051041\n",
       "\n",
       "[444 rows x 2 columns]"
      ]
     },
     "execution_count": 287,
     "metadata": {},
     "output_type": "execute_result"
    }
   ],
   "source": [
    "train_probs"
   ]
  },
  {
   "cell_type": "code",
   "execution_count": 288,
   "id": "2e6b869f",
   "metadata": {},
   "outputs": [],
   "source": [
    "train_transformed[[\"0\", \"1\"]] = np.nan, np.nan"
   ]
  },
  {
   "cell_type": "code",
   "execution_count": 289,
   "id": "ec496e99",
   "metadata": {},
   "outputs": [],
   "source": [
    "train_transformed.loc[\n",
    "    (train_transformed[\"family_total_train\"] == 0) &\n",
    "    (train_transformed[\"ticket_total_train\"] == 0), \n",
    "    [\"0\"]] = list(train_probs[0])\n",
    "\n",
    "train_transformed.loc[\n",
    "    (train_transformed[\"family_total_train\"] == 0) &\n",
    "    (train_transformed[\"ticket_total_train\"] == 0), \n",
    "    [\"1\"]] = list(train_probs[1])\n"
   ]
  },
  {
   "cell_type": "code",
   "execution_count": 290,
   "id": "0bd1cf8d",
   "metadata": {},
   "outputs": [
    {
     "data": {
      "text/html": [
       "<div>\n",
       "<style scoped>\n",
       "    .dataframe tbody tr th:only-of-type {\n",
       "        vertical-align: middle;\n",
       "    }\n",
       "\n",
       "    .dataframe tbody tr th {\n",
       "        vertical-align: top;\n",
       "    }\n",
       "\n",
       "    .dataframe thead th {\n",
       "        text-align: right;\n",
       "    }\n",
       "</style>\n",
       "<table border=\"1\" class=\"dataframe\">\n",
       "  <thead>\n",
       "    <tr style=\"text-align: right;\">\n",
       "      <th></th>\n",
       "      <th>0</th>\n",
       "      <th>1</th>\n",
       "    </tr>\n",
       "  </thead>\n",
       "  <tbody>\n",
       "    <tr>\n",
       "      <th>1</th>\n",
       "      <td>0.048983</td>\n",
       "      <td>0.951017</td>\n",
       "    </tr>\n",
       "    <tr>\n",
       "      <th>2</th>\n",
       "      <td>0.453772</td>\n",
       "      <td>0.546228</td>\n",
       "    </tr>\n",
       "    <tr>\n",
       "      <th>6</th>\n",
       "      <td>0.901308</td>\n",
       "      <td>0.098692</td>\n",
       "    </tr>\n",
       "    <tr>\n",
       "      <th>11</th>\n",
       "      <td>0.112299</td>\n",
       "      <td>0.887701</td>\n",
       "    </tr>\n",
       "    <tr>\n",
       "      <th>12</th>\n",
       "      <td>0.874860</td>\n",
       "      <td>0.125140</td>\n",
       "    </tr>\n",
       "    <tr>\n",
       "      <th>...</th>\n",
       "      <td>...</td>\n",
       "      <td>...</td>\n",
       "    </tr>\n",
       "    <tr>\n",
       "      <th>883</th>\n",
       "      <td>0.917825</td>\n",
       "      <td>0.082175</td>\n",
       "    </tr>\n",
       "    <tr>\n",
       "      <th>884</th>\n",
       "      <td>0.923554</td>\n",
       "      <td>0.076446</td>\n",
       "    </tr>\n",
       "    <tr>\n",
       "      <th>886</th>\n",
       "      <td>0.906562</td>\n",
       "      <td>0.093438</td>\n",
       "    </tr>\n",
       "    <tr>\n",
       "      <th>889</th>\n",
       "      <td>0.421952</td>\n",
       "      <td>0.578048</td>\n",
       "    </tr>\n",
       "    <tr>\n",
       "      <th>890</th>\n",
       "      <td>0.948959</td>\n",
       "      <td>0.051041</td>\n",
       "    </tr>\n",
       "  </tbody>\n",
       "</table>\n",
       "<p>444 rows × 2 columns</p>\n",
       "</div>"
      ],
      "text/plain": [
       "            0         1\n",
       "1    0.048983  0.951017\n",
       "2    0.453772  0.546228\n",
       "6    0.901308  0.098692\n",
       "11   0.112299  0.887701\n",
       "12   0.874860  0.125140\n",
       "..        ...       ...\n",
       "883  0.917825  0.082175\n",
       "884  0.923554  0.076446\n",
       "886  0.906562  0.093438\n",
       "889  0.421952  0.578048\n",
       "890  0.948959  0.051041\n",
       "\n",
       "[444 rows x 2 columns]"
      ]
     },
     "execution_count": 290,
     "metadata": {},
     "output_type": "execute_result"
    }
   ],
   "source": [
    "train_transformed.loc[\n",
    "    (train_transformed[\"family_total_train\"] == 0) &\n",
    "    (train_transformed[\"ticket_total_train\"] == 0)\n",
    "][[\"0\", \"1\"]]"
   ]
  },
  {
   "cell_type": "code",
   "execution_count": 291,
   "id": "20eaba3e",
   "metadata": {},
   "outputs": [
    {
     "data": {
      "text/plain": [
       "19"
      ]
     },
     "execution_count": 291,
     "metadata": {},
     "output_type": "execute_result"
    }
   ],
   "source": [
    "# Here are all the women the the machine learning model will predict\n",
    "# to die.\n",
    "len(train_transformed[\n",
    "    (train_transformed[\"Sex\"] == 1) &\n",
    "    (train_transformed[\"0\"] > 0.5)\n",
    "][\"0\"])"
   ]
  },
  {
   "cell_type": "code",
   "execution_count": 292,
   "id": "55410d84",
   "metadata": {},
   "outputs": [
    {
     "data": {
      "text/plain": [
       "6"
      ]
     },
     "execution_count": 292,
     "metadata": {},
     "output_type": "execute_result"
    }
   ],
   "source": [
    "# If we raise the probability threshold to 70%, we cut it down to 6 women.\n",
    "len(train_transformed[\n",
    "    (train_transformed[\"Sex\"] == 1) &\n",
    "    (train_transformed[\"0\"] >= 0.7)\n",
    "][\"0\"])"
   ]
  },
  {
   "cell_type": "code",
   "execution_count": 293,
   "id": "f172061f",
   "metadata": {},
   "outputs": [
    {
     "data": {
      "text/plain": [
       "24"
      ]
     },
     "execution_count": 293,
     "metadata": {},
     "output_type": "execute_result"
    }
   ],
   "source": [
    "# Here are all the men the machine learning model will predict to survive.\n",
    "len(train_transformed[\n",
    "    (train_transformed[\"Sex\"] == 0) &\n",
    "    (train_transformed[\"1\"] > 0.5)\n",
    "][\"0\"])"
   ]
  },
  {
   "cell_type": "code",
   "execution_count": 294,
   "id": "ae2c1232",
   "metadata": {},
   "outputs": [
    {
     "data": {
      "text/plain": [
       "6"
      ]
     },
     "execution_count": 294,
     "metadata": {},
     "output_type": "execute_result"
    }
   ],
   "source": [
    "# If we raise the probability threshold to 70%, we cut it down to 6 men.\n",
    "len(train_transformed[\n",
    "    (train_transformed[\"Sex\"] == 0) &\n",
    "    (train_transformed[\"1\"] >= 0.7)\n",
    "][\"1\"])"
   ]
  },
  {
   "cell_type": "code",
   "execution_count": 295,
   "id": "ee595a23",
   "metadata": {},
   "outputs": [],
   "source": [
    "# Now, we add our predictions to the original model that scored 79.6%"
   ]
  },
  {
   "cell_type": "code",
   "execution_count": 296,
   "id": "106f0d4c",
   "metadata": {},
   "outputs": [],
   "source": [
    "# Creating the test dataframe we will predict on\n",
    "X_test = x_test_transformed_df[\n",
    "    (x_test_transformed_df[\"family_total_train\"] == 0) &\n",
    "    (x_test_transformed_df[\"ticket_total_train\"] == 0)][\n",
    "    [\"Sex\", \"adult\", \"Pclass\", \"c_fare\", \"q_fare\", \"s_fare\",\n",
    "     \"family_members\"]].copy()"
   ]
  },
  {
   "cell_type": "code",
   "execution_count": 297,
   "id": "0703d45d",
   "metadata": {},
   "outputs": [],
   "source": [
    "# Using the trained clf to predict class probabilities\n",
    "test_probs = pd.DataFrame(\n",
    "    clf.predict_proba(X_test))"
   ]
  },
  {
   "cell_type": "code",
   "execution_count": 298,
   "id": "5b64b7e6",
   "metadata": {},
   "outputs": [
    {
     "data": {
      "text/html": [
       "<div>\n",
       "<style scoped>\n",
       "    .dataframe tbody tr th:only-of-type {\n",
       "        vertical-align: middle;\n",
       "    }\n",
       "\n",
       "    .dataframe tbody tr th {\n",
       "        vertical-align: top;\n",
       "    }\n",
       "\n",
       "    .dataframe thead th {\n",
       "        text-align: right;\n",
       "    }\n",
       "</style>\n",
       "<table border=\"1\" class=\"dataframe\">\n",
       "  <thead>\n",
       "    <tr style=\"text-align: right;\">\n",
       "      <th></th>\n",
       "      <th>0</th>\n",
       "      <th>1</th>\n",
       "    </tr>\n",
       "  </thead>\n",
       "  <tbody>\n",
       "    <tr>\n",
       "      <th>0</th>\n",
       "      <td>0.127529</td>\n",
       "      <td>0.872471</td>\n",
       "    </tr>\n",
       "    <tr>\n",
       "      <th>1</th>\n",
       "      <td>0.984463</td>\n",
       "      <td>0.015537</td>\n",
       "    </tr>\n",
       "    <tr>\n",
       "      <th>2</th>\n",
       "      <td>0.859007</td>\n",
       "      <td>0.140993</td>\n",
       "    </tr>\n",
       "    <tr>\n",
       "      <th>3</th>\n",
       "      <td>0.219061</td>\n",
       "      <td>0.780939</td>\n",
       "    </tr>\n",
       "    <tr>\n",
       "      <th>4</th>\n",
       "      <td>0.997785</td>\n",
       "      <td>0.002215</td>\n",
       "    </tr>\n",
       "    <tr>\n",
       "      <th>...</th>\n",
       "      <td>...</td>\n",
       "      <td>...</td>\n",
       "    </tr>\n",
       "    <tr>\n",
       "      <th>196</th>\n",
       "      <td>0.265988</td>\n",
       "      <td>0.734012</td>\n",
       "    </tr>\n",
       "    <tr>\n",
       "      <th>197</th>\n",
       "      <td>0.574850</td>\n",
       "      <td>0.425150</td>\n",
       "    </tr>\n",
       "    <tr>\n",
       "      <th>198</th>\n",
       "      <td>0.874860</td>\n",
       "      <td>0.125140</td>\n",
       "    </tr>\n",
       "    <tr>\n",
       "      <th>199</th>\n",
       "      <td>0.962514</td>\n",
       "      <td>0.037486</td>\n",
       "    </tr>\n",
       "    <tr>\n",
       "      <th>200</th>\n",
       "      <td>0.874860</td>\n",
       "      <td>0.125140</td>\n",
       "    </tr>\n",
       "  </tbody>\n",
       "</table>\n",
       "<p>201 rows × 2 columns</p>\n",
       "</div>"
      ],
      "text/plain": [
       "            0         1\n",
       "0    0.127529  0.872471\n",
       "1    0.984463  0.015537\n",
       "2    0.859007  0.140993\n",
       "3    0.219061  0.780939\n",
       "4    0.997785  0.002215\n",
       "..        ...       ...\n",
       "196  0.265988  0.734012\n",
       "197  0.574850  0.425150\n",
       "198  0.874860  0.125140\n",
       "199  0.962514  0.037486\n",
       "200  0.874860  0.125140\n",
       "\n",
       "[201 rows x 2 columns]"
      ]
     },
     "execution_count": 298,
     "metadata": {},
     "output_type": "execute_result"
    }
   ],
   "source": [
    "test_probs"
   ]
  },
  {
   "cell_type": "code",
   "execution_count": 299,
   "id": "b802b20f",
   "metadata": {},
   "outputs": [],
   "source": [
    "# initializing test probabilities to nan for all test set members\n",
    "x_test_transformed_df[[\"0\", \"1\"]] = (np.nan, np.nan)"
   ]
  },
  {
   "cell_type": "code",
   "execution_count": 300,
   "id": "bc2b8b46",
   "metadata": {},
   "outputs": [],
   "source": [
    "# Updating the probabilities on the test set for death\n",
    "x_test_transformed_df.loc[\n",
    "    (x_test_transformed_df[\"family_total_train\"] == 0) &\n",
    "    (x_test_transformed_df[\"ticket_total_train\"] == 0),\n",
    "    [\"0\"]] = list(test_probs[0])"
   ]
  },
  {
   "cell_type": "code",
   "execution_count": 301,
   "id": "29bbdc40",
   "metadata": {},
   "outputs": [],
   "source": [
    "# Updating the probabilities on the test set for survival\n",
    "x_test_transformed_df.loc[\n",
    "    (x_test_transformed_df[\"family_total_train\"] == 0) &\n",
    "    (x_test_transformed_df[\"ticket_total_train\"] == 0),\n",
    "    [\"1\"]] = list(test_probs[1])"
   ]
  },
  {
   "cell_type": "code",
   "execution_count": 302,
   "id": "630b8adb",
   "metadata": {},
   "outputs": [],
   "source": [
    "# updating to predict women die on the test set when predict_proba is over\n",
    "# 70%\n",
    "x_test_transformed_df.loc[\n",
    "    (x_test_transformed_df[\"Sex\"] == 1) &\n",
    "    (x_test_transformed_df[\"0\"] > 0.7), [\"Survived\"]] = 0"
   ]
  },
  {
   "cell_type": "code",
   "execution_count": 303,
   "id": "2081dab9",
   "metadata": {},
   "outputs": [],
   "source": [
    "# updating to predict men live on the test set when predict_proba is over\n",
    "# 70%\n",
    "x_test_transformed_df.loc[\n",
    "    (x_test_transformed_df[\"Sex\"] == 0) &\n",
    "    (x_test_transformed_df[\"1\"] > 0.7), [\"Survived\"]] = 1"
   ]
  },
  {
   "cell_type": "code",
   "execution_count": 304,
   "id": "4ce9eeac",
   "metadata": {},
   "outputs": [
    {
     "data": {
      "text/plain": [
       "3"
      ]
     },
     "execution_count": 304,
     "metadata": {},
     "output_type": "execute_result"
    }
   ],
   "source": [
    "# We have predicted 3 women will die\n",
    "len(x_test_transformed_df[\n",
    "    (x_test_transformed_df[\"Sex\"] == 1) &\n",
    "    (x_test_transformed_df[\"0\"] > 0.70)\n",
    "][\"0\"])"
   ]
  },
  {
   "cell_type": "code",
   "execution_count": 305,
   "id": "7031733d",
   "metadata": {},
   "outputs": [
    {
     "data": {
      "text/plain": [
       "0"
      ]
     },
     "execution_count": 305,
     "metadata": {},
     "output_type": "execute_result"
    }
   ],
   "source": [
    "# We have predicted 0 men will live\n",
    "len(x_test_transformed_df[\n",
    "    (x_test_transformed_df[\"Sex\"] == 0) &\n",
    "    (x_test_transformed_df[\"1\"] > 0.70)\n",
    "][\"0\"])"
   ]
  },
  {
   "cell_type": "code",
   "execution_count": 306,
   "id": "7f60077e",
   "metadata": {},
   "outputs": [],
   "source": [
    "# Creating a second submission df\n",
    "submission_2_df = x_test_transformed_df[[\"PassengerId\", \"Survived\"]].copy()"
   ]
  },
  {
   "cell_type": "code",
   "execution_count": 307,
   "id": "923590d8",
   "metadata": {},
   "outputs": [],
   "source": [
    "# exporting to csv\n",
    "filepath = Path(\n",
    "    'C:/Users/chris/Machine Learning/Kaggle/titanic/submissions/family_group_model/Submission_2.csv')\n",
    "submission_2_df.to_csv(filepath, index = False)"
   ]
  },
  {
   "cell_type": "code",
   "execution_count": 308,
   "id": "a2c1e465",
   "metadata": {},
   "outputs": [],
   "source": [
    "# This lowered my prediction accuracy from 79.6% to 79.4%, meaning that \n",
    "# I was probably wrong twice and correct once."
   ]
  },
  {
   "cell_type": "code",
   "execution_count": 309,
   "id": "3e005fba",
   "metadata": {},
   "outputs": [],
   "source": [
    "# Overall, here are my thoughts on what went well and what went poorly \n",
    "# for the algorithm:\n",
    "#\n",
    "# 1) I think the adult classifications may have led to some bad results.  I \n",
    "# tried to classify adults who had parents as children, and this may have \n",
    "# led to some of the decrease in results from the model I was inspired by.\n",
    "#\n",
    "# 2) I could have gone a different direction and imputed the age variable.\n",
    "# Also, I think it would have been beneficial to scale age and fare to a \n",
    "# similar scale as all other variables\n",
    "#\n",
    "# 3) I could have put more thought into exploring the cabin category\n",
    "#\n",
    "# 4) I tried my best not to overfit to the train data and be impartial about \n",
    "# logical rules, but a large portion of the model comes down to rules which\n",
    "# I had to make guesses on.\n",
    "# \n",
    "# 5) I could have explored different algorithms for classifying the single\n",
    "# passengers."
   ]
  }
 ],
 "metadata": {
  "kernelspec": {
   "display_name": "Python 3 (ipykernel)",
   "language": "python",
   "name": "python3"
  },
  "language_info": {
   "codemirror_mode": {
    "name": "ipython",
    "version": 3
   },
   "file_extension": ".py",
   "mimetype": "text/x-python",
   "name": "python",
   "nbconvert_exporter": "python",
   "pygments_lexer": "ipython3",
   "version": "3.8.12"
  }
 },
 "nbformat": 4,
 "nbformat_minor": 5
}
